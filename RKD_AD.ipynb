{
 "cells": [
  {
   "cell_type": "code",
   "execution_count": 13,
   "metadata": {
    "collapsed": true
   },
   "outputs": [
    {
     "name": "stdout",
     "output_type": "stream",
     "text": [
      "cuda:0\n"
     ]
    }
   ],
   "source": [
    "import torch\n",
    "import torchvision\n",
    "import torchvision.transforms as transforms\n",
    "from torch.utils.data import Dataset, SubsetRandomSampler\n",
    "import torch.nn as nn\n",
    "from torchvision import datasets\n",
    "import numpy as np\n",
    "from PIL import Image\n",
    "from pytorch_model_summary import summary\n",
    "device = torch.device('cuda:0' if torch.cuda.is_available() else 'cpu')\n",
    "\n",
    "# Assuming that we are on a CUDA machine, this should print a CUDA device:\n",
    "\n",
    "print(device)\n"
   ]
  },
  {
   "cell_type": "code",
   "execution_count": 2,
   "outputs": [],
   "source": [
    "import os\n",
    "cwd = os.getcwd()\n",
    "path = os.path.join(cwd, 'data')\n",
    "path = os.path.join(path, 'mvtec_AD')\n",
    "path = os.path.join(path, 'bottle')\n",
    "path = os.path.join(path, 'train')\n",
    "path = os.path.join(path, 'good')\n",
    "#filename = os.path.join(path, '000.png')\n",
    "\n",
    "\n"
   ],
   "metadata": {
    "collapsed": false,
    "pycharm": {
     "name": "#%%\n"
    }
   }
  },
  {
   "cell_type": "code",
   "execution_count": 3,
   "outputs": [],
   "source": [
    "img_h = 224\n",
    "img_w = 224\n",
    "# Wide-ResNet preprocessing\n",
    "from torchvision import transforms\n",
    "preprocess = transforms.Compose([\n",
    "    transforms.Resize((img_h,img_w)),\n",
    "    #transforms.CenterCrop(224),\n",
    "    transforms.ToTensor(),\n",
    "    transforms.Normalize(mean=[0.485, 0.456, 0.406], std=[0.229, 0.224, 0.225]),\n",
    "])"
   ],
   "metadata": {
    "collapsed": false,
    "pycharm": {
     "name": "#%%\n"
    }
   }
  },
  {
   "cell_type": "code",
   "execution_count": 4,
   "outputs": [],
   "source": [
    "class MyDataset(Dataset):\n",
    "    def __init__(self, image_ids, image_dir, transform, target_transform=None):\n",
    "        self.image_ids = image_ids\n",
    "        self.image_dir = image_dir\n",
    "        self.transform = transform\n",
    "        self.target_transform = target_transform\n",
    "\n",
    "    def __getitem__(self, index):\n",
    "        image = Image.open(os.path.join(self.image_dir, self.image_ids[index]))\n",
    "        if self.transform:\n",
    "            image = self.transform(image)\n",
    "\n",
    "        x, y = image, image\n",
    "        return x, y\n",
    "\n",
    "    def __len__(self):\n",
    "        return len(self.image_ids)"
   ],
   "metadata": {
    "collapsed": false,
    "pycharm": {
     "name": "#%%\n"
    }
   }
  },
  {
   "cell_type": "code",
   "execution_count": 5,
   "outputs": [],
   "source": [
    "dataset = MyDataset(os.listdir(path), path, preprocess)\n",
    "batch_size = 16\n",
    "validation_split = .2\n",
    "shuffle_dataset = True\n",
    "random_seed= 42\n",
    "\n",
    "# Creating data indices for training and validation splits:\n",
    "dataset_size = len(dataset)\n",
    "indices = list(range(dataset_size))\n",
    "split = int(np.floor(validation_split * dataset_size))\n",
    "if shuffle_dataset :\n",
    "    np.random.seed(random_seed)\n",
    "    np.random.shuffle(indices)\n",
    "train_indices, val_indices = indices[split:], indices[:split]\n",
    "\n",
    "# Creating PT data samplers and loaders:\n",
    "train_sampler = SubsetRandomSampler(train_indices)\n",
    "valid_sampler = SubsetRandomSampler(val_indices)\n",
    "\n",
    "train_loader = torch.utils.data.DataLoader(dataset, batch_size=batch_size,\n",
    "                                           sampler=train_sampler)\n",
    "validation_loader = torch.utils.data.DataLoader(dataset, batch_size=batch_size,\n",
    "                                                sampler=valid_sampler)"
   ],
   "metadata": {
    "collapsed": false,
    "pycharm": {
     "name": "#%%\n"
    }
   }
  },
  {
   "cell_type": "code",
   "execution_count": 14,
   "outputs": [
    {
     "name": "stdout",
     "output_type": "stream",
     "text": [
      "209\n",
      "168\n",
      "41\n"
     ]
    }
   ],
   "source": [
    "print(len(dataset))\n",
    "print(len(train_loader.sampler))\n",
    "print(len(validation_loader.sampler))\n"
   ],
   "metadata": {
    "collapsed": false,
    "pycharm": {
     "name": "#%%\n"
    }
   }
  },
  {
   "cell_type": "code",
   "execution_count": 81,
   "outputs": [],
   "source": [
    "\n",
    "class CustomResNet(nn.Module):\n",
    "    def __init__(self, model):\n",
    "        super(CustomResNet, self).__init__()\n",
    "\n",
    "        self.l1 = nn.Sequential(model.conv1,\n",
    "                                model.bn1,\n",
    "                                model.relu,\n",
    "                                model.maxpool,\n",
    "                                model.layer1)\n",
    "        self.l2 = nn.Sequential(\n",
    "                                model.layer2)\n",
    "        self.l3 = nn.Sequential(\n",
    "                                model.layer3)\n",
    "    def forward(self, x):\n",
    "        x1 = self.l1(x)\n",
    "        x2 = self.l2(x1)\n",
    "        x3 = self.l3(x2)\n",
    "        return x1, x2, x3\n"
   ],
   "metadata": {
    "collapsed": false,
    "pycharm": {
     "name": "#%%\n"
    }
   }
  },
  {
   "cell_type": "code",
   "execution_count": 62,
   "outputs": [],
   "source": [
    "from typing import Callable, List, Optional, Type, Union\n",
    "\n",
    "import torch\n",
    "from torch import Tensor, nn\n",
    "from torchvision.models.resnet import BasicBlock, Bottleneck\n",
    "\n",
    "\n",
    "def conv3x3(in_planes: int, out_planes: int, stride: int = 1, groups: int = 1, dilation: int = 1) -> nn.Conv2d:\n",
    "    \"\"\"3x3 convolution with padding.\"\"\"\n",
    "    return nn.Conv2d(\n",
    "        in_planes,\n",
    "        out_planes,\n",
    "        kernel_size=3,\n",
    "        stride=stride,\n",
    "        padding=dilation,\n",
    "        groups=groups,\n",
    "        bias=False,\n",
    "        dilation=dilation,\n",
    "    )\n",
    "\n",
    "\n",
    "def conv1x1(in_planes: int, out_planes: int, stride: int = 1) -> nn.Conv2d:\n",
    "    \"\"\"1x1 convolution.\"\"\"\n",
    "    return nn.Conv2d(in_planes, out_planes, kernel_size=1, stride=stride, bias=False)\n",
    "\n",
    "\n",
    "class OCBE(nn.Module):\n",
    "    \"\"\"One-Class Bottleneck Embedding module.\n",
    "    Args:\n",
    "        block (Bottleneck): Expansion value is extracted from this block.\n",
    "        layers (int): Numbers of OCE layers to create after multiscale feature fusion.\n",
    "        groups (int, optional): Number of blocked connections from input channels to output channels.\n",
    "            Defaults to 1.\n",
    "        width_per_group (int, optional): Number of layers in each intermediate convolution layer. Defaults to 64.\n",
    "        norm_layer (Optional[Callable[..., nn.Module]], optional): Batch norm layer to use. Defaults to None.\n",
    "    \"\"\"\n",
    "\n",
    "    def __init__(\n",
    "        self,\n",
    "        block: Type[Union[Bottleneck, BasicBlock]],\n",
    "        layers: int,\n",
    "        groups: int = 1,\n",
    "        width_per_group: int = 64,\n",
    "        norm_layer: Optional[Callable[..., nn.Module]] = None,\n",
    "    ):\n",
    "        super().__init__()\n",
    "        if norm_layer is None:\n",
    "            norm_layer = nn.BatchNorm2d\n",
    "        self._norm_layer = norm_layer\n",
    "        self.groups = groups\n",
    "        self.base_width = width_per_group\n",
    "        self.inplanes = 256 * block.expansion\n",
    "        self.dilation = 1\n",
    "        self.bn_layer = self._make_layer(block, 512, layers, stride=2)\n",
    "\n",
    "        self.conv1 = conv3x3(64 * block.expansion, 128 * block.expansion, 2)\n",
    "        self.bn1 = norm_layer(128 * block.expansion)\n",
    "        self.relu = nn.ReLU(inplace=True)\n",
    "        self.conv2 = conv3x3(128 * block.expansion, 256 * block.expansion, 2)\n",
    "        self.bn2 = norm_layer(256 * block.expansion)\n",
    "        self.conv3 = conv3x3(128 * block.expansion, 256 * block.expansion, 2)\n",
    "        self.bn3 = norm_layer(256 * block.expansion)\n",
    "\n",
    "        # This is present in the paper but not in the original code. With some initial experiments, removing this leads\n",
    "        # to better results\n",
    "        # self.conv4 = conv1x1(256 * block.expansion * 3, 256 * block.expansion * 3, 1)  # x3 as we concatenate 3 layers\n",
    "        # self.bn4 = norm_layer(256 * block.expansion * 3)\n",
    "\n",
    "        for module in self.modules():\n",
    "            if isinstance(module, nn.Conv2d):\n",
    "                nn.init.kaiming_normal_(module.weight, mode=\"fan_out\", nonlinearity=\"relu\")\n",
    "            elif isinstance(module, (nn.BatchNorm2d, nn.GroupNorm)):\n",
    "                nn.init.constant_(module.weight, 1)\n",
    "                nn.init.constant_(module.bias, 0)\n",
    "\n",
    "    def _make_layer(\n",
    "        self,\n",
    "        block: Type[Union[Bottleneck, BasicBlock]],\n",
    "        planes: int,\n",
    "        blocks: int,\n",
    "        stride: int = 1,\n",
    "        dilate: bool = False,\n",
    "    ) -> nn.Sequential:\n",
    "        norm_layer = self._norm_layer\n",
    "        downsample = None\n",
    "        previous_dilation = self.dilation\n",
    "        if dilate:\n",
    "            self.dilation *= stride\n",
    "            stride = 1\n",
    "        if stride != 1 or self.inplanes != planes * block.expansion:\n",
    "            downsample = nn.Sequential(\n",
    "                conv1x1(self.inplanes * 3, planes * block.expansion, stride),\n",
    "                norm_layer(planes * block.expansion),\n",
    "            )\n",
    "\n",
    "        layers = []\n",
    "        layers.append(\n",
    "            block(\n",
    "                self.inplanes * 3,\n",
    "                planes,\n",
    "                stride,\n",
    "                downsample,\n",
    "                self.groups,\n",
    "                self.base_width,\n",
    "                previous_dilation,\n",
    "                norm_layer,\n",
    "            )\n",
    "        )\n",
    "        self.inplanes = planes * block.expansion\n",
    "        for _ in range(1, blocks):\n",
    "            layers.append(\n",
    "                block(\n",
    "                    self.inplanes,\n",
    "                    planes,\n",
    "                    groups=self.groups,\n",
    "                    base_width=self.base_width,\n",
    "                    dilation=self.dilation,\n",
    "                    norm_layer=norm_layer,\n",
    "                )\n",
    "            )\n",
    "\n",
    "        return nn.Sequential(*layers)\n",
    "\n",
    "    def forward(self, features: List[Tensor]) -> Tensor:\n",
    "        \"\"\"Forward-pass of Bottleneck layer.\n",
    "        Args:\n",
    "            features (List[Tensor]): List of features extracted from the encoder.\n",
    "        Returns:\n",
    "            Tensor: Output of the bottleneck layer\n",
    "        \"\"\"\n",
    "        # Always assumes that features has length of 3\n",
    "        feature0 = self.relu(self.bn2(self.conv2(self.relu(self.bn1(self.conv1(features[0]))))))\n",
    "        feature1 = self.relu(self.bn3(self.conv3(features[1])))\n",
    "        feature_cat = torch.cat([feature0, feature1, features[2]], 1)\n",
    "        output = self.bn_layer(feature_cat)\n",
    "        #output = self.bn_layer(self.bn4(self.conv4(feature_cat)))\n",
    "\n",
    "        return output.contiguous()"
   ],
   "metadata": {
    "collapsed": false,
    "pycharm": {
     "name": "#%%\n"
    }
   }
  },
  {
   "cell_type": "code",
   "execution_count": 64,
   "outputs": [],
   "source": [
    "from typing import Any, Callable, List, Optional, Type, Union, Tuple\n",
    "\n",
    "from torch import Tensor, nn\n",
    "from torchvision.models.resnet import conv1x1, conv3x3\n",
    "\n",
    "class DecoderBasicBlock(nn.Module):\n",
    "    \"\"\"Basic block for decoder ResNet architecture.\n",
    "    Args:\n",
    "        inplanes (int): Number of input channels.\n",
    "        planes (int): Number of output channels.\n",
    "        stride (int, optional): Stride for convolution and de-convolution layers. Defaults to 1.\n",
    "        upsample (Optional[nn.Module], optional): Module used for upsampling output. Defaults to None.\n",
    "        groups (int, optional): Number of blocked connections from input channels to output channels.\n",
    "            Defaults to 1.\n",
    "        base_width (int, optional): Number of layers in each intermediate convolution layer. Defaults to 64.\n",
    "        dilation (int, optional): Spacing between kernel elements. Defaults to 1.\n",
    "        norm_layer (Optional[Callable[..., nn.Module]], optional): Batch norm layer to use.Defaults to None.\n",
    "    Raises:\n",
    "        ValueError: If groups are not equal to 1 and base width is not 64.\n",
    "        NotImplementedError: If dilation is greater than 1.\n",
    "    \"\"\"\n",
    "\n",
    "    expansion: int = 1\n",
    "\n",
    "    def __init__(\n",
    "        self,\n",
    "        inplanes: int,\n",
    "        planes: int,\n",
    "        stride: int = 1,\n",
    "        upsample: Optional[nn.Module] = None,\n",
    "        groups: int = 1,\n",
    "        base_width: int = 64,\n",
    "        dilation: int = 1,\n",
    "        norm_layer: Optional[Callable[..., nn.Module]] = None,\n",
    "    ) -> None:\n",
    "        super().__init__()\n",
    "        if norm_layer is None:\n",
    "            norm_layer = nn.BatchNorm2d\n",
    "        if groups != 1 or base_width != 64:\n",
    "            raise ValueError(\"BasicBlock only supports groups=1 and base_width=64\")\n",
    "        if dilation > 1:\n",
    "            raise NotImplementedError(\"Dilation > 1 not supported in BasicBlock\")\n",
    "        # Both self.conv1 and self.downsample layers downsample the input when stride != 2\n",
    "        if stride == 2:\n",
    "            self.conv1 = nn.ConvTranspose2d(\n",
    "                inplanes, planes, kernel_size=2, stride=stride, groups=groups, bias=False, dilation=dilation\n",
    "            )\n",
    "        else:\n",
    "            self.conv1 = conv3x3(inplanes, planes, stride)\n",
    "        self.bn1 = norm_layer(planes)\n",
    "        self.relu = nn.ReLU(inplace=True)\n",
    "        self.conv2 = conv3x3(planes, planes)\n",
    "        self.bn2 = norm_layer(planes)\n",
    "        self.upsample = upsample\n",
    "        self.stride = stride\n",
    "\n",
    "    def forward(self, batch: Tensor) -> Tensor:\n",
    "        \"\"\"Forward-pass of de-resnet block.\"\"\"\n",
    "        identity = batch\n",
    "\n",
    "        out = self.conv1(batch)\n",
    "        out = self.bn1(out)\n",
    "        out = self.relu(out)\n",
    "\n",
    "        out = self.conv2(out)\n",
    "        out = self.bn2(out)\n",
    "\n",
    "        if self.upsample is not None:\n",
    "            identity = self.upsample(batch)\n",
    "\n",
    "        out += identity\n",
    "        out = self.relu(out)\n",
    "\n",
    "        return out\n",
    "\n",
    "\n",
    "class DecoderBottleneck(nn.Module):\n",
    "    \"\"\"Bottleneck for Decoder.\n",
    "    Args:\n",
    "        inplanes (int): Number of input channels.\n",
    "        planes (int): Number of output channels.\n",
    "        stride (int, optional): Stride for convolution and de-convolution layers. Defaults to 1.\n",
    "        upsample (Optional[nn.Module], optional): Module used for upsampling output. Defaults to None.\n",
    "        groups (int, optional): Number of blocked connections from input channels to output channels.\n",
    "            Defaults to 1.\n",
    "        base_width (int, optional): Number of layers in each intermediate convolution layer. Defaults to 64.\n",
    "        dilation (int, optional): Spacing between kernel elements. Defaults to 1.\n",
    "        norm_layer (Optional[Callable[..., nn.Module]], optional): Batch norm layer to use.Defaults to None.\n",
    "    \"\"\"\n",
    "\n",
    "    expansion: int = 4\n",
    "\n",
    "    def __init__(\n",
    "        self,\n",
    "        inplanes: int,\n",
    "        planes: int,\n",
    "        stride: int = 1,\n",
    "        upsample: Optional[nn.Module] = None,\n",
    "        groups: int = 1,\n",
    "        base_width: int = 64,\n",
    "        dilation: int = 1,\n",
    "        norm_layer: Optional[Callable[..., nn.Module]] = None,\n",
    "    ) -> None:\n",
    "        super().__init__()\n",
    "        if norm_layer is None:\n",
    "            norm_layer = nn.BatchNorm2d\n",
    "        width = int(planes * (base_width / 64.0)) * groups\n",
    "        # Both self.conv2 and self.downsample layers downsample the input when stride != 2\n",
    "        self.conv1 = conv1x1(inplanes, width)\n",
    "        self.bn1 = norm_layer(width)\n",
    "        if stride == 2:\n",
    "            self.conv2 = nn.ConvTranspose2d(\n",
    "                width, width, kernel_size=2, stride=stride, groups=groups, bias=False, dilation=dilation\n",
    "            )\n",
    "        else:\n",
    "            self.conv2 = conv3x3(width, width, stride, groups, dilation)\n",
    "        self.bn2 = norm_layer(width)\n",
    "        self.conv3 = conv1x1(width, planes * self.expansion)\n",
    "        self.bn3 = norm_layer(planes * self.expansion)\n",
    "        self.relu = nn.ReLU(inplace=True)\n",
    "        self.upsample = upsample\n",
    "        self.stride = stride\n",
    "\n",
    "    def forward(self, batch: Tensor) -> Tensor:\n",
    "        \"\"\"Forward-pass of de-resnet bottleneck block.\"\"\"\n",
    "        identity = batch\n",
    "\n",
    "        out = self.conv1(batch)\n",
    "        out = self.bn1(out)\n",
    "        out = self.relu(out)\n",
    "\n",
    "        out = self.conv2(out)\n",
    "        out = self.bn2(out)\n",
    "        out = self.relu(out)\n",
    "\n",
    "        out = self.conv3(out)\n",
    "        out = self.bn3(out)\n",
    "\n",
    "        if self.upsample is not None:\n",
    "            identity = self.upsample(batch)\n",
    "\n",
    "        out += identity\n",
    "        out = self.relu(out)\n",
    "\n",
    "        return out\n",
    "\n",
    "\n",
    "class ResNet(nn.Module):\n",
    "    \"\"\"ResNet model for decoder.\n",
    "    Args:\n",
    "        block (Type[Union[DecoderBasicBlock, DecoderBottleneck]]): Type of block to use in a layer.\n",
    "        layers (List[int]): List to specify number for blocks per layer.\n",
    "        zero_init_residual (bool, optional): If true, initializes the last batch norm in each layer to zero.\n",
    "            Defaults to False.\n",
    "        groups (int, optional): Number of blocked connections per layer from input channels to output channels.\n",
    "            Defaults to 1.\n",
    "        width_per_group (int, optional): Number of layers in each intermediate convolution layer.. Defaults to 64.\n",
    "        norm_layer (Optional[Callable[..., nn.Module]], optional): Batch norm layer to use. Defaults to None.\n",
    "    \"\"\"\n",
    "\n",
    "    def __init__(\n",
    "        self,\n",
    "        block: Type[Union[DecoderBasicBlock, DecoderBottleneck]],\n",
    "        layers: List[int],\n",
    "        zero_init_residual: bool = False,\n",
    "        groups: int = 1,\n",
    "        width_per_group: int = 64,\n",
    "        norm_layer: Optional[Callable[..., nn.Module]] = None,\n",
    "    ) -> None:\n",
    "        super().__init__()\n",
    "        if norm_layer is None:\n",
    "            norm_layer = nn.BatchNorm2d\n",
    "        self._norm_layer = norm_layer\n",
    "\n",
    "        self.inplanes = 512 * block.expansion\n",
    "        self.dilation = 1\n",
    "        self.groups = groups\n",
    "        self.base_width = width_per_group\n",
    "        self.layer1 = self._make_layer(block, 256, layers[0], stride=2)\n",
    "        self.layer2 = self._make_layer(block, 128, layers[1], stride=2)\n",
    "        self.layer3 = self._make_layer(block, 64, layers[2], stride=2)\n",
    "\n",
    "        for module in self.modules():\n",
    "            if isinstance(module, nn.Conv2d):\n",
    "                nn.init.kaiming_normal_(module.weight, mode=\"fan_out\", nonlinearity=\"relu\")\n",
    "            elif isinstance(module, (nn.BatchNorm2d, nn.GroupNorm)):\n",
    "                nn.init.constant_(module.weight, 1)\n",
    "                nn.init.constant_(module.bias, 0)\n",
    "\n",
    "        # Zero-initialize the last BN in each residual branch,\n",
    "        # so that the residual branch starts with zeros, and each residual block behaves like an identity.\n",
    "        # This improves the model by 0.2~0.3% according to https://arxiv.org/abs/1706.02677\n",
    "        if zero_init_residual:\n",
    "            for module in self.modules():\n",
    "                if isinstance(module, DecoderBottleneck):\n",
    "                    nn.init.constant_(module.bn3.weight, 0)  # type: ignore[arg-type]\n",
    "                elif isinstance(module, DecoderBasicBlock):\n",
    "                    nn.init.constant_(module.bn2.weight, 0)  # type: ignore[arg-type]\n",
    "\n",
    "    def _make_layer(\n",
    "        self,\n",
    "        block: Type[Union[DecoderBasicBlock, DecoderBottleneck]],\n",
    "        planes: int,\n",
    "        blocks: int,\n",
    "        stride: int = 1,\n",
    "    ) -> nn.Sequential:\n",
    "        norm_layer = self._norm_layer\n",
    "        upsample = None\n",
    "        previous_dilation = self.dilation\n",
    "        if stride != 1 or self.inplanes != planes * block.expansion:\n",
    "            upsample = nn.Sequential(\n",
    "                nn.ConvTranspose2d(\n",
    "                    self.inplanes,\n",
    "                    planes * block.expansion,\n",
    "                    kernel_size=2,\n",
    "                    stride=stride,\n",
    "                    groups=self.groups,\n",
    "                    bias=False,\n",
    "                    dilation=self.dilation,\n",
    "                ),\n",
    "                norm_layer(planes * block.expansion),\n",
    "            )\n",
    "\n",
    "        layers = []\n",
    "        layers.append(\n",
    "            block(self.inplanes, planes, stride, upsample, self.groups, self.base_width, previous_dilation, norm_layer)\n",
    "        )\n",
    "        self.inplanes = planes * block.expansion\n",
    "        for _ in range(1, blocks):\n",
    "            layers.append(\n",
    "                block(\n",
    "                    self.inplanes,\n",
    "                    planes,\n",
    "                    groups=self.groups,\n",
    "                    base_width=self.base_width,\n",
    "                    dilation=self.dilation,\n",
    "                    norm_layer=norm_layer,\n",
    "                )\n",
    "            )\n",
    "\n",
    "        return nn.Sequential(*layers)\n",
    "\n",
    "    def forward(self, batch: Tensor) -> List[Tensor]:\n",
    "        \"\"\"Forward pass for Decoder ResNet. Returns list of features.\"\"\"\n",
    "        feature_a = self.layer1(batch)  # 512*8*8->256*16*16\n",
    "        feature_b = self.layer2(feature_a)  # 256*16*16->128*32*32\n",
    "        feature_c = self.layer3(feature_b)  # 128*32*32->64*64*64\n",
    "\n",
    "        return [feature_c, feature_b, feature_a]\n",
    "\n",
    "def _resnet(block: Type[Union[DecoderBasicBlock, DecoderBottleneck]], layers: List[int], **kwargs: Any) -> ResNet:\n",
    "    model = ResNet(block, layers, **kwargs)\n",
    "    return model\n",
    "\n",
    "def de_wide_resnet50_2() -> ResNet:\n",
    "    \"\"\"Wide ResNet-50-2 model.\"\"\"\n",
    "    return _resnet(DecoderBottleneck, [3, 4, 6, 3], width_per_group=128)"
   ],
   "metadata": {
    "collapsed": false,
    "pycharm": {
     "name": "#%%\n"
    }
   }
  },
  {
   "cell_type": "code",
   "execution_count": 82,
   "outputs": [
    {
     "name": "stderr",
     "output_type": "stream",
     "text": [
      "Using cache found in C:\\Users\\user/.cache\\torch\\hub\\pytorch_vision_v0.10.0\n"
     ]
    },
    {
     "name": "stdout",
     "output_type": "stream",
     "text": [
      "-------------------------------------------------------------------------\n",
      "      Layer (type)          Output Shape         Param #     Tr. Param #\n",
      "=========================================================================\n",
      "          Conv2d-1     [1, 64, 112, 112]           9,408               0\n",
      "     BatchNorm2d-2     [1, 64, 112, 112]             128               0\n",
      "            ReLU-3     [1, 64, 112, 112]               0               0\n",
      "       MaxPool2d-4       [1, 64, 56, 56]               0               0\n",
      "      Bottleneck-5      [1, 256, 56, 56]         206,336               0\n",
      "      Bottleneck-6      [1, 256, 56, 56]         214,016               0\n",
      "      Bottleneck-7      [1, 256, 56, 56]         214,016               0\n",
      "      Bottleneck-8      [1, 512, 28, 28]         920,576               0\n",
      "      Bottleneck-9      [1, 512, 28, 28]         854,016               0\n",
      "     Bottleneck-10      [1, 512, 28, 28]         854,016               0\n",
      "     Bottleneck-11      [1, 512, 28, 28]         854,016               0\n",
      "     Bottleneck-12     [1, 1024, 14, 14]       3,676,160               0\n",
      "     Bottleneck-13     [1, 1024, 14, 14]       3,411,968               0\n",
      "     Bottleneck-14     [1, 1024, 14, 14]       3,411,968               0\n",
      "     Bottleneck-15     [1, 1024, 14, 14]       3,411,968               0\n",
      "     Bottleneck-16     [1, 1024, 14, 14]       3,411,968               0\n",
      "     Bottleneck-17     [1, 1024, 14, 14]       3,411,968               0\n",
      "=========================================================================\n",
      "Total params: 24,862,528\n",
      "Trainable params: 0\n",
      "Non-trainable params: 24,862,528\n",
      "-------------------------------------------------------------------------\n"
     ]
    }
   ],
   "source": [
    "#Testing components generation:\n",
    "from pytorch_model_summary import summary\n",
    "# load WRN-50-2:\n",
    "full_w_resnet = torch.hub.load('pytorch/vision:v0.10.0', 'wide_resnet50_2', pretrained=True)\n",
    "#encoder-architecture\n",
    "enc = CustomResNet(model=full_w_resnet)\n",
    "for param in enc.parameters():\n",
    "    param.requires_grad = False\n",
    "print(summary(enc, torch.zeros((1, 3, img_h, img_w))))"
   ],
   "metadata": {
    "collapsed": false,
    "pycharm": {
     "name": "#%%\n"
    }
   }
  },
  {
   "cell_type": "code",
   "execution_count": 83,
   "outputs": [
    {
     "name": "stdout",
     "output_type": "stream",
     "text": [
      "4\n",
      "-------------------------------------------------------------------------\n",
      "      Layer (type)          Output Shape         Param #     Tr. Param #\n",
      "=========================================================================\n",
      "          Conv2d-1      [1, 512, 28, 28]       1,179,648       1,179,648\n",
      "     BatchNorm2d-2      [1, 512, 28, 28]           1,024           1,024\n",
      "            ReLU-3      [1, 512, 28, 28]               0               0\n",
      "          Conv2d-4     [1, 1024, 14, 14]       4,718,592       4,718,592\n",
      "     BatchNorm2d-5     [1, 1024, 14, 14]           2,048           2,048\n",
      "            ReLU-6     [1, 1024, 14, 14]               0               0\n",
      "          Conv2d-7     [1, 1024, 14, 14]       4,718,592       4,718,592\n",
      "     BatchNorm2d-8     [1, 1024, 14, 14]           2,048           2,048\n",
      "            ReLU-9     [1, 1024, 14, 14]               0               0\n",
      "     Bottleneck-10       [1, 2048, 7, 7]      11,282,432      11,282,432\n",
      "     Bottleneck-11       [1, 2048, 7, 7]       4,462,592       4,462,592\n",
      "     Bottleneck-12       [1, 2048, 7, 7]       4,462,592       4,462,592\n",
      "=========================================================================\n",
      "Total params: 30,829,568\n",
      "Trainable params: 30,829,568\n",
      "Non-trainable params: 0\n",
      "-------------------------------------------------------------------------\n"
     ]
    }
   ],
   "source": [
    "ocbe = OCBE(Bottleneck, 3)\n",
    "print(summary(ocbe, enc(torch.zeros((1, 3, img_h, img_w)))))"
   ],
   "metadata": {
    "collapsed": false,
    "pycharm": {
     "name": "#%%\n"
    }
   }
  },
  {
   "cell_type": "code",
   "execution_count": 84,
   "outputs": [
    {
     "name": "stdout",
     "output_type": "stream",
     "text": [
      "------------------------------------------------------------------------------\n",
      "           Layer (type)          Output Shape         Param #     Tr. Param #\n",
      "==============================================================================\n",
      "    DecoderBottleneck-1     [1, 1024, 14, 14]      11,016,192      11,016,192\n",
      "    DecoderBottleneck-2     [1, 1024, 14, 14]       3,411,968       3,411,968\n",
      "    DecoderBottleneck-3     [1, 1024, 14, 14]       3,411,968       3,411,968\n",
      "    DecoderBottleneck-4      [1, 512, 28, 28]       2,755,584       2,755,584\n",
      "    DecoderBottleneck-5      [1, 512, 28, 28]         854,016         854,016\n",
      "    DecoderBottleneck-6      [1, 512, 28, 28]         854,016         854,016\n",
      "    DecoderBottleneck-7      [1, 512, 28, 28]         854,016         854,016\n",
      "    DecoderBottleneck-8      [1, 256, 56, 56]         689,664         689,664\n",
      "    DecoderBottleneck-9      [1, 256, 56, 56]         214,016         214,016\n",
      "   DecoderBottleneck-10      [1, 256, 56, 56]         214,016         214,016\n",
      "   DecoderBottleneck-11      [1, 256, 56, 56]         214,016         214,016\n",
      "   DecoderBottleneck-12      [1, 256, 56, 56]         214,016         214,016\n",
      "   DecoderBottleneck-13      [1, 256, 56, 56]         214,016         214,016\n",
      "==============================================================================\n",
      "Total params: 24,917,504\n",
      "Trainable params: 24,917,504\n",
      "Non-trainable params: 0\n",
      "------------------------------------------------------------------------------\n"
     ]
    }
   ],
   "source": [
    "decoder = de_wide_resnet50_2()\n",
    "print(summary(decoder, ocbe(enc(torch.zeros((1, 3, img_h, img_w))))))"
   ],
   "metadata": {
    "collapsed": false,
    "pycharm": {
     "name": "#%%\n"
    }
   }
  },
  {
   "cell_type": "code",
   "execution_count": 65,
   "outputs": [],
   "source": [
    "from typing import List, Tuple, Union\n",
    "\n",
    "import torch\n",
    "import torch.nn.functional as F\n",
    "from kornia.filters import gaussian_blur2d\n",
    "from torch import Tensor\n",
    "\n",
    "\n",
    "class AnomalyMapGenerator:\n",
    "    \"\"\"Generate Anomaly Heatmap.\n",
    "    Args:\n",
    "        image_size (Union[ListConfig, Tuple]): Size of original image used for upscaling the anomaly map.\n",
    "        sigma (int): Standard deviation of the gaussian kernel used to smooth anomaly map.\n",
    "        mode (str, optional): Operation used to generate anomaly map. Options are `add` and `multiply`.\n",
    "                Defaults to \"multiply\".\n",
    "    Raises:\n",
    "        ValueError: In case modes other than multiply and add are passed.\n",
    "    \"\"\"\n",
    "\n",
    "    def __init__(self, image_size: Tuple, sigma: int = 4, mode: str = \"multiply\"):\n",
    "        self.image_size = image_size\n",
    "        self.sigma = sigma\n",
    "        self.kernel_size = 2 * int(4.0 * sigma + 0.5) + 1\n",
    "\n",
    "        if mode not in (\"add\", \"multiply\"):\n",
    "            raise ValueError(f\"Found mode {mode}. Only multiply and add are supported.\")\n",
    "        self.mode = mode\n",
    "\n",
    "    def __call__(self, student_features: List[Tensor], teacher_features: List[Tensor]) -> Tensor:\n",
    "        \"\"\"Computes anomaly map given encoder and decoder features.\n",
    "        Args:\n",
    "            student_features (List[Tensor]): List of encoder features\n",
    "            teacher_features (List[Tensor]): List of decoder features\n",
    "        Returns:\n",
    "            Tensor: Anomaly maps of length batch.\n",
    "        \"\"\"\n",
    "        if self.mode == \"multiply\":\n",
    "            anomaly_map = torch.ones(\n",
    "                [student_features[0].shape[0], 1, *self.image_size], device=student_features[0].device\n",
    "            )  # b c h w\n",
    "        elif self.mode == \"add\":\n",
    "            anomaly_map = torch.zeros(\n",
    "                [student_features[0].shape[0], 1, *self.image_size], device=student_features[0].device\n",
    "            )\n",
    "\n",
    "        for student_feature, teacher_feature in zip(student_features, teacher_features):\n",
    "            distance_map = 1 - F.cosine_similarity(student_feature, teacher_feature)\n",
    "            distance_map = torch.unsqueeze(distance_map, dim=1)\n",
    "            distance_map = F.interpolate(distance_map, size=self.image_size, mode=\"bilinear\", align_corners=True)\n",
    "            if self.mode == \"multiply\":\n",
    "                anomaly_map *= distance_map\n",
    "            elif self.mode == \"add\":\n",
    "                anomaly_map += distance_map\n",
    "\n",
    "        anomaly_map = gaussian_blur2d(\n",
    "            anomaly_map, kernel_size=(self.kernel_size, self.kernel_size), sigma=(self.sigma, self.sigma)\n",
    "        )\n",
    "\n",
    "        return anomaly_map"
   ],
   "metadata": {
    "collapsed": false,
    "pycharm": {
     "name": "#%%\n"
    }
   }
  },
  {
   "cell_type": "code",
   "execution_count": 68,
   "outputs": [],
   "source": [
    "from typing import Any, Callable, List, Optional, Type, Union\n",
    "class ReverseDistillationModel(nn.Module):\n",
    "    \"\"\"Reverse Distillation Model.\n",
    "    Args:\n",
    "        backbone (str): Name of the backbone used for encoder and decoder\n",
    "        input_size (Tuple[int, int]): Size of input image\n",
    "        layers (List[str]): Name of layers from which the features are extracted.\n",
    "        anomaly_map_mode (str): Mode used to generate anomaly map. Options are between ``multiply`` and ``add``.\n",
    "    \"\"\"\n",
    "\n",
    "    def __init__(self, encoder, oceb, decoder, input_size = (224, 224), anomaly_map_mode: str = 'multiply'):\n",
    "        super().__init__()\n",
    "\n",
    "        for param in encoder.parameters():\n",
    "            param.requires_grad = False\n",
    "        self.encoder = encoder\n",
    "        self.oceb = oceb\n",
    "        self.decoder = decoder\n",
    "\n",
    "        image_size = input_size\n",
    "\n",
    "        self.anomaly_map_generator = AnomalyMapGenerator(image_size=tuple(image_size), mode=anomaly_map_mode)\n",
    "\n",
    "    def forward(self, images: Tensor) -> Union[Tensor, Tuple[List[Tensor], List[Tensor]]]:\n",
    "        \"\"\"Forward-pass images to the network.\n",
    "        During the training mode the model extracts features from encoder and decoder networks.\n",
    "        During evaluation mode, it returns the predicted anomaly map.\n",
    "        Args:\n",
    "            images (Tensor): Batch of images\n",
    "        Returns:\n",
    "            Union[Tensor, Tuple[List[Tensor],List[Tensor]]]: Encoder and decoder features in training mode,\n",
    "                else anomaly maps.\n",
    "        \"\"\"\n",
    "        self.encoder.eval()\n",
    "\n",
    "        encoder_features = self.encoder(images)\n",
    "        #encoder_features = list(encoder_features.values())\n",
    "\n",
    "        decoder_features = self.decoder(self.oceb(encoder_features))\n",
    "\n",
    "        if self.training:\n",
    "            output = encoder_features, decoder_features\n",
    "        else:\n",
    "            output = self.anomaly_map_generator(encoder_features, decoder_features)\n",
    "\n",
    "        return output"
   ],
   "metadata": {
    "collapsed": false,
    "pycharm": {
     "name": "#%%\n"
    }
   }
  },
  {
   "cell_type": "code",
   "execution_count": 70,
   "outputs": [
    {
     "name": "stderr",
     "output_type": "stream",
     "text": [
      "Using cache found in C:\\Users\\user/.cache\\torch\\hub\\pytorch_vision_v0.10.0\n"
     ]
    },
    {
     "name": "stdout",
     "output_type": "stream",
     "text": [
      "4\n",
      "-------------------------------------------------------------------------------------------------------------\n",
      "      Layer (type)                                              Output Shape         Param #     Tr. Param #\n",
      "=============================================================================================================\n",
      "    CustomResNet-1     [1, 256, 56, 56], [1, 512, 28, 28], [1, 1024, 14, 14]      68,883,240               0\n",
      "            OCBE-2                                           [1, 2048, 7, 7]      30,829,568      30,829,568\n",
      "          ResNet-3     [1, 256, 56, 56], [1, 512, 28, 28], [1, 1024, 14, 14]      24,917,504      24,917,504\n",
      "=============================================================================================================\n",
      "Total params: 124,630,312\n",
      "Trainable params: 55,747,072\n",
      "Non-trainable params: 68,883,240\n",
      "-------------------------------------------------------------------------------------------------------------\n"
     ]
    }
   ],
   "source": [
    "full_w_resnet = torch.hub.load('pytorch/vision:v0.10.0', 'wide_resnet50_2', pretrained=True)\n",
    "torch.cuda.empty_cache()\n",
    "model = ReverseDistillationModel(encoder=CustomResNet(model=full_w_resnet),\n",
    "                                 oceb=OCBE(Bottleneck, 3),\n",
    "                                 decoder=de_wide_resnet50_2()).to(device)\n",
    "\n",
    "print(summary(model, torch.zeros((1, 3, img_h, img_w)).to(device)))\n",
    "\n"
   ],
   "metadata": {
    "collapsed": false,
    "pycharm": {
     "name": "#%%\n"
    }
   }
  },
  {
   "cell_type": "code",
   "execution_count": 8,
   "outputs": [
    {
     "ename": "ValueError",
     "evalue": "optimizer got an empty parameter list",
     "output_type": "error",
     "traceback": [
      "\u001B[1;31m---------------------------------------------------------------------------\u001B[0m",
      "\u001B[1;31mValueError\u001B[0m                                Traceback (most recent call last)",
      "Input \u001B[1;32mIn [8]\u001B[0m, in \u001B[0;36m<cell line: 13>\u001B[1;34m()\u001B[0m\n\u001B[0;32m     11\u001B[0m loss_function \u001B[38;5;241m=\u001B[39m torch\u001B[38;5;241m.\u001B[39mnn\u001B[38;5;241m.\u001B[39mMSELoss()\n\u001B[0;32m     12\u001B[0m \u001B[38;5;66;03m# Using an Adam Optimizer with lr = 0.01\u001B[39;00m\n\u001B[1;32m---> 13\u001B[0m optimizer \u001B[38;5;241m=\u001B[39m \u001B[43mtorch\u001B[49m\u001B[38;5;241;43m.\u001B[39;49m\u001B[43moptim\u001B[49m\u001B[38;5;241;43m.\u001B[39;49m\u001B[43mAdam\u001B[49m\u001B[43m(\u001B[49m\u001B[38;5;28;43mfilter\u001B[39;49m\u001B[43m(\u001B[49m\u001B[38;5;28;43;01mlambda\u001B[39;49;00m\u001B[43m \u001B[49m\u001B[43mp\u001B[49m\u001B[43m:\u001B[49m\u001B[43m \u001B[49m\u001B[43mp\u001B[49m\u001B[38;5;241;43m.\u001B[39;49m\u001B[43mrequires_grad\u001B[49m\u001B[43m,\u001B[49m\u001B[43m \u001B[49m\u001B[43mmodel\u001B[49m\u001B[38;5;241;43m.\u001B[39;49m\u001B[43mparameters\u001B[49m\u001B[43m(\u001B[49m\u001B[43m)\u001B[49m\u001B[43m)\u001B[49m\u001B[43m,\u001B[49m\n\u001B[0;32m     14\u001B[0m \u001B[43m                             \u001B[49m\u001B[43mlr\u001B[49m\u001B[43m \u001B[49m\u001B[38;5;241;43m=\u001B[39;49m\u001B[43m \u001B[49m\u001B[38;5;241;43m1e-2\u001B[39;49m\u001B[43m,\u001B[49m\n\u001B[0;32m     15\u001B[0m \u001B[43m                             \u001B[49m\u001B[43mweight_decay\u001B[49m\u001B[43m \u001B[49m\u001B[38;5;241;43m=\u001B[39;49m\u001B[43m \u001B[49m\u001B[38;5;241;43m1e-8\u001B[39;49m\u001B[43m)\u001B[49m\n",
      "File \u001B[1;32m~\\anaconda3\\envs\\my-torch\\lib\\site-packages\\torch\\optim\\adam.py:81\u001B[0m, in \u001B[0;36mAdam.__init__\u001B[1;34m(self, params, lr, betas, eps, weight_decay, amsgrad, maximize)\u001B[0m\n\u001B[0;32m     78\u001B[0m     \u001B[38;5;28;01mraise\u001B[39;00m \u001B[38;5;167;01mValueError\u001B[39;00m(\u001B[38;5;124m\"\u001B[39m\u001B[38;5;124mInvalid weight_decay value: \u001B[39m\u001B[38;5;132;01m{}\u001B[39;00m\u001B[38;5;124m\"\u001B[39m\u001B[38;5;241m.\u001B[39mformat(weight_decay))\n\u001B[0;32m     79\u001B[0m defaults \u001B[38;5;241m=\u001B[39m \u001B[38;5;28mdict\u001B[39m(lr\u001B[38;5;241m=\u001B[39mlr, betas\u001B[38;5;241m=\u001B[39mbetas, eps\u001B[38;5;241m=\u001B[39meps,\n\u001B[0;32m     80\u001B[0m                 weight_decay\u001B[38;5;241m=\u001B[39mweight_decay, amsgrad\u001B[38;5;241m=\u001B[39mamsgrad, maximize\u001B[38;5;241m=\u001B[39mmaximize)\n\u001B[1;32m---> 81\u001B[0m \u001B[38;5;28;43msuper\u001B[39;49m\u001B[43m(\u001B[49m\u001B[43mAdam\u001B[49m\u001B[43m,\u001B[49m\u001B[43m \u001B[49m\u001B[38;5;28;43mself\u001B[39;49m\u001B[43m)\u001B[49m\u001B[38;5;241;43m.\u001B[39;49m\u001B[38;5;21;43m__init__\u001B[39;49m\u001B[43m(\u001B[49m\u001B[43mparams\u001B[49m\u001B[43m,\u001B[49m\u001B[43m \u001B[49m\u001B[43mdefaults\u001B[49m\u001B[43m)\u001B[49m\n",
      "File \u001B[1;32m~\\anaconda3\\envs\\my-torch\\lib\\site-packages\\torch\\optim\\optimizer.py:49\u001B[0m, in \u001B[0;36mOptimizer.__init__\u001B[1;34m(self, params, defaults)\u001B[0m\n\u001B[0;32m     47\u001B[0m param_groups \u001B[38;5;241m=\u001B[39m \u001B[38;5;28mlist\u001B[39m(params)\n\u001B[0;32m     48\u001B[0m \u001B[38;5;28;01mif\u001B[39;00m \u001B[38;5;28mlen\u001B[39m(param_groups) \u001B[38;5;241m==\u001B[39m \u001B[38;5;241m0\u001B[39m:\n\u001B[1;32m---> 49\u001B[0m     \u001B[38;5;28;01mraise\u001B[39;00m \u001B[38;5;167;01mValueError\u001B[39;00m(\u001B[38;5;124m\"\u001B[39m\u001B[38;5;124moptimizer got an empty parameter list\u001B[39m\u001B[38;5;124m\"\u001B[39m)\n\u001B[0;32m     50\u001B[0m \u001B[38;5;28;01mif\u001B[39;00m \u001B[38;5;129;01mnot\u001B[39;00m \u001B[38;5;28misinstance\u001B[39m(param_groups[\u001B[38;5;241m0\u001B[39m], \u001B[38;5;28mdict\u001B[39m):\n\u001B[0;32m     51\u001B[0m     param_groups \u001B[38;5;241m=\u001B[39m [{\u001B[38;5;124m'\u001B[39m\u001B[38;5;124mparams\u001B[39m\u001B[38;5;124m'\u001B[39m: param_groups}]\n",
      "\u001B[1;31mValueError\u001B[0m: optimizer got an empty parameter list"
     ]
    }
   ],
   "source": [
    "\n",
    "\n",
    "\n",
    "\n",
    "# Model Initialization\n",
    "if torch.cuda.is_available():\n",
    "    model.to('cuda')\n",
    "# Validation using MSE Loss function\n",
    "loss_function = torch.nn.MSELoss()\n",
    "# Using an Adam Optimizer with lr = 0.01\n",
    "optimizer = torch.optim.Adam(filter(lambda p: p.requires_grad, model.parameters()),\n",
    "                             lr = 1e-2,\n",
    "                             weight_decay = 1e-8)"
   ],
   "metadata": {
    "collapsed": false,
    "pycharm": {
     "name": "#%%\n"
    }
   }
  },
  {
   "cell_type": "code",
   "execution_count": 101,
   "outputs": [
    {
     "name": "stdout",
     "output_type": "stream",
     "text": [
      "------------------------------------------------------------------------------\n",
      "           Layer (type)          Output Shape         Param #     Tr. Param #\n",
      "==============================================================================\n",
      "               Conv2d-1     [1, 64, 112, 112]           9,408               0\n",
      "          BatchNorm2d-2     [1, 64, 112, 112]             128               0\n",
      "                 ReLU-3     [1, 64, 112, 112]               0               0\n",
      "            MaxPool2d-4       [1, 64, 56, 56]               0               0\n",
      "           Bottleneck-5      [1, 256, 56, 56]         206,336               0\n",
      "           Bottleneck-6      [1, 256, 56, 56]         214,016               0\n",
      "           Bottleneck-7      [1, 256, 56, 56]         214,016               0\n",
      "           Bottleneck-8      [1, 512, 28, 28]         920,576               0\n",
      "           Bottleneck-9      [1, 512, 28, 28]         854,016               0\n",
      "          Bottleneck-10      [1, 512, 28, 28]         854,016               0\n",
      "          Bottleneck-11      [1, 512, 28, 28]         854,016               0\n",
      "          Bottleneck-12     [1, 1024, 14, 14]       3,676,160               0\n",
      "          Bottleneck-13     [1, 1024, 14, 14]       3,411,968               0\n",
      "          Bottleneck-14     [1, 1024, 14, 14]       3,411,968               0\n",
      "          Bottleneck-15     [1, 1024, 14, 14]       3,411,968               0\n",
      "          Bottleneck-16     [1, 1024, 14, 14]       3,411,968               0\n",
      "          Bottleneck-17     [1, 1024, 14, 14]       3,411,968               0\n",
      "          Bottleneck-18       [1, 2048, 7, 7]      14,692,352               0\n",
      "          Bottleneck-19       [1, 2048, 7, 7]      13,639,680               0\n",
      "          Bottleneck-20       [1, 2048, 7, 7]      13,639,680               0\n",
      "   AdaptiveAvgPool2d-21       [1, 2048, 1, 1]               0               0\n",
      "              Linear-22             [1, 1000]       2,049,000               0\n",
      "==============================================================================\n",
      "Total params: 68,883,240\n",
      "Trainable params: 0\n",
      "Non-trainable params: 68,883,240\n",
      "------------------------------------------------------------------------------\n"
     ]
    }
   ],
   "source": [
    "from pytorch_model_summary import summary\n",
    "print(summary(model, torch.zeros((1, 3, img_h, img_w)).to('cuda')))"
   ],
   "metadata": {
    "collapsed": false,
    "pycharm": {
     "name": "#%%\n"
    }
   }
  },
  {
   "cell_type": "code",
   "execution_count": 12,
   "outputs": [
    {
     "data": {
      "text/plain": "<hiddenlayer.graph.Graph at 0x2288bf2e790>",
      "image/svg+xml": "<?xml version=\"1.0\" encoding=\"UTF-8\" standalone=\"no\"?>\r\n<!DOCTYPE svg PUBLIC \"-//W3C//DTD SVG 1.1//EN\"\r\n \"http://www.w3.org/Graphics/SVG/1.1/DTD/svg11.dtd\">\r\n<!-- Generated by graphviz version 2.38.0 (20140413.2041)\r\n -->\r\n<!-- Title: %3 Pages: 1 -->\r\n<svg width=\"9362pt\" height=\"178pt\"\r\n viewBox=\"0.00 0.00 9362.00 178.00\" xmlns=\"http://www.w3.org/2000/svg\" xmlns:xlink=\"http://www.w3.org/1999/xlink\">\r\n<g id=\"graph0\" class=\"graph\" transform=\"scale(1 1) rotate(0) translate(72 142)\">\r\n<title>%3</title>\r\n<polygon fill=\"#ffffff\" stroke=\"none\" points=\"-72,36 -72,-142 9290,-142 9290,36 -72,36\"/>\r\n<!-- /outputs/324 -->\r\n<g id=\"node1\" class=\"node\"><title>/outputs/324</title>\r\n<polygon fill=\"#bcd6fc\" stroke=\"#7c96bc\" points=\"271,-65 197,-65 197,-29 271,-29 271,-65\"/>\r\n<text text-anchor=\"start\" x=\"205\" y=\"-44\" font-family=\"Verdana\" font-size=\"10.00\" fill=\"#202020\">MaxPool3x3</text>\r\n</g>\r\n<!-- 3748049438494949689 -->\r\n<g id=\"node39\" class=\"node\"><title>3748049438494949689</title>\r\n<polygon fill=\"#bcd6fc\" stroke=\"#7c96bc\" points=\"630,-93 504,-93 504,-57 630,-57 630,-93\"/>\r\n<text text-anchor=\"start\" x=\"512\" y=\"-72\" font-family=\"Verdana\" font-size=\"10.00\" fill=\"#202020\">Conv1x1 &gt; BatchNorm</text>\r\n</g>\r\n<!-- /outputs/324&#45;&gt;3748049438494949689 -->\r\n<g id=\"edge34\" class=\"edge\"><title>/outputs/324&#45;&gt;3748049438494949689</title>\r\n<path fill=\"none\" stroke=\"#7c96bc\" d=\"M271.053,-50.0498C324.204,-54.5459 424.712,-63.0481 493.493,-68.8665\"/>\r\n<polygon fill=\"#7c96bc\" stroke=\"#7c96bc\" points=\"493.565,-72.385 503.824,-69.7404 494.155,-65.4099 493.565,-72.385\"/>\r\n</g>\r\n<!-- 11281232665942741074 -->\r\n<g id=\"node58\" class=\"node\"><title>11281232665942741074</title>\r\n<polygon fill=\"#bcd6fc\" stroke=\"#7c96bc\" points=\"468,-44 307,-44 307,-0 468,-0 468,-44\"/>\r\n<text text-anchor=\"start\" x=\"315.5\" y=\"-28\" font-family=\"Verdana\" font-size=\"10.00\" fill=\"#202020\">Conv1x1 &gt; BatchNorm &gt; Relu</text>\r\n<text text-anchor=\"start\" x=\"452.5\" y=\"-7\" font-family=\"Verdana\" font-size=\"10.00\" fill=\"#202020\">x2</text>\r\n</g>\r\n<!-- /outputs/324&#45;&gt;11281232665942741074 -->\r\n<g id=\"edge57\" class=\"edge\"><title>/outputs/324&#45;&gt;11281232665942741074</title>\r\n<path fill=\"none\" stroke=\"#7c96bc\" d=\"M271.288,-41.0119C279.26,-39.6964 288.04,-38.2475 297.089,-36.7542\"/>\r\n<polygon fill=\"#7c96bc\" stroke=\"#7c96bc\" points=\"297.692,-40.2021 306.989,-35.1206 296.553,-33.2955 297.692,-40.2021\"/>\r\n</g>\r\n<!-- /outputs/335 -->\r\n<g id=\"node2\" class=\"node\"><title>/outputs/335</title>\r\n<polygon fill=\"#bcd6fc\" stroke=\"#7c96bc\" points=\"720,-66 666,-66 666,-30 720,-30 720,-66\"/>\r\n<text text-anchor=\"start\" x=\"684\" y=\"-45\" font-family=\"Verdana\" font-size=\"10.00\" fill=\"#202020\">Add</text>\r\n</g>\r\n<!-- /outputs/336 -->\r\n<g id=\"node3\" class=\"node\"><title>/outputs/336</title>\r\n<polygon fill=\"#bcd6fc\" stroke=\"#7c96bc\" points=\"810,-66 756,-66 756,-30 810,-30 810,-66\"/>\r\n<text text-anchor=\"start\" x=\"773\" y=\"-45\" font-family=\"Verdana\" font-size=\"10.00\" fill=\"#202020\">Relu</text>\r\n</g>\r\n<!-- /outputs/335&#45;&gt;/outputs/336 -->\r\n<g id=\"edge1\" class=\"edge\"><title>/outputs/335&#45;&gt;/outputs/336</title>\r\n<path fill=\"none\" stroke=\"#7c96bc\" d=\"M720.403,-48C728.393,-48 737.311,-48 745.824,-48\"/>\r\n<polygon fill=\"#7c96bc\" stroke=\"#7c96bc\" points=\"745.919,-51.5001 755.919,-48 745.919,-44.5001 745.919,-51.5001\"/>\r\n</g>\r\n<!-- /outputs/345 -->\r\n<g id=\"node4\" class=\"node\"><title>/outputs/345</title>\r\n<polygon fill=\"#bcd6fc\" stroke=\"#7c96bc\" points=\"1259,-67 1205,-67 1205,-31 1259,-31 1259,-67\"/>\r\n<text text-anchor=\"start\" x=\"1223\" y=\"-46\" font-family=\"Verdana\" font-size=\"10.00\" fill=\"#202020\">Add</text>\r\n</g>\r\n<!-- /outputs/336&#45;&gt;/outputs/345 -->\r\n<g id=\"edge2\" class=\"edge\"><title>/outputs/336&#45;&gt;/outputs/345</title>\r\n<path fill=\"none\" stroke=\"#7c96bc\" d=\"M810.205,-51.1008C821.239,-52.2595 834.226,-53.4316 846,-54 974.023,-60.1802 1126.25,-54.2976 1194.61,-50.9551\"/>\r\n<polygon fill=\"#7c96bc\" stroke=\"#7c96bc\" points=\"1195.03,-54.4384 1204.84,-50.4427 1194.68,-47.4472 1195.03,-54.4384\"/>\r\n</g>\r\n<!-- 7431932848926657730 -->\r\n<g id=\"node59\" class=\"node\"><title>7431932848926657730</title>\r\n<polygon fill=\"#bcd6fc\" stroke=\"#7c96bc\" points=\"1007,-45 846,-45 846,-1 1007,-1 1007,-45\"/>\r\n<text text-anchor=\"start\" x=\"854.5\" y=\"-29\" font-family=\"Verdana\" font-size=\"10.00\" fill=\"#202020\">Conv1x1 &gt; BatchNorm &gt; Relu</text>\r\n<text text-anchor=\"start\" x=\"991.5\" y=\"-8\" font-family=\"Verdana\" font-size=\"10.00\" fill=\"#202020\">x2</text>\r\n</g>\r\n<!-- /outputs/336&#45;&gt;7431932848926657730 -->\r\n<g id=\"edge59\" class=\"edge\"><title>/outputs/336&#45;&gt;7431932848926657730</title>\r\n<path fill=\"none\" stroke=\"#7c96bc\" d=\"M810.283,-43.3563C817.855,-42.0186 826.569,-40.479 835.744,-38.858\"/>\r\n<polygon fill=\"#7c96bc\" stroke=\"#7c96bc\" points=\"836.609,-42.2594 845.848,-37.0729 835.391,-35.3661 836.609,-42.2594\"/>\r\n</g>\r\n<!-- /outputs/346 -->\r\n<g id=\"node5\" class=\"node\"><title>/outputs/346</title>\r\n<polygon fill=\"#bcd6fc\" stroke=\"#7c96bc\" points=\"1349,-67 1295,-67 1295,-31 1349,-31 1349,-67\"/>\r\n<text text-anchor=\"start\" x=\"1312\" y=\"-46\" font-family=\"Verdana\" font-size=\"10.00\" fill=\"#202020\">Relu</text>\r\n</g>\r\n<!-- /outputs/345&#45;&gt;/outputs/346 -->\r\n<g id=\"edge3\" class=\"edge\"><title>/outputs/345&#45;&gt;/outputs/346</title>\r\n<path fill=\"none\" stroke=\"#7c96bc\" d=\"M1259.4,-49C1267.39,-49 1276.31,-49 1284.82,-49\"/>\r\n<polygon fill=\"#7c96bc\" stroke=\"#7c96bc\" points=\"1284.92,-52.5001 1294.92,-49 1284.92,-45.5001 1284.92,-52.5001\"/>\r\n</g>\r\n<!-- /outputs/355 -->\r\n<g id=\"node6\" class=\"node\"><title>/outputs/355</title>\r\n<polygon fill=\"#bcd6fc\" stroke=\"#7c96bc\" points=\"1798,-68 1744,-68 1744,-32 1798,-32 1798,-68\"/>\r\n<text text-anchor=\"start\" x=\"1762\" y=\"-47\" font-family=\"Verdana\" font-size=\"10.00\" fill=\"#202020\">Add</text>\r\n</g>\r\n<!-- /outputs/346&#45;&gt;/outputs/355 -->\r\n<g id=\"edge4\" class=\"edge\"><title>/outputs/346&#45;&gt;/outputs/355</title>\r\n<path fill=\"none\" stroke=\"#7c96bc\" d=\"M1349.21,-52.1008C1360.24,-53.2595 1373.23,-54.4316 1385,-55 1513.02,-61.1802 1665.25,-55.2976 1733.61,-51.9551\"/>\r\n<polygon fill=\"#7c96bc\" stroke=\"#7c96bc\" points=\"1734.03,-55.4384 1743.84,-51.4427 1733.68,-48.4472 1734.03,-55.4384\"/>\r\n</g>\r\n<!-- 8887097574828164065 -->\r\n<g id=\"node60\" class=\"node\"><title>8887097574828164065</title>\r\n<polygon fill=\"#bcd6fc\" stroke=\"#7c96bc\" points=\"1546,-46 1385,-46 1385,-2 1546,-2 1546,-46\"/>\r\n<text text-anchor=\"start\" x=\"1393.5\" y=\"-30\" font-family=\"Verdana\" font-size=\"10.00\" fill=\"#202020\">Conv1x1 &gt; BatchNorm &gt; Relu</text>\r\n<text text-anchor=\"start\" x=\"1530.5\" y=\"-9\" font-family=\"Verdana\" font-size=\"10.00\" fill=\"#202020\">x2</text>\r\n</g>\r\n<!-- /outputs/346&#45;&gt;8887097574828164065 -->\r\n<g id=\"edge61\" class=\"edge\"><title>/outputs/346&#45;&gt;8887097574828164065</title>\r\n<path fill=\"none\" stroke=\"#7c96bc\" d=\"M1349.28,-44.3563C1356.85,-43.0186 1365.57,-41.479 1374.74,-39.858\"/>\r\n<polygon fill=\"#7c96bc\" stroke=\"#7c96bc\" points=\"1375.61,-43.2594 1384.85,-38.0729 1374.39,-36.3661 1375.61,-43.2594\"/>\r\n</g>\r\n<!-- /outputs/356 -->\r\n<g id=\"node7\" class=\"node\"><title>/outputs/356</title>\r\n<polygon fill=\"#bcd6fc\" stroke=\"#7c96bc\" points=\"1888,-68 1834,-68 1834,-32 1888,-32 1888,-68\"/>\r\n<text text-anchor=\"start\" x=\"1851\" y=\"-47\" font-family=\"Verdana\" font-size=\"10.00\" fill=\"#202020\">Relu</text>\r\n</g>\r\n<!-- /outputs/355&#45;&gt;/outputs/356 -->\r\n<g id=\"edge5\" class=\"edge\"><title>/outputs/355&#45;&gt;/outputs/356</title>\r\n<path fill=\"none\" stroke=\"#7c96bc\" d=\"M1798.4,-50C1806.39,-50 1815.31,-50 1823.82,-50\"/>\r\n<polygon fill=\"#7c96bc\" stroke=\"#7c96bc\" points=\"1823.92,-53.5001 1833.92,-50 1823.92,-46.5001 1823.92,-53.5001\"/>\r\n</g>\r\n<!-- 909584968556341563 -->\r\n<g id=\"node43\" class=\"node\"><title>909584968556341563</title>\r\n<polygon fill=\"#bcd6fc\" stroke=\"#7c96bc\" points=\"2247,-96 2121,-96 2121,-60 2247,-60 2247,-96\"/>\r\n<text text-anchor=\"start\" x=\"2129\" y=\"-75\" font-family=\"Verdana\" font-size=\"10.00\" fill=\"#202020\">Conv1x1 &gt; BatchNorm</text>\r\n</g>\r\n<!-- /outputs/356&#45;&gt;909584968556341563 -->\r\n<g id=\"edge39\" class=\"edge\"><title>/outputs/356&#45;&gt;909584968556341563</title>\r\n<path fill=\"none\" stroke=\"#7c96bc\" d=\"M1888.24,-52.608C1899.28,-53.6874 1912.26,-54.9334 1924,-56 1987.09,-61.7324 2058.88,-67.7939 2110.85,-72.0995\"/>\r\n<polygon fill=\"#7c96bc\" stroke=\"#7c96bc\" points=\"2110.71,-75.6003 2120.97,-72.9366 2111.29,-68.6241 2110.71,-75.6003\"/>\r\n</g>\r\n<!-- 14744533143294611504 -->\r\n<g id=\"node61\" class=\"node\"><title>14744533143294611504</title>\r\n<polygon fill=\"#bcd6fc\" stroke=\"#7c96bc\" points=\"2085,-47 1924,-47 1924,-3 2085,-3 2085,-47\"/>\r\n<text text-anchor=\"start\" x=\"1932.5\" y=\"-31\" font-family=\"Verdana\" font-size=\"10.00\" fill=\"#202020\">Conv1x1 &gt; BatchNorm &gt; Relu</text>\r\n<text text-anchor=\"start\" x=\"2069.5\" y=\"-10\" font-family=\"Verdana\" font-size=\"10.00\" fill=\"#202020\">x2</text>\r\n</g>\r\n<!-- /outputs/356&#45;&gt;14744533143294611504 -->\r\n<g id=\"edge63\" class=\"edge\"><title>/outputs/356&#45;&gt;14744533143294611504</title>\r\n<path fill=\"none\" stroke=\"#7c96bc\" d=\"M1888.28,-45.3563C1895.85,-44.0186 1904.57,-42.479 1913.74,-40.858\"/>\r\n<polygon fill=\"#7c96bc\" stroke=\"#7c96bc\" points=\"1914.61,-44.2594 1923.85,-39.0729 1913.39,-37.3661 1914.61,-44.2594\"/>\r\n</g>\r\n<!-- /outputs/367 -->\r\n<g id=\"node8\" class=\"node\"><title>/outputs/367</title>\r\n<polygon fill=\"#bcd6fc\" stroke=\"#7c96bc\" points=\"2337,-69 2283,-69 2283,-33 2337,-33 2337,-69\"/>\r\n<text text-anchor=\"start\" x=\"2301\" y=\"-48\" font-family=\"Verdana\" font-size=\"10.00\" fill=\"#202020\">Add</text>\r\n</g>\r\n<!-- /outputs/368 -->\r\n<g id=\"node9\" class=\"node\"><title>/outputs/368</title>\r\n<polygon fill=\"#bcd6fc\" stroke=\"#7c96bc\" points=\"2427,-69 2373,-69 2373,-33 2427,-33 2427,-69\"/>\r\n<text text-anchor=\"start\" x=\"2390\" y=\"-48\" font-family=\"Verdana\" font-size=\"10.00\" fill=\"#202020\">Relu</text>\r\n</g>\r\n<!-- /outputs/367&#45;&gt;/outputs/368 -->\r\n<g id=\"edge6\" class=\"edge\"><title>/outputs/367&#45;&gt;/outputs/368</title>\r\n<path fill=\"none\" stroke=\"#7c96bc\" d=\"M2337.4,-51C2345.39,-51 2354.31,-51 2362.82,-51\"/>\r\n<polygon fill=\"#7c96bc\" stroke=\"#7c96bc\" points=\"2362.92,-54.5001 2372.92,-51 2362.92,-47.5001 2362.92,-54.5001\"/>\r\n</g>\r\n<!-- /outputs/377 -->\r\n<g id=\"node10\" class=\"node\"><title>/outputs/377</title>\r\n<polygon fill=\"#bcd6fc\" stroke=\"#7c96bc\" points=\"2876,-70 2822,-70 2822,-34 2876,-34 2876,-70\"/>\r\n<text text-anchor=\"start\" x=\"2840\" y=\"-49\" font-family=\"Verdana\" font-size=\"10.00\" fill=\"#202020\">Add</text>\r\n</g>\r\n<!-- /outputs/368&#45;&gt;/outputs/377 -->\r\n<g id=\"edge7\" class=\"edge\"><title>/outputs/368&#45;&gt;/outputs/377</title>\r\n<path fill=\"none\" stroke=\"#7c96bc\" d=\"M2427.21,-54.1008C2438.24,-55.2595 2451.23,-56.4316 2463,-57 2591.02,-63.1802 2743.25,-57.2976 2811.61,-53.9551\"/>\r\n<polygon fill=\"#7c96bc\" stroke=\"#7c96bc\" points=\"2812.03,-57.4384 2821.84,-53.4427 2811.68,-50.4472 2812.03,-57.4384\"/>\r\n</g>\r\n<!-- 5761287707536426244 -->\r\n<g id=\"node62\" class=\"node\"><title>5761287707536426244</title>\r\n<polygon fill=\"#bcd6fc\" stroke=\"#7c96bc\" points=\"2624,-48 2463,-48 2463,-4 2624,-4 2624,-48\"/>\r\n<text text-anchor=\"start\" x=\"2471.5\" y=\"-32\" font-family=\"Verdana\" font-size=\"10.00\" fill=\"#202020\">Conv1x1 &gt; BatchNorm &gt; Relu</text>\r\n<text text-anchor=\"start\" x=\"2608.5\" y=\"-11\" font-family=\"Verdana\" font-size=\"10.00\" fill=\"#202020\">x2</text>\r\n</g>\r\n<!-- /outputs/368&#45;&gt;5761287707536426244 -->\r\n<g id=\"edge65\" class=\"edge\"><title>/outputs/368&#45;&gt;5761287707536426244</title>\r\n<path fill=\"none\" stroke=\"#7c96bc\" d=\"M2427.28,-46.3563C2434.85,-45.0186 2443.57,-43.479 2452.74,-41.858\"/>\r\n<polygon fill=\"#7c96bc\" stroke=\"#7c96bc\" points=\"2453.61,-45.2594 2462.85,-40.0729 2452.39,-38.3661 2453.61,-45.2594\"/>\r\n</g>\r\n<!-- /outputs/378 -->\r\n<g id=\"node11\" class=\"node\"><title>/outputs/378</title>\r\n<polygon fill=\"#bcd6fc\" stroke=\"#7c96bc\" points=\"2966,-70 2912,-70 2912,-34 2966,-34 2966,-70\"/>\r\n<text text-anchor=\"start\" x=\"2929\" y=\"-49\" font-family=\"Verdana\" font-size=\"10.00\" fill=\"#202020\">Relu</text>\r\n</g>\r\n<!-- /outputs/377&#45;&gt;/outputs/378 -->\r\n<g id=\"edge8\" class=\"edge\"><title>/outputs/377&#45;&gt;/outputs/378</title>\r\n<path fill=\"none\" stroke=\"#7c96bc\" d=\"M2876.4,-52C2884.39,-52 2893.31,-52 2901.82,-52\"/>\r\n<polygon fill=\"#7c96bc\" stroke=\"#7c96bc\" points=\"2901.92,-55.5001 2911.92,-52 2901.92,-48.5001 2901.92,-55.5001\"/>\r\n</g>\r\n<!-- /outputs/387 -->\r\n<g id=\"node12\" class=\"node\"><title>/outputs/387</title>\r\n<polygon fill=\"#bcd6fc\" stroke=\"#7c96bc\" points=\"3415,-71 3361,-71 3361,-35 3415,-35 3415,-71\"/>\r\n<text text-anchor=\"start\" x=\"3379\" y=\"-50\" font-family=\"Verdana\" font-size=\"10.00\" fill=\"#202020\">Add</text>\r\n</g>\r\n<!-- /outputs/378&#45;&gt;/outputs/387 -->\r\n<g id=\"edge9\" class=\"edge\"><title>/outputs/378&#45;&gt;/outputs/387</title>\r\n<path fill=\"none\" stroke=\"#7c96bc\" d=\"M2966.21,-55.1008C2977.24,-56.2595 2990.23,-57.4316 3002,-58 3130.02,-64.1802 3282.25,-58.2976 3350.61,-54.9551\"/>\r\n<polygon fill=\"#7c96bc\" stroke=\"#7c96bc\" points=\"3351.03,-58.4384 3360.84,-54.4427 3350.68,-51.4472 3351.03,-58.4384\"/>\r\n</g>\r\n<!-- 5266282649590766101 -->\r\n<g id=\"node63\" class=\"node\"><title>5266282649590766101</title>\r\n<polygon fill=\"#bcd6fc\" stroke=\"#7c96bc\" points=\"3163,-49 3002,-49 3002,-5 3163,-5 3163,-49\"/>\r\n<text text-anchor=\"start\" x=\"3010.5\" y=\"-33\" font-family=\"Verdana\" font-size=\"10.00\" fill=\"#202020\">Conv1x1 &gt; BatchNorm &gt; Relu</text>\r\n<text text-anchor=\"start\" x=\"3147.5\" y=\"-12\" font-family=\"Verdana\" font-size=\"10.00\" fill=\"#202020\">x2</text>\r\n</g>\r\n<!-- /outputs/378&#45;&gt;5266282649590766101 -->\r\n<g id=\"edge67\" class=\"edge\"><title>/outputs/378&#45;&gt;5266282649590766101</title>\r\n<path fill=\"none\" stroke=\"#7c96bc\" d=\"M2966.28,-47.3563C2973.85,-46.0186 2982.57,-44.479 2991.74,-42.858\"/>\r\n<polygon fill=\"#7c96bc\" stroke=\"#7c96bc\" points=\"2992.61,-46.2594 3001.85,-41.0729 2991.39,-39.3661 2992.61,-46.2594\"/>\r\n</g>\r\n<!-- /outputs/388 -->\r\n<g id=\"node13\" class=\"node\"><title>/outputs/388</title>\r\n<polygon fill=\"#bcd6fc\" stroke=\"#7c96bc\" points=\"3505,-71 3451,-71 3451,-35 3505,-35 3505,-71\"/>\r\n<text text-anchor=\"start\" x=\"3468\" y=\"-50\" font-family=\"Verdana\" font-size=\"10.00\" fill=\"#202020\">Relu</text>\r\n</g>\r\n<!-- /outputs/387&#45;&gt;/outputs/388 -->\r\n<g id=\"edge10\" class=\"edge\"><title>/outputs/387&#45;&gt;/outputs/388</title>\r\n<path fill=\"none\" stroke=\"#7c96bc\" d=\"M3415.4,-53C3423.39,-53 3432.31,-53 3440.82,-53\"/>\r\n<polygon fill=\"#7c96bc\" stroke=\"#7c96bc\" points=\"3440.92,-56.5001 3450.92,-53 3440.92,-49.5001 3440.92,-56.5001\"/>\r\n</g>\r\n<!-- /outputs/397 -->\r\n<g id=\"node14\" class=\"node\"><title>/outputs/397</title>\r\n<polygon fill=\"#bcd6fc\" stroke=\"#7c96bc\" points=\"3954,-72 3900,-72 3900,-36 3954,-36 3954,-72\"/>\r\n<text text-anchor=\"start\" x=\"3918\" y=\"-51\" font-family=\"Verdana\" font-size=\"10.00\" fill=\"#202020\">Add</text>\r\n</g>\r\n<!-- /outputs/388&#45;&gt;/outputs/397 -->\r\n<g id=\"edge11\" class=\"edge\"><title>/outputs/388&#45;&gt;/outputs/397</title>\r\n<path fill=\"none\" stroke=\"#7c96bc\" d=\"M3505.21,-56.1008C3516.24,-57.2595 3529.23,-58.4316 3541,-59 3669.02,-65.1802 3821.25,-59.2976 3889.61,-55.9551\"/>\r\n<polygon fill=\"#7c96bc\" stroke=\"#7c96bc\" points=\"3890.03,-59.4384 3899.84,-55.4427 3889.68,-52.4472 3890.03,-59.4384\"/>\r\n</g>\r\n<!-- 17625981846661465408 -->\r\n<g id=\"node64\" class=\"node\"><title>17625981846661465408</title>\r\n<polygon fill=\"#bcd6fc\" stroke=\"#7c96bc\" points=\"3702,-50 3541,-50 3541,-6 3702,-6 3702,-50\"/>\r\n<text text-anchor=\"start\" x=\"3549.5\" y=\"-34\" font-family=\"Verdana\" font-size=\"10.00\" fill=\"#202020\">Conv1x1 &gt; BatchNorm &gt; Relu</text>\r\n<text text-anchor=\"start\" x=\"3686.5\" y=\"-13\" font-family=\"Verdana\" font-size=\"10.00\" fill=\"#202020\">x2</text>\r\n</g>\r\n<!-- /outputs/388&#45;&gt;17625981846661465408 -->\r\n<g id=\"edge69\" class=\"edge\"><title>/outputs/388&#45;&gt;17625981846661465408</title>\r\n<path fill=\"none\" stroke=\"#7c96bc\" d=\"M3505.28,-48.3563C3512.85,-47.0186 3521.57,-45.479 3530.74,-43.858\"/>\r\n<polygon fill=\"#7c96bc\" stroke=\"#7c96bc\" points=\"3531.61,-47.2594 3540.85,-42.0729 3530.39,-40.3661 3531.61,-47.2594\"/>\r\n</g>\r\n<!-- /outputs/398 -->\r\n<g id=\"node15\" class=\"node\"><title>/outputs/398</title>\r\n<polygon fill=\"#bcd6fc\" stroke=\"#7c96bc\" points=\"4044,-72 3990,-72 3990,-36 4044,-36 4044,-72\"/>\r\n<text text-anchor=\"start\" x=\"4007\" y=\"-51\" font-family=\"Verdana\" font-size=\"10.00\" fill=\"#202020\">Relu</text>\r\n</g>\r\n<!-- /outputs/397&#45;&gt;/outputs/398 -->\r\n<g id=\"edge12\" class=\"edge\"><title>/outputs/397&#45;&gt;/outputs/398</title>\r\n<path fill=\"none\" stroke=\"#7c96bc\" d=\"M3954.4,-54C3962.39,-54 3971.31,-54 3979.82,-54\"/>\r\n<polygon fill=\"#7c96bc\" stroke=\"#7c96bc\" points=\"3979.92,-57.5001 3989.92,-54 3979.92,-50.5001 3979.92,-57.5001\"/>\r\n</g>\r\n<!-- 9271216642706392264 -->\r\n<g id=\"node48\" class=\"node\"><title>9271216642706392264</title>\r\n<polygon fill=\"#bcd6fc\" stroke=\"#7c96bc\" points=\"4403,-100 4277,-100 4277,-64 4403,-64 4403,-100\"/>\r\n<text text-anchor=\"start\" x=\"4285\" y=\"-79\" font-family=\"Verdana\" font-size=\"10.00\" fill=\"#202020\">Conv1x1 &gt; BatchNorm</text>\r\n</g>\r\n<!-- /outputs/398&#45;&gt;9271216642706392264 -->\r\n<g id=\"edge45\" class=\"edge\"><title>/outputs/398&#45;&gt;9271216642706392264</title>\r\n<path fill=\"none\" stroke=\"#7c96bc\" d=\"M4044.24,-56.608C4055.28,-57.6874 4068.26,-58.9334 4080,-60 4143.09,-65.7324 4214.88,-71.7939 4266.85,-76.0995\"/>\r\n<polygon fill=\"#7c96bc\" stroke=\"#7c96bc\" points=\"4266.71,-79.6003 4276.97,-76.9366 4267.29,-72.6241 4266.71,-79.6003\"/>\r\n</g>\r\n<!-- 11288433234076435525 -->\r\n<g id=\"node65\" class=\"node\"><title>11288433234076435525</title>\r\n<polygon fill=\"#bcd6fc\" stroke=\"#7c96bc\" points=\"4241,-51 4080,-51 4080,-7 4241,-7 4241,-51\"/>\r\n<text text-anchor=\"start\" x=\"4088.5\" y=\"-35\" font-family=\"Verdana\" font-size=\"10.00\" fill=\"#202020\">Conv1x1 &gt; BatchNorm &gt; Relu</text>\r\n<text text-anchor=\"start\" x=\"4225.5\" y=\"-14\" font-family=\"Verdana\" font-size=\"10.00\" fill=\"#202020\">x2</text>\r\n</g>\r\n<!-- /outputs/398&#45;&gt;11288433234076435525 -->\r\n<g id=\"edge71\" class=\"edge\"><title>/outputs/398&#45;&gt;11288433234076435525</title>\r\n<path fill=\"none\" stroke=\"#7c96bc\" d=\"M4044.28,-49.3563C4051.85,-48.0186 4060.57,-46.479 4069.74,-44.858\"/>\r\n<polygon fill=\"#7c96bc\" stroke=\"#7c96bc\" points=\"4070.61,-48.2594 4079.85,-43.0729 4069.39,-41.3661 4070.61,-48.2594\"/>\r\n</g>\r\n<!-- /outputs/409 -->\r\n<g id=\"node16\" class=\"node\"><title>/outputs/409</title>\r\n<polygon fill=\"#bcd6fc\" stroke=\"#7c96bc\" points=\"4493,-73 4439,-73 4439,-37 4493,-37 4493,-73\"/>\r\n<text text-anchor=\"start\" x=\"4457\" y=\"-52\" font-family=\"Verdana\" font-size=\"10.00\" fill=\"#202020\">Add</text>\r\n</g>\r\n<!-- /outputs/410 -->\r\n<g id=\"node17\" class=\"node\"><title>/outputs/410</title>\r\n<polygon fill=\"#bcd6fc\" stroke=\"#7c96bc\" points=\"4583,-73 4529,-73 4529,-37 4583,-37 4583,-73\"/>\r\n<text text-anchor=\"start\" x=\"4546\" y=\"-52\" font-family=\"Verdana\" font-size=\"10.00\" fill=\"#202020\">Relu</text>\r\n</g>\r\n<!-- /outputs/409&#45;&gt;/outputs/410 -->\r\n<g id=\"edge13\" class=\"edge\"><title>/outputs/409&#45;&gt;/outputs/410</title>\r\n<path fill=\"none\" stroke=\"#7c96bc\" d=\"M4493.4,-55C4501.39,-55 4510.31,-55 4518.82,-55\"/>\r\n<polygon fill=\"#7c96bc\" stroke=\"#7c96bc\" points=\"4518.92,-58.5001 4528.92,-55 4518.92,-51.5001 4518.92,-58.5001\"/>\r\n</g>\r\n<!-- /outputs/419 -->\r\n<g id=\"node18\" class=\"node\"><title>/outputs/419</title>\r\n<polygon fill=\"#bcd6fc\" stroke=\"#7c96bc\" points=\"5032,-74 4978,-74 4978,-38 5032,-38 5032,-74\"/>\r\n<text text-anchor=\"start\" x=\"4996\" y=\"-53\" font-family=\"Verdana\" font-size=\"10.00\" fill=\"#202020\">Add</text>\r\n</g>\r\n<!-- /outputs/410&#45;&gt;/outputs/419 -->\r\n<g id=\"edge14\" class=\"edge\"><title>/outputs/410&#45;&gt;/outputs/419</title>\r\n<path fill=\"none\" stroke=\"#7c96bc\" d=\"M4583.21,-58.1008C4594.24,-59.2595 4607.23,-60.4316 4619,-61 4747.02,-67.1802 4899.25,-61.2976 4967.61,-57.9551\"/>\r\n<polygon fill=\"#7c96bc\" stroke=\"#7c96bc\" points=\"4968.03,-61.4384 4977.84,-57.4427 4967.68,-54.4472 4968.03,-61.4384\"/>\r\n</g>\r\n<!-- 17941248187817808571 -->\r\n<g id=\"node66\" class=\"node\"><title>17941248187817808571</title>\r\n<polygon fill=\"#bcd6fc\" stroke=\"#7c96bc\" points=\"4780,-52 4619,-52 4619,-8 4780,-8 4780,-52\"/>\r\n<text text-anchor=\"start\" x=\"4627.5\" y=\"-36\" font-family=\"Verdana\" font-size=\"10.00\" fill=\"#202020\">Conv1x1 &gt; BatchNorm &gt; Relu</text>\r\n<text text-anchor=\"start\" x=\"4764.5\" y=\"-15\" font-family=\"Verdana\" font-size=\"10.00\" fill=\"#202020\">x2</text>\r\n</g>\r\n<!-- /outputs/410&#45;&gt;17941248187817808571 -->\r\n<g id=\"edge73\" class=\"edge\"><title>/outputs/410&#45;&gt;17941248187817808571</title>\r\n<path fill=\"none\" stroke=\"#7c96bc\" d=\"M4583.28,-50.3563C4590.85,-49.0186 4599.57,-47.479 4608.74,-45.858\"/>\r\n<polygon fill=\"#7c96bc\" stroke=\"#7c96bc\" points=\"4609.61,-49.2594 4618.85,-44.0729 4608.39,-42.3661 4609.61,-49.2594\"/>\r\n</g>\r\n<!-- /outputs/420 -->\r\n<g id=\"node19\" class=\"node\"><title>/outputs/420</title>\r\n<polygon fill=\"#bcd6fc\" stroke=\"#7c96bc\" points=\"5122,-74 5068,-74 5068,-38 5122,-38 5122,-74\"/>\r\n<text text-anchor=\"start\" x=\"5085\" y=\"-53\" font-family=\"Verdana\" font-size=\"10.00\" fill=\"#202020\">Relu</text>\r\n</g>\r\n<!-- /outputs/419&#45;&gt;/outputs/420 -->\r\n<g id=\"edge15\" class=\"edge\"><title>/outputs/419&#45;&gt;/outputs/420</title>\r\n<path fill=\"none\" stroke=\"#7c96bc\" d=\"M5032.4,-56C5040.39,-56 5049.31,-56 5057.82,-56\"/>\r\n<polygon fill=\"#7c96bc\" stroke=\"#7c96bc\" points=\"5057.92,-59.5001 5067.92,-56 5057.92,-52.5001 5057.92,-59.5001\"/>\r\n</g>\r\n<!-- /outputs/429 -->\r\n<g id=\"node20\" class=\"node\"><title>/outputs/429</title>\r\n<polygon fill=\"#bcd6fc\" stroke=\"#7c96bc\" points=\"5571,-75 5517,-75 5517,-39 5571,-39 5571,-75\"/>\r\n<text text-anchor=\"start\" x=\"5535\" y=\"-54\" font-family=\"Verdana\" font-size=\"10.00\" fill=\"#202020\">Add</text>\r\n</g>\r\n<!-- /outputs/420&#45;&gt;/outputs/429 -->\r\n<g id=\"edge16\" class=\"edge\"><title>/outputs/420&#45;&gt;/outputs/429</title>\r\n<path fill=\"none\" stroke=\"#7c96bc\" d=\"M5122.21,-59.1008C5133.24,-60.2595 5146.23,-61.4316 5158,-62 5286.02,-68.1802 5438.25,-62.2976 5506.61,-58.9551\"/>\r\n<polygon fill=\"#7c96bc\" stroke=\"#7c96bc\" points=\"5507.03,-62.4384 5516.84,-58.4427 5506.68,-55.4472 5507.03,-62.4384\"/>\r\n</g>\r\n<!-- 18286107242129515817 -->\r\n<g id=\"node67\" class=\"node\"><title>18286107242129515817</title>\r\n<polygon fill=\"#bcd6fc\" stroke=\"#7c96bc\" points=\"5319,-53 5158,-53 5158,-9 5319,-9 5319,-53\"/>\r\n<text text-anchor=\"start\" x=\"5166.5\" y=\"-37\" font-family=\"Verdana\" font-size=\"10.00\" fill=\"#202020\">Conv1x1 &gt; BatchNorm &gt; Relu</text>\r\n<text text-anchor=\"start\" x=\"5303.5\" y=\"-16\" font-family=\"Verdana\" font-size=\"10.00\" fill=\"#202020\">x2</text>\r\n</g>\r\n<!-- /outputs/420&#45;&gt;18286107242129515817 -->\r\n<g id=\"edge75\" class=\"edge\"><title>/outputs/420&#45;&gt;18286107242129515817</title>\r\n<path fill=\"none\" stroke=\"#7c96bc\" d=\"M5122.28,-51.3563C5129.85,-50.0186 5138.57,-48.479 5147.74,-46.858\"/>\r\n<polygon fill=\"#7c96bc\" stroke=\"#7c96bc\" points=\"5148.61,-50.2594 5157.85,-45.0729 5147.39,-43.3661 5148.61,-50.2594\"/>\r\n</g>\r\n<!-- /outputs/430 -->\r\n<g id=\"node21\" class=\"node\"><title>/outputs/430</title>\r\n<polygon fill=\"#bcd6fc\" stroke=\"#7c96bc\" points=\"5661,-75 5607,-75 5607,-39 5661,-39 5661,-75\"/>\r\n<text text-anchor=\"start\" x=\"5624\" y=\"-54\" font-family=\"Verdana\" font-size=\"10.00\" fill=\"#202020\">Relu</text>\r\n</g>\r\n<!-- /outputs/429&#45;&gt;/outputs/430 -->\r\n<g id=\"edge17\" class=\"edge\"><title>/outputs/429&#45;&gt;/outputs/430</title>\r\n<path fill=\"none\" stroke=\"#7c96bc\" d=\"M5571.4,-57C5579.39,-57 5588.31,-57 5596.82,-57\"/>\r\n<polygon fill=\"#7c96bc\" stroke=\"#7c96bc\" points=\"5596.92,-60.5001 5606.92,-57 5596.92,-53.5001 5596.92,-60.5001\"/>\r\n</g>\r\n<!-- /outputs/439 -->\r\n<g id=\"node22\" class=\"node\"><title>/outputs/439</title>\r\n<polygon fill=\"#bcd6fc\" stroke=\"#7c96bc\" points=\"6110,-76 6056,-76 6056,-40 6110,-40 6110,-76\"/>\r\n<text text-anchor=\"start\" x=\"6074\" y=\"-55\" font-family=\"Verdana\" font-size=\"10.00\" fill=\"#202020\">Add</text>\r\n</g>\r\n<!-- /outputs/430&#45;&gt;/outputs/439 -->\r\n<g id=\"edge18\" class=\"edge\"><title>/outputs/430&#45;&gt;/outputs/439</title>\r\n<path fill=\"none\" stroke=\"#7c96bc\" d=\"M5661.21,-60.1008C5672.24,-61.2595 5685.23,-62.4316 5697,-63 5825.02,-69.1802 5977.25,-63.2976 6045.61,-59.9551\"/>\r\n<polygon fill=\"#7c96bc\" stroke=\"#7c96bc\" points=\"6046.03,-63.4384 6055.84,-59.4427 6045.68,-56.4472 6046.03,-63.4384\"/>\r\n</g>\r\n<!-- 11572777843000162229 -->\r\n<g id=\"node68\" class=\"node\"><title>11572777843000162229</title>\r\n<polygon fill=\"#bcd6fc\" stroke=\"#7c96bc\" points=\"5858,-54 5697,-54 5697,-10 5858,-10 5858,-54\"/>\r\n<text text-anchor=\"start\" x=\"5705.5\" y=\"-38\" font-family=\"Verdana\" font-size=\"10.00\" fill=\"#202020\">Conv1x1 &gt; BatchNorm &gt; Relu</text>\r\n<text text-anchor=\"start\" x=\"5842.5\" y=\"-17\" font-family=\"Verdana\" font-size=\"10.00\" fill=\"#202020\">x2</text>\r\n</g>\r\n<!-- /outputs/430&#45;&gt;11572777843000162229 -->\r\n<g id=\"edge77\" class=\"edge\"><title>/outputs/430&#45;&gt;11572777843000162229</title>\r\n<path fill=\"none\" stroke=\"#7c96bc\" d=\"M5661.28,-52.3563C5668.85,-51.0186 5677.57,-49.479 5686.74,-47.858\"/>\r\n<polygon fill=\"#7c96bc\" stroke=\"#7c96bc\" points=\"5687.61,-51.2594 5696.85,-46.0729 5686.39,-44.3661 5687.61,-51.2594\"/>\r\n</g>\r\n<!-- /outputs/440 -->\r\n<g id=\"node23\" class=\"node\"><title>/outputs/440</title>\r\n<polygon fill=\"#bcd6fc\" stroke=\"#7c96bc\" points=\"6200,-76 6146,-76 6146,-40 6200,-40 6200,-76\"/>\r\n<text text-anchor=\"start\" x=\"6163\" y=\"-55\" font-family=\"Verdana\" font-size=\"10.00\" fill=\"#202020\">Relu</text>\r\n</g>\r\n<!-- /outputs/439&#45;&gt;/outputs/440 -->\r\n<g id=\"edge19\" class=\"edge\"><title>/outputs/439&#45;&gt;/outputs/440</title>\r\n<path fill=\"none\" stroke=\"#7c96bc\" d=\"M6110.4,-58C6118.39,-58 6127.31,-58 6135.82,-58\"/>\r\n<polygon fill=\"#7c96bc\" stroke=\"#7c96bc\" points=\"6135.92,-61.5001 6145.92,-58 6135.92,-54.5001 6135.92,-61.5001\"/>\r\n</g>\r\n<!-- /outputs/449 -->\r\n<g id=\"node24\" class=\"node\"><title>/outputs/449</title>\r\n<polygon fill=\"#bcd6fc\" stroke=\"#7c96bc\" points=\"6649,-77 6595,-77 6595,-41 6649,-41 6649,-77\"/>\r\n<text text-anchor=\"start\" x=\"6613\" y=\"-56\" font-family=\"Verdana\" font-size=\"10.00\" fill=\"#202020\">Add</text>\r\n</g>\r\n<!-- /outputs/440&#45;&gt;/outputs/449 -->\r\n<g id=\"edge20\" class=\"edge\"><title>/outputs/440&#45;&gt;/outputs/449</title>\r\n<path fill=\"none\" stroke=\"#7c96bc\" d=\"M6200.21,-61.1008C6211.24,-62.2595 6224.23,-63.4316 6236,-64 6364.02,-70.1802 6516.25,-64.2976 6584.61,-60.9551\"/>\r\n<polygon fill=\"#7c96bc\" stroke=\"#7c96bc\" points=\"6585.03,-64.4384 6594.84,-60.4427 6584.68,-57.4472 6585.03,-64.4384\"/>\r\n</g>\r\n<!-- 11874679075118034642 -->\r\n<g id=\"node69\" class=\"node\"><title>11874679075118034642</title>\r\n<polygon fill=\"#bcd6fc\" stroke=\"#7c96bc\" points=\"6397,-55 6236,-55 6236,-11 6397,-11 6397,-55\"/>\r\n<text text-anchor=\"start\" x=\"6244.5\" y=\"-39\" font-family=\"Verdana\" font-size=\"10.00\" fill=\"#202020\">Conv1x1 &gt; BatchNorm &gt; Relu</text>\r\n<text text-anchor=\"start\" x=\"6381.5\" y=\"-18\" font-family=\"Verdana\" font-size=\"10.00\" fill=\"#202020\">x2</text>\r\n</g>\r\n<!-- /outputs/440&#45;&gt;11874679075118034642 -->\r\n<g id=\"edge79\" class=\"edge\"><title>/outputs/440&#45;&gt;11874679075118034642</title>\r\n<path fill=\"none\" stroke=\"#7c96bc\" d=\"M6200.28,-53.3563C6207.85,-52.0186 6216.57,-50.479 6225.74,-48.858\"/>\r\n<polygon fill=\"#7c96bc\" stroke=\"#7c96bc\" points=\"6226.61,-52.2594 6235.85,-47.0729 6225.39,-45.3661 6226.61,-52.2594\"/>\r\n</g>\r\n<!-- /outputs/450 -->\r\n<g id=\"node25\" class=\"node\"><title>/outputs/450</title>\r\n<polygon fill=\"#bcd6fc\" stroke=\"#7c96bc\" points=\"6739,-77 6685,-77 6685,-41 6739,-41 6739,-77\"/>\r\n<text text-anchor=\"start\" x=\"6702\" y=\"-56\" font-family=\"Verdana\" font-size=\"10.00\" fill=\"#202020\">Relu</text>\r\n</g>\r\n<!-- /outputs/449&#45;&gt;/outputs/450 -->\r\n<g id=\"edge21\" class=\"edge\"><title>/outputs/449&#45;&gt;/outputs/450</title>\r\n<path fill=\"none\" stroke=\"#7c96bc\" d=\"M6649.4,-59C6657.39,-59 6666.31,-59 6674.82,-59\"/>\r\n<polygon fill=\"#7c96bc\" stroke=\"#7c96bc\" points=\"6674.92,-62.5001 6684.92,-59 6674.92,-55.5001 6674.92,-62.5001\"/>\r\n</g>\r\n<!-- /outputs/459 -->\r\n<g id=\"node26\" class=\"node\"><title>/outputs/459</title>\r\n<polygon fill=\"#bcd6fc\" stroke=\"#7c96bc\" points=\"7188,-78 7134,-78 7134,-42 7188,-42 7188,-78\"/>\r\n<text text-anchor=\"start\" x=\"7152\" y=\"-57\" font-family=\"Verdana\" font-size=\"10.00\" fill=\"#202020\">Add</text>\r\n</g>\r\n<!-- /outputs/450&#45;&gt;/outputs/459 -->\r\n<g id=\"edge22\" class=\"edge\"><title>/outputs/450&#45;&gt;/outputs/459</title>\r\n<path fill=\"none\" stroke=\"#7c96bc\" d=\"M6739.21,-62.1008C6750.24,-63.2595 6763.23,-64.4316 6775,-65 6903.02,-71.1802 7055.25,-65.2976 7123.61,-61.9551\"/>\r\n<polygon fill=\"#7c96bc\" stroke=\"#7c96bc\" points=\"7124.03,-65.4384 7133.84,-61.4427 7123.68,-58.4472 7124.03,-65.4384\"/>\r\n</g>\r\n<!-- 10613189567605291703 -->\r\n<g id=\"node70\" class=\"node\"><title>10613189567605291703</title>\r\n<polygon fill=\"#bcd6fc\" stroke=\"#7c96bc\" points=\"6936,-56 6775,-56 6775,-12 6936,-12 6936,-56\"/>\r\n<text text-anchor=\"start\" x=\"6783.5\" y=\"-40\" font-family=\"Verdana\" font-size=\"10.00\" fill=\"#202020\">Conv1x1 &gt; BatchNorm &gt; Relu</text>\r\n<text text-anchor=\"start\" x=\"6920.5\" y=\"-19\" font-family=\"Verdana\" font-size=\"10.00\" fill=\"#202020\">x2</text>\r\n</g>\r\n<!-- /outputs/450&#45;&gt;10613189567605291703 -->\r\n<g id=\"edge81\" class=\"edge\"><title>/outputs/450&#45;&gt;10613189567605291703</title>\r\n<path fill=\"none\" stroke=\"#7c96bc\" d=\"M6739.28,-54.3563C6746.85,-53.0186 6755.57,-51.479 6764.74,-49.858\"/>\r\n<polygon fill=\"#7c96bc\" stroke=\"#7c96bc\" points=\"6765.61,-53.2594 6774.85,-48.0729 6764.39,-46.3661 6765.61,-53.2594\"/>\r\n</g>\r\n<!-- /outputs/460 -->\r\n<g id=\"node27\" class=\"node\"><title>/outputs/460</title>\r\n<polygon fill=\"#bcd6fc\" stroke=\"#7c96bc\" points=\"7278,-78 7224,-78 7224,-42 7278,-42 7278,-78\"/>\r\n<text text-anchor=\"start\" x=\"7241\" y=\"-57\" font-family=\"Verdana\" font-size=\"10.00\" fill=\"#202020\">Relu</text>\r\n</g>\r\n<!-- /outputs/459&#45;&gt;/outputs/460 -->\r\n<g id=\"edge23\" class=\"edge\"><title>/outputs/459&#45;&gt;/outputs/460</title>\r\n<path fill=\"none\" stroke=\"#7c96bc\" d=\"M7188.4,-60C7196.39,-60 7205.31,-60 7213.82,-60\"/>\r\n<polygon fill=\"#7c96bc\" stroke=\"#7c96bc\" points=\"7213.92,-63.5001 7223.92,-60 7213.92,-56.5001 7213.92,-63.5001\"/>\r\n</g>\r\n<!-- 16883744512356849206 -->\r\n<g id=\"node55\" class=\"node\"><title>16883744512356849206</title>\r\n<polygon fill=\"#bcd6fc\" stroke=\"#7c96bc\" points=\"7637,-106 7511,-106 7511,-70 7637,-70 7637,-106\"/>\r\n<text text-anchor=\"start\" x=\"7519\" y=\"-85\" font-family=\"Verdana\" font-size=\"10.00\" fill=\"#202020\">Conv1x1 &gt; BatchNorm</text>\r\n</g>\r\n<!-- /outputs/460&#45;&gt;16883744512356849206 -->\r\n<g id=\"edge53\" class=\"edge\"><title>/outputs/460&#45;&gt;16883744512356849206</title>\r\n<path fill=\"none\" stroke=\"#7c96bc\" d=\"M7278.24,-62.608C7289.28,-63.6874 7302.26,-64.9334 7314,-66 7377.09,-71.7324 7448.88,-77.7939 7500.85,-82.0995\"/>\r\n<polygon fill=\"#7c96bc\" stroke=\"#7c96bc\" points=\"7500.71,-85.6003 7510.97,-82.9366 7501.29,-78.6241 7500.71,-85.6003\"/>\r\n</g>\r\n<!-- 6030753295181458433 -->\r\n<g id=\"node71\" class=\"node\"><title>6030753295181458433</title>\r\n<polygon fill=\"#bcd6fc\" stroke=\"#7c96bc\" points=\"7475,-57 7314,-57 7314,-13 7475,-13 7475,-57\"/>\r\n<text text-anchor=\"start\" x=\"7322.5\" y=\"-41\" font-family=\"Verdana\" font-size=\"10.00\" fill=\"#202020\">Conv1x1 &gt; BatchNorm &gt; Relu</text>\r\n<text text-anchor=\"start\" x=\"7459.5\" y=\"-20\" font-family=\"Verdana\" font-size=\"10.00\" fill=\"#202020\">x2</text>\r\n</g>\r\n<!-- /outputs/460&#45;&gt;6030753295181458433 -->\r\n<g id=\"edge83\" class=\"edge\"><title>/outputs/460&#45;&gt;6030753295181458433</title>\r\n<path fill=\"none\" stroke=\"#7c96bc\" d=\"M7278.28,-55.3563C7285.85,-54.0186 7294.57,-52.479 7303.74,-50.858\"/>\r\n<polygon fill=\"#7c96bc\" stroke=\"#7c96bc\" points=\"7304.61,-54.2594 7313.85,-49.0729 7303.39,-47.3661 7304.61,-54.2594\"/>\r\n</g>\r\n<!-- /outputs/471 -->\r\n<g id=\"node28\" class=\"node\"><title>/outputs/471</title>\r\n<polygon fill=\"#bcd6fc\" stroke=\"#7c96bc\" points=\"7727,-79 7673,-79 7673,-43 7727,-43 7727,-79\"/>\r\n<text text-anchor=\"start\" x=\"7691\" y=\"-58\" font-family=\"Verdana\" font-size=\"10.00\" fill=\"#202020\">Add</text>\r\n</g>\r\n<!-- /outputs/472 -->\r\n<g id=\"node29\" class=\"node\"><title>/outputs/472</title>\r\n<polygon fill=\"#bcd6fc\" stroke=\"#7c96bc\" points=\"7817,-79 7763,-79 7763,-43 7817,-43 7817,-79\"/>\r\n<text text-anchor=\"start\" x=\"7780\" y=\"-58\" font-family=\"Verdana\" font-size=\"10.00\" fill=\"#202020\">Relu</text>\r\n</g>\r\n<!-- /outputs/471&#45;&gt;/outputs/472 -->\r\n<g id=\"edge24\" class=\"edge\"><title>/outputs/471&#45;&gt;/outputs/472</title>\r\n<path fill=\"none\" stroke=\"#7c96bc\" d=\"M7727.4,-61C7735.39,-61 7744.31,-61 7752.82,-61\"/>\r\n<polygon fill=\"#7c96bc\" stroke=\"#7c96bc\" points=\"7752.92,-64.5001 7762.92,-61 7752.92,-57.5001 7752.92,-64.5001\"/>\r\n</g>\r\n<!-- /outputs/481 -->\r\n<g id=\"node30\" class=\"node\"><title>/outputs/481</title>\r\n<polygon fill=\"#bcd6fc\" stroke=\"#7c96bc\" points=\"8266,-80 8212,-80 8212,-44 8266,-44 8266,-80\"/>\r\n<text text-anchor=\"start\" x=\"8230\" y=\"-59\" font-family=\"Verdana\" font-size=\"10.00\" fill=\"#202020\">Add</text>\r\n</g>\r\n<!-- /outputs/472&#45;&gt;/outputs/481 -->\r\n<g id=\"edge25\" class=\"edge\"><title>/outputs/472&#45;&gt;/outputs/481</title>\r\n<path fill=\"none\" stroke=\"#7c96bc\" d=\"M7817.21,-64.1008C7828.24,-65.2595 7841.23,-66.4316 7853,-67 7981.02,-73.1802 8133.25,-67.2976 8201.61,-63.9551\"/>\r\n<polygon fill=\"#7c96bc\" stroke=\"#7c96bc\" points=\"8202.03,-67.4384 8211.84,-63.4427 8201.68,-60.4472 8202.03,-67.4384\"/>\r\n</g>\r\n<!-- 3765692444062602669 -->\r\n<g id=\"node72\" class=\"node\"><title>3765692444062602669</title>\r\n<polygon fill=\"#bcd6fc\" stroke=\"#7c96bc\" points=\"8014,-58 7853,-58 7853,-14 8014,-14 8014,-58\"/>\r\n<text text-anchor=\"start\" x=\"7861.5\" y=\"-42\" font-family=\"Verdana\" font-size=\"10.00\" fill=\"#202020\">Conv1x1 &gt; BatchNorm &gt; Relu</text>\r\n<text text-anchor=\"start\" x=\"7998.5\" y=\"-21\" font-family=\"Verdana\" font-size=\"10.00\" fill=\"#202020\">x2</text>\r\n</g>\r\n<!-- /outputs/472&#45;&gt;3765692444062602669 -->\r\n<g id=\"edge85\" class=\"edge\"><title>/outputs/472&#45;&gt;3765692444062602669</title>\r\n<path fill=\"none\" stroke=\"#7c96bc\" d=\"M7817.28,-56.3563C7824.85,-55.0186 7833.57,-53.479 7842.74,-51.858\"/>\r\n<polygon fill=\"#7c96bc\" stroke=\"#7c96bc\" points=\"7843.61,-55.2594 7852.85,-50.0729 7842.39,-48.3661 7843.61,-55.2594\"/>\r\n</g>\r\n<!-- /outputs/482 -->\r\n<g id=\"node31\" class=\"node\"><title>/outputs/482</title>\r\n<polygon fill=\"#bcd6fc\" stroke=\"#7c96bc\" points=\"8356,-80 8302,-80 8302,-44 8356,-44 8356,-80\"/>\r\n<text text-anchor=\"start\" x=\"8319\" y=\"-59\" font-family=\"Verdana\" font-size=\"10.00\" fill=\"#202020\">Relu</text>\r\n</g>\r\n<!-- /outputs/481&#45;&gt;/outputs/482 -->\r\n<g id=\"edge26\" class=\"edge\"><title>/outputs/481&#45;&gt;/outputs/482</title>\r\n<path fill=\"none\" stroke=\"#7c96bc\" d=\"M8266.4,-62C8274.39,-62 8283.31,-62 8291.82,-62\"/>\r\n<polygon fill=\"#7c96bc\" stroke=\"#7c96bc\" points=\"8291.92,-65.5001 8301.92,-62 8291.92,-58.5001 8291.92,-65.5001\"/>\r\n</g>\r\n<!-- /outputs/491 -->\r\n<g id=\"node32\" class=\"node\"><title>/outputs/491</title>\r\n<polygon fill=\"#bcd6fc\" stroke=\"#7c96bc\" points=\"8805,-81 8751,-81 8751,-45 8805,-45 8805,-81\"/>\r\n<text text-anchor=\"start\" x=\"8769\" y=\"-60\" font-family=\"Verdana\" font-size=\"10.00\" fill=\"#202020\">Add</text>\r\n</g>\r\n<!-- /outputs/482&#45;&gt;/outputs/491 -->\r\n<g id=\"edge27\" class=\"edge\"><title>/outputs/482&#45;&gt;/outputs/491</title>\r\n<path fill=\"none\" stroke=\"#7c96bc\" d=\"M8356.21,-65.1008C8367.24,-66.2595 8380.23,-67.4316 8392,-68 8520.02,-74.1802 8672.25,-68.2976 8740.61,-64.9551\"/>\r\n<polygon fill=\"#7c96bc\" stroke=\"#7c96bc\" points=\"8741.03,-68.4384 8750.84,-64.4427 8740.68,-61.4472 8741.03,-68.4384\"/>\r\n</g>\r\n<!-- 1173705817945594993 -->\r\n<g id=\"node73\" class=\"node\"><title>1173705817945594993</title>\r\n<polygon fill=\"#bcd6fc\" stroke=\"#7c96bc\" points=\"8553,-59 8392,-59 8392,-15 8553,-15 8553,-59\"/>\r\n<text text-anchor=\"start\" x=\"8400.5\" y=\"-43\" font-family=\"Verdana\" font-size=\"10.00\" fill=\"#202020\">Conv1x1 &gt; BatchNorm &gt; Relu</text>\r\n<text text-anchor=\"start\" x=\"8537.5\" y=\"-22\" font-family=\"Verdana\" font-size=\"10.00\" fill=\"#202020\">x2</text>\r\n</g>\r\n<!-- /outputs/482&#45;&gt;1173705817945594993 -->\r\n<g id=\"edge87\" class=\"edge\"><title>/outputs/482&#45;&gt;1173705817945594993</title>\r\n<path fill=\"none\" stroke=\"#7c96bc\" d=\"M8356.28,-57.3563C8363.85,-56.0186 8372.57,-54.479 8381.74,-52.858\"/>\r\n<polygon fill=\"#7c96bc\" stroke=\"#7c96bc\" points=\"8382.61,-56.2594 8391.85,-51.0729 8381.39,-49.3661 8382.61,-56.2594\"/>\r\n</g>\r\n<!-- /outputs/492 -->\r\n<g id=\"node33\" class=\"node\"><title>/outputs/492</title>\r\n<polygon fill=\"#bcd6fc\" stroke=\"#7c96bc\" points=\"8895,-81 8841,-81 8841,-45 8895,-45 8895,-81\"/>\r\n<text text-anchor=\"start\" x=\"8858\" y=\"-60\" font-family=\"Verdana\" font-size=\"10.00\" fill=\"#202020\">Relu</text>\r\n</g>\r\n<!-- /outputs/491&#45;&gt;/outputs/492 -->\r\n<g id=\"edge28\" class=\"edge\"><title>/outputs/491&#45;&gt;/outputs/492</title>\r\n<path fill=\"none\" stroke=\"#7c96bc\" d=\"M8805.4,-63C8813.39,-63 8822.31,-63 8830.82,-63\"/>\r\n<polygon fill=\"#7c96bc\" stroke=\"#7c96bc\" points=\"8830.92,-66.5001 8840.92,-63 8830.92,-59.5001 8830.92,-66.5001\"/>\r\n</g>\r\n<!-- /outputs/493 -->\r\n<g id=\"node34\" class=\"node\"><title>/outputs/493</title>\r\n<polygon fill=\"#bcd6fc\" stroke=\"#7c96bc\" points=\"9038,-81 8931,-81 8931,-45 9038,-45 9038,-81\"/>\r\n<text text-anchor=\"start\" x=\"8939.5\" y=\"-60\" font-family=\"Verdana\" font-size=\"10.00\" fill=\"#202020\">GlobalAveragePool</text>\r\n</g>\r\n<!-- /outputs/492&#45;&gt;/outputs/493 -->\r\n<g id=\"edge29\" class=\"edge\"><title>/outputs/492&#45;&gt;/outputs/493</title>\r\n<path fill=\"none\" stroke=\"#7c96bc\" d=\"M8895.27,-63C8902.94,-63 8911.68,-63 8920.61,-63\"/>\r\n<polygon fill=\"#7c96bc\" stroke=\"#7c96bc\" points=\"8920.71,-66.5001 8930.71,-63 8920.71,-59.5001 8920.71,-66.5001\"/>\r\n</g>\r\n<!-- /outputs/494 -->\r\n<g id=\"node35\" class=\"node\"><title>/outputs/494</title>\r\n<polygon fill=\"#bcd6fc\" stroke=\"#7c96bc\" points=\"9128,-81 9074,-81 9074,-45 9128,-45 9128,-81\"/>\r\n<text text-anchor=\"start\" x=\"9083\" y=\"-60\" font-family=\"Verdana\" font-size=\"10.00\" fill=\"#202020\">Flatten</text>\r\n</g>\r\n<!-- /outputs/493&#45;&gt;/outputs/494 -->\r\n<g id=\"edge30\" class=\"edge\"><title>/outputs/493&#45;&gt;/outputs/494</title>\r\n<path fill=\"none\" stroke=\"#7c96bc\" d=\"M9038.06,-63C9046.72,-63 9055.53,-63 9063.69,-63\"/>\r\n<polygon fill=\"#7c96bc\" stroke=\"#7c96bc\" points=\"9063.96,-66.5001 9073.96,-63 9063.96,-59.5001 9063.96,-66.5001\"/>\r\n</g>\r\n<!-- /outputs/495 -->\r\n<g id=\"node36\" class=\"node\"><title>/outputs/495</title>\r\n<polygon fill=\"#bcd6fc\" stroke=\"#7c96bc\" points=\"9218,-81 9164,-81 9164,-45 9218,-45 9218,-81\"/>\r\n<text text-anchor=\"start\" x=\"9176\" y=\"-60\" font-family=\"Verdana\" font-size=\"10.00\" fill=\"#202020\">Linear</text>\r\n</g>\r\n<!-- /outputs/494&#45;&gt;/outputs/495 -->\r\n<g id=\"edge31\" class=\"edge\"><title>/outputs/494&#45;&gt;/outputs/495</title>\r\n<path fill=\"none\" stroke=\"#7c96bc\" d=\"M9128.4,-63C9136.39,-63 9145.31,-63 9153.82,-63\"/>\r\n<polygon fill=\"#7c96bc\" stroke=\"#7c96bc\" points=\"9153.92,-66.5001 9163.92,-63 9153.92,-59.5001 9153.92,-66.5001\"/>\r\n</g>\r\n<!-- 13703853940277816332 -->\r\n<g id=\"node37\" class=\"node\"><title>13703853940277816332</title>\r\n<polygon fill=\"#bcd6fc\" stroke=\"#7c96bc\" points=\"161,-65 0,-65 0,-29 161,-29 161,-65\"/>\r\n<text text-anchor=\"start\" x=\"8.5\" y=\"-44\" font-family=\"Verdana\" font-size=\"10.00\" fill=\"#202020\">Conv7x7 &gt; BatchNorm &gt; Relu</text>\r\n</g>\r\n<!-- 13703853940277816332&#45;&gt;/outputs/324 -->\r\n<g id=\"edge32\" class=\"edge\"><title>13703853940277816332&#45;&gt;/outputs/324</title>\r\n<path fill=\"none\" stroke=\"#7c96bc\" d=\"M161.243,-47C169.867,-47 178.423,-47 186.46,-47\"/>\r\n<polygon fill=\"#7c96bc\" stroke=\"#7c96bc\" points=\"186.689,-50.5001 196.689,-47 186.689,-43.5001 186.689,-50.5001\"/>\r\n</g>\r\n<!-- 10120935184092484994 -->\r\n<g id=\"node38\" class=\"node\"><title>10120935184092484994</title>\r\n<polygon fill=\"#bcd6fc\" stroke=\"#7c96bc\" points=\"630,-39 504,-39 504,-3 630,-3 630,-39\"/>\r\n<text text-anchor=\"start\" x=\"512\" y=\"-18\" font-family=\"Verdana\" font-size=\"10.00\" fill=\"#202020\">Conv1x1 &gt; BatchNorm</text>\r\n</g>\r\n<!-- 10120935184092484994&#45;&gt;/outputs/335 -->\r\n<g id=\"edge33\" class=\"edge\"><title>10120935184092484994&#45;&gt;/outputs/335</title>\r\n<path fill=\"none\" stroke=\"#7c96bc\" d=\"M630.363,-34.5791C639.184,-36.4996 647.994,-38.418 656.081,-40.1788\"/>\r\n<polygon fill=\"#7c96bc\" stroke=\"#7c96bc\" points=\"655.367,-43.6054 665.883,-42.3132 656.856,-36.7657 655.367,-43.6054\"/>\r\n</g>\r\n<!-- 3748049438494949689&#45;&gt;/outputs/335 -->\r\n<g id=\"edge35\" class=\"edge\"><title>3748049438494949689&#45;&gt;/outputs/335</title>\r\n<path fill=\"none\" stroke=\"#7c96bc\" d=\"M630.363,-61.4209C639.184,-59.5004 647.994,-57.582 656.081,-55.8212\"/>\r\n<polygon fill=\"#7c96bc\" stroke=\"#7c96bc\" points=\"656.856,-59.2343 665.883,-53.6868 655.367,-52.3946 656.856,-59.2343\"/>\r\n</g>\r\n<!-- 14458119700846855683 -->\r\n<g id=\"node40\" class=\"node\"><title>14458119700846855683</title>\r\n<polygon fill=\"#bcd6fc\" stroke=\"#7c96bc\" points=\"1169,-43 1043,-43 1043,-7 1169,-7 1169,-43\"/>\r\n<text text-anchor=\"start\" x=\"1051\" y=\"-22\" font-family=\"Verdana\" font-size=\"10.00\" fill=\"#202020\">Conv1x1 &gt; BatchNorm</text>\r\n</g>\r\n<!-- 14458119700846855683&#45;&gt;/outputs/345 -->\r\n<g id=\"edge36\" class=\"edge\"><title>14458119700846855683&#45;&gt;/outputs/345</title>\r\n<path fill=\"none\" stroke=\"#7c96bc\" d=\"M1169.36,-37.0703C1178.09,-38.7585 1186.8,-40.4448 1194.81,-41.9956\"/>\r\n<polygon fill=\"#7c96bc\" stroke=\"#7c96bc\" points=\"1194.4,-45.481 1204.88,-43.945 1195.73,-38.6085 1194.4,-45.481\"/>\r\n</g>\r\n<!-- 1719499741650848570 -->\r\n<g id=\"node41\" class=\"node\"><title>1719499741650848570</title>\r\n<polygon fill=\"#bcd6fc\" stroke=\"#7c96bc\" points=\"1708,-44 1582,-44 1582,-8 1708,-8 1708,-44\"/>\r\n<text text-anchor=\"start\" x=\"1590\" y=\"-23\" font-family=\"Verdana\" font-size=\"10.00\" fill=\"#202020\">Conv1x1 &gt; BatchNorm</text>\r\n</g>\r\n<!-- 1719499741650848570&#45;&gt;/outputs/355 -->\r\n<g id=\"edge37\" class=\"edge\"><title>1719499741650848570&#45;&gt;/outputs/355</title>\r\n<path fill=\"none\" stroke=\"#7c96bc\" d=\"M1708.36,-38.0703C1717.09,-39.7585 1725.8,-41.4448 1733.81,-42.9956\"/>\r\n<polygon fill=\"#7c96bc\" stroke=\"#7c96bc\" points=\"1733.4,-46.481 1743.88,-44.945 1734.73,-39.6085 1733.4,-46.481\"/>\r\n</g>\r\n<!-- 5910941157641989499 -->\r\n<g id=\"node42\" class=\"node\"><title>5910941157641989499</title>\r\n<polygon fill=\"#bcd6fc\" stroke=\"#7c96bc\" points=\"2247,-42 2121,-42 2121,-6 2247,-6 2247,-42\"/>\r\n<text text-anchor=\"start\" x=\"2129\" y=\"-21\" font-family=\"Verdana\" font-size=\"10.00\" fill=\"#202020\">Conv1x1 &gt; BatchNorm</text>\r\n</g>\r\n<!-- 5910941157641989499&#45;&gt;/outputs/367 -->\r\n<g id=\"edge38\" class=\"edge\"><title>5910941157641989499&#45;&gt;/outputs/367</title>\r\n<path fill=\"none\" stroke=\"#7c96bc\" d=\"M2247.36,-37.5791C2256.18,-39.4996 2264.99,-41.418 2273.08,-43.1788\"/>\r\n<polygon fill=\"#7c96bc\" stroke=\"#7c96bc\" points=\"2272.37,-46.6054 2282.88,-45.3132 2273.86,-39.7657 2272.37,-46.6054\"/>\r\n</g>\r\n<!-- 909584968556341563&#45;&gt;/outputs/367 -->\r\n<g id=\"edge40\" class=\"edge\"><title>909584968556341563&#45;&gt;/outputs/367</title>\r\n<path fill=\"none\" stroke=\"#7c96bc\" d=\"M2247.36,-64.4209C2256.18,-62.5004 2264.99,-60.582 2273.08,-58.8212\"/>\r\n<polygon fill=\"#7c96bc\" stroke=\"#7c96bc\" points=\"2273.86,-62.2343 2282.88,-56.6868 2272.37,-55.3946 2273.86,-62.2343\"/>\r\n</g>\r\n<!-- 14397292522377864451 -->\r\n<g id=\"node44\" class=\"node\"><title>14397292522377864451</title>\r\n<polygon fill=\"#bcd6fc\" stroke=\"#7c96bc\" points=\"2786,-46 2660,-46 2660,-10 2786,-10 2786,-46\"/>\r\n<text text-anchor=\"start\" x=\"2668\" y=\"-25\" font-family=\"Verdana\" font-size=\"10.00\" fill=\"#202020\">Conv1x1 &gt; BatchNorm</text>\r\n</g>\r\n<!-- 14397292522377864451&#45;&gt;/outputs/377 -->\r\n<g id=\"edge41\" class=\"edge\"><title>14397292522377864451&#45;&gt;/outputs/377</title>\r\n<path fill=\"none\" stroke=\"#7c96bc\" d=\"M2786.36,-40.0703C2795.09,-41.7585 2803.8,-43.4448 2811.81,-44.9956\"/>\r\n<polygon fill=\"#7c96bc\" stroke=\"#7c96bc\" points=\"2811.4,-48.481 2821.88,-46.945 2812.73,-41.6085 2811.4,-48.481\"/>\r\n</g>\r\n<!-- 11004660560036312720 -->\r\n<g id=\"node45\" class=\"node\"><title>11004660560036312720</title>\r\n<polygon fill=\"#bcd6fc\" stroke=\"#7c96bc\" points=\"3325,-47 3199,-47 3199,-11 3325,-11 3325,-47\"/>\r\n<text text-anchor=\"start\" x=\"3207\" y=\"-26\" font-family=\"Verdana\" font-size=\"10.00\" fill=\"#202020\">Conv1x1 &gt; BatchNorm</text>\r\n</g>\r\n<!-- 11004660560036312720&#45;&gt;/outputs/387 -->\r\n<g id=\"edge42\" class=\"edge\"><title>11004660560036312720&#45;&gt;/outputs/387</title>\r\n<path fill=\"none\" stroke=\"#7c96bc\" d=\"M3325.36,-41.0703C3334.09,-42.7585 3342.8,-44.4448 3350.81,-45.9956\"/>\r\n<polygon fill=\"#7c96bc\" stroke=\"#7c96bc\" points=\"3350.4,-49.481 3360.88,-47.945 3351.73,-42.6085 3350.4,-49.481\"/>\r\n</g>\r\n<!-- 7736797122048853506 -->\r\n<g id=\"node46\" class=\"node\"><title>7736797122048853506</title>\r\n<polygon fill=\"#bcd6fc\" stroke=\"#7c96bc\" points=\"3864,-48 3738,-48 3738,-12 3864,-12 3864,-48\"/>\r\n<text text-anchor=\"start\" x=\"3746\" y=\"-27\" font-family=\"Verdana\" font-size=\"10.00\" fill=\"#202020\">Conv1x1 &gt; BatchNorm</text>\r\n</g>\r\n<!-- 7736797122048853506&#45;&gt;/outputs/397 -->\r\n<g id=\"edge43\" class=\"edge\"><title>7736797122048853506&#45;&gt;/outputs/397</title>\r\n<path fill=\"none\" stroke=\"#7c96bc\" d=\"M3864.36,-42.0703C3873.09,-43.7585 3881.8,-45.4448 3889.81,-46.9956\"/>\r\n<polygon fill=\"#7c96bc\" stroke=\"#7c96bc\" points=\"3889.4,-50.481 3899.88,-48.945 3890.73,-43.6085 3889.4,-50.481\"/>\r\n</g>\r\n<!-- 7621063302500164006 -->\r\n<g id=\"node47\" class=\"node\"><title>7621063302500164006</title>\r\n<polygon fill=\"#bcd6fc\" stroke=\"#7c96bc\" points=\"4403,-46 4277,-46 4277,-10 4403,-10 4403,-46\"/>\r\n<text text-anchor=\"start\" x=\"4285\" y=\"-25\" font-family=\"Verdana\" font-size=\"10.00\" fill=\"#202020\">Conv1x1 &gt; BatchNorm</text>\r\n</g>\r\n<!-- 7621063302500164006&#45;&gt;/outputs/409 -->\r\n<g id=\"edge44\" class=\"edge\"><title>7621063302500164006&#45;&gt;/outputs/409</title>\r\n<path fill=\"none\" stroke=\"#7c96bc\" d=\"M4403.36,-41.5791C4412.18,-43.4996 4420.99,-45.418 4429.08,-47.1788\"/>\r\n<polygon fill=\"#7c96bc\" stroke=\"#7c96bc\" points=\"4428.37,-50.6054 4438.88,-49.3132 4429.86,-43.7657 4428.37,-50.6054\"/>\r\n</g>\r\n<!-- 9271216642706392264&#45;&gt;/outputs/409 -->\r\n<g id=\"edge46\" class=\"edge\"><title>9271216642706392264&#45;&gt;/outputs/409</title>\r\n<path fill=\"none\" stroke=\"#7c96bc\" d=\"M4403.36,-68.4209C4412.18,-66.5004 4420.99,-64.582 4429.08,-62.8212\"/>\r\n<polygon fill=\"#7c96bc\" stroke=\"#7c96bc\" points=\"4429.86,-66.2343 4438.88,-60.6868 4428.37,-59.3946 4429.86,-66.2343\"/>\r\n</g>\r\n<!-- 8328074548729865543 -->\r\n<g id=\"node49\" class=\"node\"><title>8328074548729865543</title>\r\n<polygon fill=\"#bcd6fc\" stroke=\"#7c96bc\" points=\"4942,-50 4816,-50 4816,-14 4942,-14 4942,-50\"/>\r\n<text text-anchor=\"start\" x=\"4824\" y=\"-29\" font-family=\"Verdana\" font-size=\"10.00\" fill=\"#202020\">Conv1x1 &gt; BatchNorm</text>\r\n</g>\r\n<!-- 8328074548729865543&#45;&gt;/outputs/419 -->\r\n<g id=\"edge47\" class=\"edge\"><title>8328074548729865543&#45;&gt;/outputs/419</title>\r\n<path fill=\"none\" stroke=\"#7c96bc\" d=\"M4942.36,-44.0703C4951.09,-45.7585 4959.8,-47.4448 4967.81,-48.9956\"/>\r\n<polygon fill=\"#7c96bc\" stroke=\"#7c96bc\" points=\"4967.4,-52.481 4977.88,-50.945 4968.73,-45.6085 4967.4,-52.481\"/>\r\n</g>\r\n<!-- 14476452391234781298 -->\r\n<g id=\"node50\" class=\"node\"><title>14476452391234781298</title>\r\n<polygon fill=\"#bcd6fc\" stroke=\"#7c96bc\" points=\"5481,-51 5355,-51 5355,-15 5481,-15 5481,-51\"/>\r\n<text text-anchor=\"start\" x=\"5363\" y=\"-30\" font-family=\"Verdana\" font-size=\"10.00\" fill=\"#202020\">Conv1x1 &gt; BatchNorm</text>\r\n</g>\r\n<!-- 14476452391234781298&#45;&gt;/outputs/429 -->\r\n<g id=\"edge48\" class=\"edge\"><title>14476452391234781298&#45;&gt;/outputs/429</title>\r\n<path fill=\"none\" stroke=\"#7c96bc\" d=\"M5481.36,-45.0703C5490.09,-46.7585 5498.8,-48.4448 5506.81,-49.9956\"/>\r\n<polygon fill=\"#7c96bc\" stroke=\"#7c96bc\" points=\"5506.4,-53.481 5516.88,-51.945 5507.73,-46.6085 5506.4,-53.481\"/>\r\n</g>\r\n<!-- 17952483093425063411 -->\r\n<g id=\"node51\" class=\"node\"><title>17952483093425063411</title>\r\n<polygon fill=\"#bcd6fc\" stroke=\"#7c96bc\" points=\"6020,-52 5894,-52 5894,-16 6020,-16 6020,-52\"/>\r\n<text text-anchor=\"start\" x=\"5902\" y=\"-31\" font-family=\"Verdana\" font-size=\"10.00\" fill=\"#202020\">Conv1x1 &gt; BatchNorm</text>\r\n</g>\r\n<!-- 17952483093425063411&#45;&gt;/outputs/439 -->\r\n<g id=\"edge49\" class=\"edge\"><title>17952483093425063411&#45;&gt;/outputs/439</title>\r\n<path fill=\"none\" stroke=\"#7c96bc\" d=\"M6020.36,-46.0703C6029.09,-47.7585 6037.8,-49.4448 6045.81,-50.9956\"/>\r\n<polygon fill=\"#7c96bc\" stroke=\"#7c96bc\" points=\"6045.4,-54.481 6055.88,-52.945 6046.73,-47.6085 6045.4,-54.481\"/>\r\n</g>\r\n<!-- 16438577135010847656 -->\r\n<g id=\"node52\" class=\"node\"><title>16438577135010847656</title>\r\n<polygon fill=\"#bcd6fc\" stroke=\"#7c96bc\" points=\"6559,-53 6433,-53 6433,-17 6559,-17 6559,-53\"/>\r\n<text text-anchor=\"start\" x=\"6441\" y=\"-32\" font-family=\"Verdana\" font-size=\"10.00\" fill=\"#202020\">Conv1x1 &gt; BatchNorm</text>\r\n</g>\r\n<!-- 16438577135010847656&#45;&gt;/outputs/449 -->\r\n<g id=\"edge50\" class=\"edge\"><title>16438577135010847656&#45;&gt;/outputs/449</title>\r\n<path fill=\"none\" stroke=\"#7c96bc\" d=\"M6559.36,-47.0703C6568.09,-48.7585 6576.8,-50.4448 6584.81,-51.9956\"/>\r\n<polygon fill=\"#7c96bc\" stroke=\"#7c96bc\" points=\"6584.4,-55.481 6594.88,-53.945 6585.73,-48.6085 6584.4,-55.481\"/>\r\n</g>\r\n<!-- 5397377715600773268 -->\r\n<g id=\"node53\" class=\"node\"><title>5397377715600773268</title>\r\n<polygon fill=\"#bcd6fc\" stroke=\"#7c96bc\" points=\"7098,-54 6972,-54 6972,-18 7098,-18 7098,-54\"/>\r\n<text text-anchor=\"start\" x=\"6980\" y=\"-33\" font-family=\"Verdana\" font-size=\"10.00\" fill=\"#202020\">Conv1x1 &gt; BatchNorm</text>\r\n</g>\r\n<!-- 5397377715600773268&#45;&gt;/outputs/459 -->\r\n<g id=\"edge51\" class=\"edge\"><title>5397377715600773268&#45;&gt;/outputs/459</title>\r\n<path fill=\"none\" stroke=\"#7c96bc\" d=\"M7098.36,-48.0703C7107.09,-49.7585 7115.8,-51.4448 7123.81,-52.9956\"/>\r\n<polygon fill=\"#7c96bc\" stroke=\"#7c96bc\" points=\"7123.4,-56.481 7133.88,-54.945 7124.73,-49.6085 7123.4,-56.481\"/>\r\n</g>\r\n<!-- 9673016965321812015 -->\r\n<g id=\"node54\" class=\"node\"><title>9673016965321812015</title>\r\n<polygon fill=\"#bcd6fc\" stroke=\"#7c96bc\" points=\"7637,-52 7511,-52 7511,-16 7637,-16 7637,-52\"/>\r\n<text text-anchor=\"start\" x=\"7519\" y=\"-31\" font-family=\"Verdana\" font-size=\"10.00\" fill=\"#202020\">Conv1x1 &gt; BatchNorm</text>\r\n</g>\r\n<!-- 9673016965321812015&#45;&gt;/outputs/471 -->\r\n<g id=\"edge52\" class=\"edge\"><title>9673016965321812015&#45;&gt;/outputs/471</title>\r\n<path fill=\"none\" stroke=\"#7c96bc\" d=\"M7637.36,-47.5791C7646.18,-49.4996 7654.99,-51.418 7663.08,-53.1788\"/>\r\n<polygon fill=\"#7c96bc\" stroke=\"#7c96bc\" points=\"7662.37,-56.6054 7672.88,-55.3132 7663.86,-49.7657 7662.37,-56.6054\"/>\r\n</g>\r\n<!-- 16883744512356849206&#45;&gt;/outputs/471 -->\r\n<g id=\"edge54\" class=\"edge\"><title>16883744512356849206&#45;&gt;/outputs/471</title>\r\n<path fill=\"none\" stroke=\"#7c96bc\" d=\"M7637.36,-74.4209C7646.18,-72.5004 7654.99,-70.582 7663.08,-68.8212\"/>\r\n<polygon fill=\"#7c96bc\" stroke=\"#7c96bc\" points=\"7663.86,-72.2343 7672.88,-66.6868 7662.37,-65.3946 7663.86,-72.2343\"/>\r\n</g>\r\n<!-- 10875326852140433305 -->\r\n<g id=\"node56\" class=\"node\"><title>10875326852140433305</title>\r\n<polygon fill=\"#bcd6fc\" stroke=\"#7c96bc\" points=\"8176,-56 8050,-56 8050,-20 8176,-20 8176,-56\"/>\r\n<text text-anchor=\"start\" x=\"8058\" y=\"-35\" font-family=\"Verdana\" font-size=\"10.00\" fill=\"#202020\">Conv1x1 &gt; BatchNorm</text>\r\n</g>\r\n<!-- 10875326852140433305&#45;&gt;/outputs/481 -->\r\n<g id=\"edge55\" class=\"edge\"><title>10875326852140433305&#45;&gt;/outputs/481</title>\r\n<path fill=\"none\" stroke=\"#7c96bc\" d=\"M8176.36,-50.0703C8185.09,-51.7585 8193.8,-53.4448 8201.81,-54.9956\"/>\r\n<polygon fill=\"#7c96bc\" stroke=\"#7c96bc\" points=\"8201.4,-58.481 8211.88,-56.945 8202.73,-51.6085 8201.4,-58.481\"/>\r\n</g>\r\n<!-- 16580692332106516469 -->\r\n<g id=\"node57\" class=\"node\"><title>16580692332106516469</title>\r\n<polygon fill=\"#bcd6fc\" stroke=\"#7c96bc\" points=\"8715,-57 8589,-57 8589,-21 8715,-21 8715,-57\"/>\r\n<text text-anchor=\"start\" x=\"8597\" y=\"-36\" font-family=\"Verdana\" font-size=\"10.00\" fill=\"#202020\">Conv1x1 &gt; BatchNorm</text>\r\n</g>\r\n<!-- 16580692332106516469&#45;&gt;/outputs/491 -->\r\n<g id=\"edge56\" class=\"edge\"><title>16580692332106516469&#45;&gt;/outputs/491</title>\r\n<path fill=\"none\" stroke=\"#7c96bc\" d=\"M8715.36,-51.0703C8724.09,-52.7585 8732.8,-54.4448 8740.81,-55.9956\"/>\r\n<polygon fill=\"#7c96bc\" stroke=\"#7c96bc\" points=\"8740.4,-59.481 8750.88,-57.945 8741.73,-52.6085 8740.4,-59.481\"/>\r\n</g>\r\n<!-- 11281232665942741074&#45;&gt;10120935184092484994 -->\r\n<g id=\"edge58\" class=\"edge\"><title>11281232665942741074&#45;&gt;10120935184092484994</title>\r\n<path fill=\"none\" stroke=\"#7c96bc\" d=\"M468.164,-21.5512C476.682,-21.5032 485.312,-21.4546 493.737,-21.4071\"/>\r\n<polygon fill=\"#7c96bc\" stroke=\"#7c96bc\" points=\"493.911,-24.9063 503.891,-21.3499 493.871,-17.9064 493.911,-24.9063\"/>\r\n</g>\r\n<!-- 7431932848926657730&#45;&gt;14458119700846855683 -->\r\n<g id=\"edge60\" class=\"edge\"><title>7431932848926657730&#45;&gt;14458119700846855683</title>\r\n<path fill=\"none\" stroke=\"#7c96bc\" d=\"M1007.16,-23.8976C1015.68,-23.9936 1024.31,-24.0908 1032.74,-24.1858\"/>\r\n<polygon fill=\"#7c96bc\" stroke=\"#7c96bc\" points=\"1032.85,-27.6872 1042.89,-24.3002 1032.93,-20.6876 1032.85,-27.6872\"/>\r\n</g>\r\n<!-- 8887097574828164065&#45;&gt;1719499741650848570 -->\r\n<g id=\"edge62\" class=\"edge\"><title>8887097574828164065&#45;&gt;1719499741650848570</title>\r\n<path fill=\"none\" stroke=\"#7c96bc\" d=\"M1546.16,-24.8976C1554.68,-24.9936 1563.31,-25.0908 1571.74,-25.1858\"/>\r\n<polygon fill=\"#7c96bc\" stroke=\"#7c96bc\" points=\"1571.85,-28.6872 1581.89,-25.3002 1571.93,-21.6876 1571.85,-28.6872\"/>\r\n</g>\r\n<!-- 14744533143294611504&#45;&gt;5910941157641989499 -->\r\n<g id=\"edge64\" class=\"edge\"><title>14744533143294611504&#45;&gt;5910941157641989499</title>\r\n<path fill=\"none\" stroke=\"#7c96bc\" d=\"M2085.16,-24.5512C2093.68,-24.5032 2102.31,-24.4546 2110.74,-24.4071\"/>\r\n<polygon fill=\"#7c96bc\" stroke=\"#7c96bc\" points=\"2110.91,-27.9063 2120.89,-24.3499 2110.87,-20.9064 2110.91,-27.9063\"/>\r\n</g>\r\n<!-- 5761287707536426244&#45;&gt;14397292522377864451 -->\r\n<g id=\"edge66\" class=\"edge\"><title>5761287707536426244&#45;&gt;14397292522377864451</title>\r\n<path fill=\"none\" stroke=\"#7c96bc\" d=\"M2624.16,-26.8976C2632.68,-26.9936 2641.31,-27.0908 2649.74,-27.1858\"/>\r\n<polygon fill=\"#7c96bc\" stroke=\"#7c96bc\" points=\"2649.85,-30.6872 2659.89,-27.3002 2649.93,-23.6876 2649.85,-30.6872\"/>\r\n</g>\r\n<!-- 5266282649590766101&#45;&gt;11004660560036312720 -->\r\n<g id=\"edge68\" class=\"edge\"><title>5266282649590766101&#45;&gt;11004660560036312720</title>\r\n<path fill=\"none\" stroke=\"#7c96bc\" d=\"M3163.16,-27.8976C3171.68,-27.9936 3180.31,-28.0908 3188.74,-28.1858\"/>\r\n<polygon fill=\"#7c96bc\" stroke=\"#7c96bc\" points=\"3188.85,-31.6872 3198.89,-28.3002 3188.93,-24.6876 3188.85,-31.6872\"/>\r\n</g>\r\n<!-- 17625981846661465408&#45;&gt;7736797122048853506 -->\r\n<g id=\"edge70\" class=\"edge\"><title>17625981846661465408&#45;&gt;7736797122048853506</title>\r\n<path fill=\"none\" stroke=\"#7c96bc\" d=\"M3702.16,-28.8976C3710.68,-28.9936 3719.31,-29.0908 3727.74,-29.1858\"/>\r\n<polygon fill=\"#7c96bc\" stroke=\"#7c96bc\" points=\"3727.85,-32.6872 3737.89,-29.3002 3727.93,-25.6876 3727.85,-32.6872\"/>\r\n</g>\r\n<!-- 11288433234076435525&#45;&gt;7621063302500164006 -->\r\n<g id=\"edge72\" class=\"edge\"><title>11288433234076435525&#45;&gt;7621063302500164006</title>\r\n<path fill=\"none\" stroke=\"#7c96bc\" d=\"M4241.16,-28.5512C4249.68,-28.5032 4258.31,-28.4546 4266.74,-28.4071\"/>\r\n<polygon fill=\"#7c96bc\" stroke=\"#7c96bc\" points=\"4266.91,-31.9063 4276.89,-28.3499 4266.87,-24.9064 4266.91,-31.9063\"/>\r\n</g>\r\n<!-- 17941248187817808571&#45;&gt;8328074548729865543 -->\r\n<g id=\"edge74\" class=\"edge\"><title>17941248187817808571&#45;&gt;8328074548729865543</title>\r\n<path fill=\"none\" stroke=\"#7c96bc\" d=\"M4780.16,-30.8976C4788.68,-30.9936 4797.31,-31.0908 4805.74,-31.1858\"/>\r\n<polygon fill=\"#7c96bc\" stroke=\"#7c96bc\" points=\"4805.85,-34.6872 4815.89,-31.3002 4805.93,-27.6876 4805.85,-34.6872\"/>\r\n</g>\r\n<!-- 18286107242129515817&#45;&gt;14476452391234781298 -->\r\n<g id=\"edge76\" class=\"edge\"><title>18286107242129515817&#45;&gt;14476452391234781298</title>\r\n<path fill=\"none\" stroke=\"#7c96bc\" d=\"M5319.16,-31.8976C5327.68,-31.9936 5336.31,-32.0908 5344.74,-32.1858\"/>\r\n<polygon fill=\"#7c96bc\" stroke=\"#7c96bc\" points=\"5344.85,-35.6872 5354.89,-32.3002 5344.93,-28.6876 5344.85,-35.6872\"/>\r\n</g>\r\n<!-- 11572777843000162229&#45;&gt;17952483093425063411 -->\r\n<g id=\"edge78\" class=\"edge\"><title>11572777843000162229&#45;&gt;17952483093425063411</title>\r\n<path fill=\"none\" stroke=\"#7c96bc\" d=\"M5858.16,-32.8976C5866.68,-32.9936 5875.31,-33.0908 5883.74,-33.1858\"/>\r\n<polygon fill=\"#7c96bc\" stroke=\"#7c96bc\" points=\"5883.85,-36.6872 5893.89,-33.3002 5883.93,-29.6876 5883.85,-36.6872\"/>\r\n</g>\r\n<!-- 11874679075118034642&#45;&gt;16438577135010847656 -->\r\n<g id=\"edge80\" class=\"edge\"><title>11874679075118034642&#45;&gt;16438577135010847656</title>\r\n<path fill=\"none\" stroke=\"#7c96bc\" d=\"M6397.16,-33.8976C6405.68,-33.9936 6414.31,-34.0908 6422.74,-34.1858\"/>\r\n<polygon fill=\"#7c96bc\" stroke=\"#7c96bc\" points=\"6422.85,-37.6872 6432.89,-34.3002 6422.93,-30.6876 6422.85,-37.6872\"/>\r\n</g>\r\n<!-- 10613189567605291703&#45;&gt;5397377715600773268 -->\r\n<g id=\"edge82\" class=\"edge\"><title>10613189567605291703&#45;&gt;5397377715600773268</title>\r\n<path fill=\"none\" stroke=\"#7c96bc\" d=\"M6936.16,-34.8976C6944.68,-34.9936 6953.31,-35.0908 6961.74,-35.1858\"/>\r\n<polygon fill=\"#7c96bc\" stroke=\"#7c96bc\" points=\"6961.85,-38.6872 6971.89,-35.3002 6961.93,-31.6876 6961.85,-38.6872\"/>\r\n</g>\r\n<!-- 6030753295181458433&#45;&gt;9673016965321812015 -->\r\n<g id=\"edge84\" class=\"edge\"><title>6030753295181458433&#45;&gt;9673016965321812015</title>\r\n<path fill=\"none\" stroke=\"#7c96bc\" d=\"M7475.16,-34.5512C7483.68,-34.5032 7492.31,-34.4546 7500.74,-34.4071\"/>\r\n<polygon fill=\"#7c96bc\" stroke=\"#7c96bc\" points=\"7500.91,-37.9063 7510.89,-34.3499 7500.87,-30.9064 7500.91,-37.9063\"/>\r\n</g>\r\n<!-- 3765692444062602669&#45;&gt;10875326852140433305 -->\r\n<g id=\"edge86\" class=\"edge\"><title>3765692444062602669&#45;&gt;10875326852140433305</title>\r\n<path fill=\"none\" stroke=\"#7c96bc\" d=\"M8014.16,-36.8976C8022.68,-36.9936 8031.31,-37.0908 8039.74,-37.1858\"/>\r\n<polygon fill=\"#7c96bc\" stroke=\"#7c96bc\" points=\"8039.85,-40.6872 8049.89,-37.3002 8039.93,-33.6876 8039.85,-40.6872\"/>\r\n</g>\r\n<!-- 1173705817945594993&#45;&gt;16580692332106516469 -->\r\n<g id=\"edge88\" class=\"edge\"><title>1173705817945594993&#45;&gt;16580692332106516469</title>\r\n<path fill=\"none\" stroke=\"#7c96bc\" d=\"M8553.16,-37.8976C8561.68,-37.9936 8570.31,-38.0908 8578.74,-38.1858\"/>\r\n<polygon fill=\"#7c96bc\" stroke=\"#7c96bc\" points=\"8578.85,-41.6872 8588.89,-38.3002 8578.93,-34.6876 8578.85,-41.6872\"/>\r\n</g>\r\n</g>\r\n</svg>\r\n"
     },
     "execution_count": 12,
     "metadata": {},
     "output_type": "execute_result"
    }
   ],
   "source": [
    "import hiddenlayer as hl\n",
    "\n",
    "hl_graph = hl.build_graph(model, torch.zeros((1, 3, img_h, img_w)).to('cuda'))\n",
    "hl_graph.theme = hl.graph.THEMES[\"blue\"].copy()\n",
    "#hl_graph.save(path=\"wide_resnet\" , format=\"jpg\")\n",
    "hl_graph\n"
   ],
   "metadata": {
    "collapsed": false,
    "pycharm": {
     "name": "#%%\n"
    }
   }
  },
  {
   "cell_type": "code",
   "execution_count": 6,
   "outputs": [],
   "source": [
    "class AE(torch.nn.Module):\n",
    "    def __init__(self, img_h, img_w):\n",
    "        super().__init__()\n",
    "\n",
    "        # Building an linear encoder with Linear\n",
    "        # layer followed by Relu activation function\n",
    "        # 784 ==> 9\n",
    "        self.encoder = torch.nn.Sequential(\n",
    "            torch.nn.Linear(img_w * img_h*3, 128),\n",
    "            torch.nn.ReLU(),\n",
    "            torch.nn.Linear(128, 64),\n",
    "            torch.nn.ReLU(),\n",
    "            torch.nn.Linear(64, 36),\n",
    "            torch.nn.ReLU(),\n",
    "            torch.nn.Linear(36, 18),\n",
    "            torch.nn.ReLU(),\n",
    "            torch.nn.Linear(18, 9)\n",
    "        )\n",
    "\n",
    "        # Building an linear decoder with Linear\n",
    "        # layer followed by Relu activation function\n",
    "        # The Sigmoid activation function\n",
    "        # outputs the value between 0 and 1\n",
    "        # 9 ==> 784\n",
    "        self.decoder = torch.nn.Sequential(\n",
    "            torch.nn.Linear(9, 18),\n",
    "            torch.nn.ReLU(),\n",
    "            torch.nn.Linear(18, 36),\n",
    "            torch.nn.ReLU(),\n",
    "            torch.nn.Linear(36, 64),\n",
    "            torch.nn.ReLU(),\n",
    "            torch.nn.Linear(64, 128),\n",
    "            torch.nn.ReLU(),\n",
    "            torch.nn.Linear(128, img_h*img_w*3),\n",
    "            torch.nn.Sigmoid()\n",
    "        )\n",
    "\n",
    "    def forward(self, x):\n",
    "        encoded = self.encoder(x)\n",
    "        decoded = self.decoder(encoded)\n",
    "        return decoded"
   ],
   "metadata": {
    "collapsed": false,
    "pycharm": {
     "name": "#%%\n"
    }
   }
  },
  {
   "cell_type": "code",
   "execution_count": 7,
   "outputs": [],
   "source": [
    "# Model Initialization\n",
    "model = AE(img_h,img_w)\n",
    "if torch.cuda.is_available():\n",
    "    model.to('cuda')\n",
    "# Validation using MSE Loss function\n",
    "loss_function = torch.nn.MSELoss()\n",
    "\n",
    "# Using an Adam Optimizer with lr = 0.1\n",
    "optimizer = torch.optim.Adam(model.parameters(),\n",
    "                             lr = 1e-2,\n",
    "                             weight_decay = 1e-8)\n"
   ],
   "metadata": {
    "collapsed": false,
    "pycharm": {
     "name": "#%%\n"
    }
   }
  },
  {
   "cell_type": "code",
   "execution_count": 8,
   "outputs": [],
   "source": [
    "import matplotlib.pyplot as plt\n",
    "epochs = 10\n",
    "outputs = []\n",
    "losses = []\n",
    "\n",
    "for epoch in range(epochs):\n",
    "    for (image, _) in train_loader:\n",
    "        if torch.cuda.is_available():\n",
    "            image =  image.to('cuda')\n",
    "        # Reshaping the image to (-1, 784)\n",
    "        image = image.reshape(-1, img_w*img_h*3)\n",
    "        # Output of Autoencoder\n",
    "        reconstructed = model(image)\n",
    "        # Calculating the loss function\n",
    "        loss = loss_function(reconstructed, image)\n",
    "        # The gradients are set to zero,\n",
    "        # the the gradient is computed and stored.\n",
    "        # .step() performs parameter update\n",
    "        optimizer.zero_grad()\n",
    "        loss.backward()\n",
    "        optimizer.step()\n",
    "        # Storing the losses in a list for plotting\n",
    "        losses.append(loss)\n",
    "    outputs.append((epochs, image, reconstructed))"
   ],
   "metadata": {
    "collapsed": false,
    "pycharm": {
     "name": "#%%\n"
    }
   }
  },
  {
   "cell_type": "code",
   "execution_count": 10,
   "outputs": [
    {
     "data": {
      "text/plain": "[<matplotlib.lines.Line2D at 0x206939870a0>]"
     },
     "execution_count": 10,
     "metadata": {},
     "output_type": "execute_result"
    },
    {
     "data": {
      "text/plain": "<Figure size 432x288 with 1 Axes>",
      "image/png": "[encoded data removed]"
     },
     "metadata": {},
     "output_type": "display_data"
    }
   ],
   "source": [
    "cpu_losses = []\n",
    "for loss in losses:\n",
    "    cpu_losses.append(loss.to('cpu').detach().numpy())\n",
    "# Defining the Plot Style\n",
    "plt.style.use('fivethirtyeight')\n",
    "plt.xlabel('Iterations')\n",
    "plt.ylabel('Loss')\n",
    "# Plotting the last 100 values\n",
    "plt.plot(cpu_losses)\n",
    "\n"
   ],
   "metadata": {
    "collapsed": false,
    "pycharm": {
     "name": "#%%\n"
    }
   }
  }
 ],
 "metadata": {
  "kernelspec": {
   "name": "my-torch",
   "language": "python",
   "display_name": "my-torch"
  },
  "language_info": {
   "codemirror_mode": {
    "name": "ipython",
    "version": 2
   },
   "file_extension": ".py",
   "mimetype": "text/x-python",
   "name": "python",
   "nbconvert_exporter": "python",
   "pygments_lexer": "ipython2",
   "version": "2.7.6"
  }
 },
 "nbformat": 4,
 "nbformat_minor": 0
}