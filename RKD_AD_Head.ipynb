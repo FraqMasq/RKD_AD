{
 "cells": [
  {
   "cell_type": "code",
   "execution_count": 1,
   "metadata": {
    "collapsed": true
   },
   "outputs": [
    {
     "name": "stderr",
     "output_type": "stream",
     "text": [
      "C:\\Users\\user\\anaconda3\\envs\\my-torch\\lib\\site-packages\\tqdm\\auto.py:22: TqdmWarning: IProgress not found. Please update jupyter and ipywidgets. See https://ipywidgets.readthedocs.io/en/stable/user_install.html\n",
      "  from .autonotebook import tqdm as notebook_tqdm\n"
     ]
    },
    {
     "name": "stdout",
     "output_type": "stream",
     "text": [
      "cuda:0\n"
     ]
    }
   ],
   "source": [
    "import torch\n",
    "import torchvision\n",
    "import torchvision.transforms as transforms\n",
    "from torch.utils.data import Dataset, SubsetRandomSampler\n",
    "import torch.nn as nn\n",
    "from torchvision import datasets\n",
    "import numpy as np\n",
    "from PIL import Image\n",
    "from pytorch_model_summary import summary\n",
    "from torchvision.datasets.folder import pil_loader\n",
    "\n",
    "device = torch.device('cuda:0' if torch.cuda.is_available() else 'cpu')\n",
    "\n",
    "# Assuming that we are on a CUDA machine, this should print a CUDA device:\n",
    "\n",
    "print(device)"
   ]
  },
  {
   "cell_type": "code",
   "execution_count": 3,
   "outputs": [],
   "source": [
    "item = 'HeadCT'"
   ],
   "metadata": {
    "collapsed": false,
    "pycharm": {
     "name": "#%%\n"
    }
   }
  },
  {
   "cell_type": "code",
   "execution_count": 21,
   "outputs": [],
   "source": [
    "import os\n",
    "cwd = os.getcwd()\n",
    "path = os.path.join(cwd, 'data')\n",
    "path = os.path.join(path, 'Head_ct')\n",
    "path = os.path.join(path, 'no')\n",
    "#path = os.path.join(path, 'train')\n",
    "#path = os.path.join(path, 'good')\n",
    "#filename = os.path.join(path, '000.png')\n",
    "\n"
   ],
   "metadata": {
    "collapsed": false,
    "pycharm": {
     "name": "#%%\n"
    }
   }
  },
  {
   "cell_type": "code",
   "execution_count": 22,
   "outputs": [],
   "source": [
    "img_h = 224\n",
    "img_w = 224\n",
    "# Wide-ResNet preprocessing\n",
    "from torchvision import transforms\n",
    "preprocess = transforms.Compose([\n",
    "    transforms.Resize((img_h,img_w)),\n",
    "    transforms.CenterCrop(224),\n",
    "    transforms.ToTensor(),\n",
    "    transforms.Normalize(mean=[0.485, 0.456, 0.406], std=[0.229, 0.224, 0.225]),\n",
    "])"
   ],
   "metadata": {
    "collapsed": false,
    "pycharm": {
     "name": "#%%\n"
    }
   }
  },
  {
   "cell_type": "code",
   "execution_count": 23,
   "outputs": [],
   "source": [
    "class MyDataset(Dataset):\n",
    "    def __init__(self, image_ids, image_dir, transform, target_transform=None):\n",
    "        self.image_ids = image_ids\n",
    "        self.image_dir = image_dir\n",
    "        self.transform = transform\n",
    "        self.target_transform = target_transform\n",
    "\n",
    "    def __getitem__(self, index):\n",
    "        image = pil_loader(os.path.join(self.image_dir, self.image_ids[index]))\n",
    "\n",
    "        if self.transform:\n",
    "            image = self.transform(image)\n",
    "\n",
    "        x, y = image, image\n",
    "        return x, y\n",
    "\n",
    "    def __len__(self):\n",
    "        return len(self.image_ids)\n",
    "\n"
   ],
   "metadata": {
    "collapsed": false,
    "pycharm": {
     "name": "#%%\n"
    }
   }
  },
  {
   "cell_type": "code",
   "execution_count": 24,
   "outputs": [],
   "source": [
    "dataset = MyDataset(os.listdir(path), path, preprocess)\n",
    "batch_size = 16\n",
    "validation_split = .25\n",
    "shuffle_dataset = True\n",
    "random_seed= 42\n",
    "\n",
    "# Creating data indices for training and validation splits:\n",
    "dataset_size = len(dataset)\n",
    "indices = list(range(dataset_size))\n",
    "split = int(np.floor(validation_split * dataset_size))\n",
    "if shuffle_dataset :\n",
    "    np.random.seed(random_seed)\n",
    "    np.random.shuffle(indices)\n",
    "train_indices, val_indices = indices[split:], indices[:split]\n",
    "\n",
    "# Creating PT data samplers and loaders:\n",
    "train_sampler = SubsetRandomSampler(train_indices)\n",
    "valid_sampler = SubsetRandomSampler(val_indices)\n",
    "\n",
    "train_loader = torch.utils.data.DataLoader(dataset, batch_size=batch_size,\n",
    "                                           sampler=train_sampler)\n",
    "validation_loader = torch.utils.data.DataLoader(dataset, batch_size=1,\n",
    "                                                sampler=valid_sampler)"
   ],
   "metadata": {
    "collapsed": false,
    "pycharm": {
     "name": "#%%\n"
    }
   }
  },
  {
   "cell_type": "code",
   "execution_count": 25,
   "outputs": [
    {
     "name": "stdout",
     "output_type": "stream",
     "text": [
      "100\n",
      "75\n",
      "25\n"
     ]
    }
   ],
   "source": [
    "print(len(dataset))\n",
    "print(len(train_loader.sampler))\n",
    "print(len(validation_loader.sampler))\n"
   ],
   "metadata": {
    "collapsed": false,
    "pycharm": {
     "name": "#%%\n"
    }
   }
  },
  {
   "cell_type": "code",
   "execution_count": 26,
   "outputs": [],
   "source": [
    "\n",
    "class CustomResNet(nn.Module):\n",
    "    def __init__(self, model):\n",
    "        super(CustomResNet, self).__init__()\n",
    "\n",
    "        self.l1 = nn.Sequential(model.conv1,\n",
    "                                model.bn1,\n",
    "                                model.relu,\n",
    "                                model.maxpool,\n",
    "                                model.layer1)\n",
    "        self.l2 = nn.Sequential(\n",
    "                                model.layer2)\n",
    "        self.l3 = nn.Sequential(\n",
    "                                model.layer3)\n",
    "    def forward(self, x):\n",
    "        x1 = self.l1(x)\n",
    "        x2 = self.l2(x1)\n",
    "        x3 = self.l3(x2)\n",
    "        return x1, x2, x3\n"
   ],
   "metadata": {
    "collapsed": false,
    "pycharm": {
     "name": "#%%\n"
    }
   }
  },
  {
   "cell_type": "code",
   "execution_count": 27,
   "outputs": [],
   "source": [
    "from typing import Callable, List, Optional, Type, Union\n",
    "\n",
    "import torch\n",
    "from torch import Tensor, nn\n",
    "from torchvision.models.resnet import BasicBlock, Bottleneck\n",
    "\n",
    "\n",
    "def conv3x3(in_planes: int, out_planes: int, stride: int = 1, groups: int = 1, dilation: int = 1) -> nn.Conv2d:\n",
    "    \"\"\"3x3 convolution with padding.\"\"\"\n",
    "    return nn.Conv2d(\n",
    "        in_planes,\n",
    "        out_planes,\n",
    "        kernel_size=3,\n",
    "        stride=stride,\n",
    "        padding=dilation,\n",
    "        groups=groups,\n",
    "        bias=False,\n",
    "        dilation=dilation,\n",
    "    )\n",
    "\n",
    "\n",
    "def conv1x1(in_planes: int, out_planes: int, stride: int = 1) -> nn.Conv2d:\n",
    "    \"\"\"1x1 convolution.\"\"\"\n",
    "    return nn.Conv2d(in_planes, out_planes, kernel_size=1, stride=stride, bias=False)\n",
    "\n",
    "\n",
    "class OCBE(nn.Module):\n",
    "    \"\"\"One-Class Bottleneck Embedding module.\n",
    "    Args:\n",
    "        block (Bottleneck): Expansion value is extracted from this block.\n",
    "        layers (int): Numbers of OCE layers to create after multiscale feature fusion.\n",
    "        groups (int, optional): Number of blocked connections from input channels to output channels.\n",
    "            Defaults to 1.\n",
    "        width_per_group (int, optional): Number of layers in each intermediate convolution layer. Defaults to 64.\n",
    "        norm_layer (Optional[Callable[..., nn.Module]], optional): Batch norm layer to use. Defaults to None.\n",
    "    \"\"\"\n",
    "\n",
    "    def __init__(\n",
    "        self,\n",
    "        block: Type[Union[Bottleneck, BasicBlock]],\n",
    "        layers: int,\n",
    "        groups: int = 1,\n",
    "        width_per_group: int = 64,\n",
    "        norm_layer: Optional[Callable[..., nn.Module]] = None,\n",
    "    ):\n",
    "        super().__init__()\n",
    "        if norm_layer is None:\n",
    "            norm_layer = nn.BatchNorm2d\n",
    "        self._norm_layer = norm_layer\n",
    "        self.groups = groups\n",
    "        self.base_width = width_per_group\n",
    "        self.inplanes = 256 * block.expansion\n",
    "        self.dilation = 1\n",
    "        self.bn_layer = self._make_layer(block, 512, layers, stride=2)\n",
    "\n",
    "        self.conv1 = conv3x3(64 * block.expansion, 128 * block.expansion, 2)\n",
    "        self.bn1 = norm_layer(128 * block.expansion)\n",
    "        self.relu = nn.ReLU(inplace=True)\n",
    "        self.conv2 = conv3x3(128 * block.expansion, 256 * block.expansion, 2)\n",
    "        self.bn2 = norm_layer(256 * block.expansion)\n",
    "        self.conv3 = conv3x3(128 * block.expansion, 256 * block.expansion, 2)\n",
    "        self.bn3 = norm_layer(256 * block.expansion)\n",
    "\n",
    "        # This is present in the paper but not in the original code. With some initial experiments, removing this leads\n",
    "        # to better results\n",
    "        # self.conv4 = conv1x1(256 * block.expansion * 3, 256 * block.expansion * 3, 1)  # x3 as we concatenate 3 layers\n",
    "        # self.bn4 = norm_layer(256 * block.expansion * 3)\n",
    "\n",
    "        for module in self.modules():\n",
    "            if isinstance(module, nn.Conv2d):\n",
    "                nn.init.kaiming_normal_(module.weight, mode=\"fan_out\", nonlinearity=\"relu\")\n",
    "            elif isinstance(module, (nn.BatchNorm2d, nn.GroupNorm)):\n",
    "                nn.init.constant_(module.weight, 1)\n",
    "                nn.init.constant_(module.bias, 0)\n",
    "\n",
    "    def _make_layer(\n",
    "        self,\n",
    "        block: Type[Union[Bottleneck, BasicBlock]],\n",
    "        planes: int,\n",
    "        blocks: int,\n",
    "        stride: int = 1,\n",
    "        dilate: bool = False,\n",
    "    ) -> nn.Sequential:\n",
    "        norm_layer = self._norm_layer\n",
    "        downsample = None\n",
    "        previous_dilation = self.dilation\n",
    "        if dilate:\n",
    "            self.dilation *= stride\n",
    "            stride = 1\n",
    "        if stride != 1 or self.inplanes != planes * block.expansion:\n",
    "            downsample = nn.Sequential(\n",
    "                conv1x1(self.inplanes * 3, planes * block.expansion, stride),\n",
    "                norm_layer(planes * block.expansion),\n",
    "            )\n",
    "\n",
    "        layers = []\n",
    "        layers.append(\n",
    "            block(\n",
    "                self.inplanes * 3,\n",
    "                planes,\n",
    "                stride,\n",
    "                downsample,\n",
    "                self.groups,\n",
    "                self.base_width,\n",
    "                previous_dilation,\n",
    "                norm_layer,\n",
    "            )\n",
    "        )\n",
    "        self.inplanes = planes * block.expansion\n",
    "        for _ in range(1, blocks):\n",
    "            layers.append(\n",
    "                block(\n",
    "                    self.inplanes,\n",
    "                    planes,\n",
    "                    groups=self.groups,\n",
    "                    base_width=self.base_width,\n",
    "                    dilation=self.dilation,\n",
    "                    norm_layer=norm_layer,\n",
    "                )\n",
    "            )\n",
    "\n",
    "        return nn.Sequential(*layers)\n",
    "\n",
    "    def forward(self, features: List[Tensor]) -> Tensor:\n",
    "        \"\"\"Forward-pass of Bottleneck layer.\n",
    "        Args:\n",
    "            features (List[Tensor]): List of features extracted from the encoder.\n",
    "        Returns:\n",
    "            Tensor: Output of the bottleneck layer\n",
    "        \"\"\"\n",
    "        # Always assumes that features has length of 3\n",
    "        feature0 = self.relu(self.bn2(self.conv2(self.relu(self.bn1(self.conv1(features[0]))))))\n",
    "        feature1 = self.relu(self.bn3(self.conv3(features[1])))\n",
    "        feature_cat = torch.cat([feature0, feature1, features[2]], 1)\n",
    "        output = self.bn_layer(feature_cat)\n",
    "        #output = self.bn_layer(self.bn4(self.conv4(feature_cat)))\n",
    "\n",
    "        return output.contiguous()"
   ],
   "metadata": {
    "collapsed": false,
    "pycharm": {
     "name": "#%%\n"
    }
   }
  },
  {
   "cell_type": "code",
   "execution_count": 28,
   "outputs": [],
   "source": [
    "from typing import Any, Callable, List, Optional, Type, Union, Tuple\n",
    "\n",
    "from torch import Tensor, nn\n",
    "from torchvision.models.resnet import conv1x1, conv3x3\n",
    "\n",
    "class DecoderBasicBlock(nn.Module):\n",
    "    \"\"\"Basic block for decoder ResNet architecture.\n",
    "    Args:\n",
    "        inplanes (int): Number of input channels.\n",
    "        planes (int): Number of output channels.\n",
    "        stride (int, optional): Stride for convolution and de-convolution layers. Defaults to 1.\n",
    "        upsample (Optional[nn.Module], optional): Module used for upsampling output. Defaults to None.\n",
    "        groups (int, optional): Number of blocked connections from input channels to output channels.\n",
    "            Defaults to 1.\n",
    "        base_width (int, optional): Number of layers in each intermediate convolution layer. Defaults to 64.\n",
    "        dilation (int, optional): Spacing between kernel elements. Defaults to 1.\n",
    "        norm_layer (Optional[Callable[..., nn.Module]], optional): Batch norm layer to use.Defaults to None.\n",
    "    Raises:\n",
    "        ValueError: If groups are not equal to 1 and base width is not 64.\n",
    "        NotImplementedError: If dilation is greater than 1.\n",
    "    \"\"\"\n",
    "\n",
    "    expansion: int = 1\n",
    "\n",
    "    def __init__(\n",
    "        self,\n",
    "        inplanes: int,\n",
    "        planes: int,\n",
    "        stride: int = 1,\n",
    "        upsample: Optional[nn.Module] = None,\n",
    "        groups: int = 1,\n",
    "        base_width: int = 64,\n",
    "        dilation: int = 1,\n",
    "        norm_layer: Optional[Callable[..., nn.Module]] = None,\n",
    "    ) -> None:\n",
    "        super().__init__()\n",
    "        if norm_layer is None:\n",
    "            norm_layer = nn.BatchNorm2d\n",
    "        if groups != 1 or base_width != 64:\n",
    "            raise ValueError(\"BasicBlock only supports groups=1 and base_width=64\")\n",
    "        if dilation > 1:\n",
    "            raise NotImplementedError(\"Dilation > 1 not supported in BasicBlock\")\n",
    "        # Both self.conv1 and self.downsample layers downsample the input when stride != 2\n",
    "        if stride == 2:\n",
    "            self.conv1 = nn.ConvTranspose2d(\n",
    "                inplanes, planes, kernel_size=2, stride=stride, groups=groups, bias=False, dilation=dilation\n",
    "            )\n",
    "        else:\n",
    "            self.conv1 = conv3x3(inplanes, planes, stride)\n",
    "        self.bn1 = norm_layer(planes)\n",
    "        self.relu = nn.ReLU(inplace=True)\n",
    "        self.conv2 = conv3x3(planes, planes)\n",
    "        self.bn2 = norm_layer(planes)\n",
    "        self.upsample = upsample\n",
    "        self.stride = stride\n",
    "\n",
    "    def forward(self, batch: Tensor) -> Tensor:\n",
    "        \"\"\"Forward-pass of de-resnet block.\"\"\"\n",
    "        identity = batch\n",
    "\n",
    "        out = self.conv1(batch)\n",
    "        out = self.bn1(out)\n",
    "        out = self.relu(out)\n",
    "\n",
    "        out = self.conv2(out)\n",
    "        out = self.bn2(out)\n",
    "\n",
    "        if self.upsample is not None:\n",
    "            identity = self.upsample(batch)\n",
    "\n",
    "        out += identity\n",
    "        out = self.relu(out)\n",
    "\n",
    "        return out\n",
    "\n",
    "\n",
    "class DecoderBottleneck(nn.Module):\n",
    "    \"\"\"Bottleneck for Decoder.\n",
    "    Args:\n",
    "        inplanes (int): Number of input channels.\n",
    "        planes (int): Number of output channels.\n",
    "        stride (int, optional): Stride for convolution and de-convolution layers. Defaults to 1.\n",
    "        upsample (Optional[nn.Module], optional): Module used for upsampling output. Defaults to None.\n",
    "        groups (int, optional): Number of blocked connections from input channels to output channels.\n",
    "            Defaults to 1.\n",
    "        base_width (int, optional): Number of layers in each intermediate convolution layer. Defaults to 64.\n",
    "        dilation (int, optional): Spacing between kernel elements. Defaults to 1.\n",
    "        norm_layer (Optional[Callable[..., nn.Module]], optional): Batch norm layer to use.Defaults to None.\n",
    "    \"\"\"\n",
    "\n",
    "    expansion: int = 4\n",
    "\n",
    "    def __init__(\n",
    "        self,\n",
    "        inplanes: int,\n",
    "        planes: int,\n",
    "        stride: int = 1,\n",
    "        upsample: Optional[nn.Module] = None,\n",
    "        groups: int = 1,\n",
    "        base_width: int = 64,\n",
    "        dilation: int = 1,\n",
    "        norm_layer: Optional[Callable[..., nn.Module]] = None,\n",
    "    ) -> None:\n",
    "        super().__init__()\n",
    "        if norm_layer is None:\n",
    "            norm_layer = nn.BatchNorm2d\n",
    "        width = int(planes * (base_width / 64.0)) * groups\n",
    "        # Both self.conv2 and self.downsample layers downsample the input when stride != 2\n",
    "        self.conv1 = conv1x1(inplanes, width)\n",
    "        self.bn1 = norm_layer(width)\n",
    "        if stride == 2:\n",
    "            self.conv2 = nn.ConvTranspose2d(\n",
    "                width, width, kernel_size=2, stride=stride, groups=groups, bias=False, dilation=dilation\n",
    "            )\n",
    "        else:\n",
    "            self.conv2 = conv3x3(width, width, stride, groups, dilation)\n",
    "        self.bn2 = norm_layer(width)\n",
    "        self.conv3 = conv1x1(width, planes * self.expansion)\n",
    "        self.bn3 = norm_layer(planes * self.expansion)\n",
    "        self.relu = nn.ReLU(inplace=True)\n",
    "        self.upsample = upsample\n",
    "        self.stride = stride\n",
    "\n",
    "    def forward(self, batch: Tensor) -> Tensor:\n",
    "        \"\"\"Forward-pass of de-resnet bottleneck block.\"\"\"\n",
    "        identity = batch\n",
    "\n",
    "        out = self.conv1(batch)\n",
    "        out = self.bn1(out)\n",
    "        out = self.relu(out)\n",
    "\n",
    "        out = self.conv2(out)\n",
    "        out = self.bn2(out)\n",
    "        out = self.relu(out)\n",
    "\n",
    "        out = self.conv3(out)\n",
    "        out = self.bn3(out)\n",
    "\n",
    "        if self.upsample is not None:\n",
    "            identity = self.upsample(batch)\n",
    "\n",
    "        out += identity\n",
    "        out = self.relu(out)\n",
    "\n",
    "        return out\n",
    "\n",
    "\n",
    "class ResNet(nn.Module):\n",
    "    \"\"\"ResNet model for decoder.\n",
    "    Args:\n",
    "        block (Type[Union[DecoderBasicBlock, DecoderBottleneck]]): Type of block to use in a layer.\n",
    "        layers (List[int]): List to specify number for blocks per layer.\n",
    "        zero_init_residual (bool, optional): If true, initializes the last batch norm in each layer to zero.\n",
    "            Defaults to False.\n",
    "        groups (int, optional): Number of blocked connections per layer from input channels to output channels.\n",
    "            Defaults to 1.\n",
    "        width_per_group (int, optional): Number of layers in each intermediate convolution layer.. Defaults to 64.\n",
    "        norm_layer (Optional[Callable[..., nn.Module]], optional): Batch norm layer to use. Defaults to None.\n",
    "    \"\"\"\n",
    "\n",
    "    def __init__(\n",
    "        self,\n",
    "        block: Type[Union[DecoderBasicBlock, DecoderBottleneck]],\n",
    "        layers: List[int],\n",
    "        zero_init_residual: bool = False,\n",
    "        groups: int = 1,\n",
    "        width_per_group: int = 64,\n",
    "        norm_layer: Optional[Callable[..., nn.Module]] = None,\n",
    "    ) -> None:\n",
    "        super().__init__()\n",
    "        if norm_layer is None:\n",
    "            norm_layer = nn.BatchNorm2d\n",
    "        self._norm_layer = norm_layer\n",
    "\n",
    "        self.inplanes = 512 * block.expansion\n",
    "        self.dilation = 1\n",
    "        self.groups = groups\n",
    "        self.base_width = width_per_group\n",
    "        self.layer1 = self._make_layer(block, 256, layers[0], stride=2)\n",
    "        self.layer2 = self._make_layer(block, 128, layers[1], stride=2)\n",
    "        self.layer3 = self._make_layer(block, 64, layers[2], stride=2)\n",
    "\n",
    "        for module in self.modules():\n",
    "            if isinstance(module, nn.Conv2d):\n",
    "                nn.init.kaiming_normal_(module.weight, mode=\"fan_out\", nonlinearity=\"relu\")\n",
    "            elif isinstance(module, (nn.BatchNorm2d, nn.GroupNorm)):\n",
    "                nn.init.constant_(module.weight, 1)\n",
    "                nn.init.constant_(module.bias, 0)\n",
    "\n",
    "        # Zero-initialize the last BN in each residual branch,\n",
    "        # so that the residual branch starts with zeros, and each residual block behaves like an identity.\n",
    "        # This improves the model by 0.2~0.3% according to https://arxiv.org/abs/1706.02677\n",
    "        if zero_init_residual:\n",
    "            for module in self.modules():\n",
    "                if isinstance(module, DecoderBottleneck):\n",
    "                    nn.init.constant_(module.bn3.weight, 0)  # type: ignore[arg-type]\n",
    "                elif isinstance(module, DecoderBasicBlock):\n",
    "                    nn.init.constant_(module.bn2.weight, 0)  # type: ignore[arg-type]\n",
    "\n",
    "    def _make_layer(\n",
    "        self,\n",
    "        block: Type[Union[DecoderBasicBlock, DecoderBottleneck]],\n",
    "        planes: int,\n",
    "        blocks: int,\n",
    "        stride: int = 1,\n",
    "    ) -> nn.Sequential:\n",
    "        norm_layer = self._norm_layer\n",
    "        upsample = None\n",
    "        previous_dilation = self.dilation\n",
    "        if stride != 1 or self.inplanes != planes * block.expansion:\n",
    "            upsample = nn.Sequential(\n",
    "                nn.ConvTranspose2d(\n",
    "                    self.inplanes,\n",
    "                    planes * block.expansion,\n",
    "                    kernel_size=2,\n",
    "                    stride=stride,\n",
    "                    groups=self.groups,\n",
    "                    bias=False,\n",
    "                    dilation=self.dilation,\n",
    "                ),\n",
    "                norm_layer(planes * block.expansion),\n",
    "            )\n",
    "\n",
    "        layers = []\n",
    "        layers.append(\n",
    "            block(self.inplanes, planes, stride, upsample, self.groups, self.base_width, previous_dilation, norm_layer)\n",
    "        )\n",
    "        self.inplanes = planes * block.expansion\n",
    "        for _ in range(1, blocks):\n",
    "            layers.append(\n",
    "                block(\n",
    "                    self.inplanes,\n",
    "                    planes,\n",
    "                    groups=self.groups,\n",
    "                    base_width=self.base_width,\n",
    "                    dilation=self.dilation,\n",
    "                    norm_layer=norm_layer,\n",
    "                )\n",
    "            )\n",
    "\n",
    "        return nn.Sequential(*layers)\n",
    "\n",
    "    def forward(self, batch: Tensor) -> List[Tensor]:\n",
    "        \"\"\"Forward pass for Decoder ResNet. Returns list of features.\"\"\"\n",
    "        feature_a = self.layer1(batch)  # 512*8*8->256*16*16\n",
    "        feature_b = self.layer2(feature_a)  # 256*16*16->128*32*32\n",
    "        feature_c = self.layer3(feature_b)  # 128*32*32->64*64*64\n",
    "\n",
    "        return [feature_c, feature_b, feature_a]\n",
    "\n",
    "def _resnet(block: Type[Union[DecoderBasicBlock, DecoderBottleneck]], layers: List[int], **kwargs: Any) -> ResNet:\n",
    "    model = ResNet(block, layers, **kwargs)\n",
    "    return model\n",
    "\n",
    "def de_wide_resnet50_2() -> ResNet:\n",
    "    \"\"\"Wide ResNet-50-2 model.\"\"\"\n",
    "    return _resnet(DecoderBottleneck, [3, 4, 6, 3], width_per_group=128)"
   ],
   "metadata": {
    "collapsed": false,
    "pycharm": {
     "name": "#%%\n"
    }
   }
  },
  {
   "cell_type": "code",
   "execution_count": 11,
   "outputs": [
    {
     "name": "stderr",
     "output_type": "stream",
     "text": [
      "Using cache found in C:\\Users\\user/.cache\\torch\\hub\\pytorch_vision_v0.10.0\n"
     ]
    },
    {
     "name": "stdout",
     "output_type": "stream",
     "text": [
      "-------------------------------------------------------------------------\n",
      "      Layer (type)          Output Shape         Param #     Tr. Param #\n",
      "=========================================================================\n",
      "          Conv2d-1     [1, 64, 112, 112]           9,408               0\n",
      "     BatchNorm2d-2     [1, 64, 112, 112]             128               0\n",
      "            ReLU-3     [1, 64, 112, 112]               0               0\n",
      "       MaxPool2d-4       [1, 64, 56, 56]               0               0\n",
      "      Bottleneck-5      [1, 256, 56, 56]         206,336               0\n",
      "      Bottleneck-6      [1, 256, 56, 56]         214,016               0\n",
      "      Bottleneck-7      [1, 256, 56, 56]         214,016               0\n",
      "      Bottleneck-8      [1, 512, 28, 28]         920,576               0\n",
      "      Bottleneck-9      [1, 512, 28, 28]         854,016               0\n",
      "     Bottleneck-10      [1, 512, 28, 28]         854,016               0\n",
      "     Bottleneck-11      [1, 512, 28, 28]         854,016               0\n",
      "     Bottleneck-12     [1, 1024, 14, 14]       3,676,160               0\n",
      "     Bottleneck-13     [1, 1024, 14, 14]       3,411,968               0\n",
      "     Bottleneck-14     [1, 1024, 14, 14]       3,411,968               0\n",
      "     Bottleneck-15     [1, 1024, 14, 14]       3,411,968               0\n",
      "     Bottleneck-16     [1, 1024, 14, 14]       3,411,968               0\n",
      "     Bottleneck-17     [1, 1024, 14, 14]       3,411,968               0\n",
      "=========================================================================\n",
      "Total params: 24,862,528\n",
      "Trainable params: 0\n",
      "Non-trainable params: 24,862,528\n",
      "-------------------------------------------------------------------------\n"
     ]
    }
   ],
   "source": [
    "#Testing components generation:\n",
    "from pytorch_model_summary import summary\n",
    "# load WRN-50-2:\n",
    "full_w_resnet = torch.hub.load('pytorch/vision:v0.10.0', 'wide_resnet50_2', pretrained=True)\n",
    "#encoder-architecture\n",
    "enc = CustomResNet(model=full_w_resnet)\n",
    "for param in enc.parameters():\n",
    "    param.requires_grad = False\n",
    "print(summary(enc, torch.zeros((1, 3, img_h, img_w))))"
   ],
   "metadata": {
    "collapsed": false,
    "pycharm": {
     "name": "#%%\n"
    }
   }
  },
  {
   "cell_type": "code",
   "execution_count": 16,
   "outputs": [
    {
     "name": "stdout",
     "output_type": "stream",
     "text": [
      "-------------------------------------------------------------------------\n",
      "      Layer (type)          Output Shape         Param #     Tr. Param #\n",
      "=========================================================================\n",
      "          Conv2d-1      [1, 512, 28, 28]       1,179,648       1,179,648\n",
      "     BatchNorm2d-2      [1, 512, 28, 28]           1,024           1,024\n",
      "            ReLU-3      [1, 512, 28, 28]               0               0\n",
      "          Conv2d-4     [1, 1024, 14, 14]       4,718,592       4,718,592\n",
      "     BatchNorm2d-5     [1, 1024, 14, 14]           2,048           2,048\n",
      "            ReLU-6     [1, 1024, 14, 14]               0               0\n",
      "          Conv2d-7     [1, 1024, 14, 14]       4,718,592       4,718,592\n",
      "     BatchNorm2d-8     [1, 1024, 14, 14]           2,048           2,048\n",
      "            ReLU-9     [1, 1024, 14, 14]               0               0\n",
      "     Bottleneck-10       [1, 2048, 7, 7]      11,282,432      11,282,432\n",
      "     Bottleneck-11       [1, 2048, 7, 7]       4,462,592       4,462,592\n",
      "     Bottleneck-12       [1, 2048, 7, 7]       4,462,592       4,462,592\n",
      "=========================================================================\n",
      "Total params: 30,829,568\n",
      "Trainable params: 30,829,568\n",
      "Non-trainable params: 0\n",
      "-------------------------------------------------------------------------\n"
     ]
    }
   ],
   "source": [
    "ocbe = OCBE(Bottleneck, 3)\n",
    "print(summary(ocbe, enc(torch.zeros((1, 3, img_h, img_w)))))"
   ],
   "metadata": {
    "collapsed": false,
    "pycharm": {
     "name": "#%%\n"
    }
   }
  },
  {
   "cell_type": "code",
   "execution_count": 18,
   "outputs": [
    {
     "name": "stdout",
     "output_type": "stream",
     "text": [
      "------------------------------------------------------------------------------\n",
      "           Layer (type)          Output Shape         Param #     Tr. Param #\n",
      "==============================================================================\n",
      "    DecoderBottleneck-1     [1, 1024, 14, 14]      11,016,192      11,016,192\n",
      "    DecoderBottleneck-2     [1, 1024, 14, 14]       3,411,968       3,411,968\n",
      "    DecoderBottleneck-3     [1, 1024, 14, 14]       3,411,968       3,411,968\n",
      "    DecoderBottleneck-4      [1, 512, 28, 28]       2,755,584       2,755,584\n",
      "    DecoderBottleneck-5      [1, 512, 28, 28]         854,016         854,016\n",
      "    DecoderBottleneck-6      [1, 512, 28, 28]         854,016         854,016\n",
      "    DecoderBottleneck-7      [1, 512, 28, 28]         854,016         854,016\n",
      "    DecoderBottleneck-8      [1, 256, 56, 56]         689,664         689,664\n",
      "    DecoderBottleneck-9      [1, 256, 56, 56]         214,016         214,016\n",
      "   DecoderBottleneck-10      [1, 256, 56, 56]         214,016         214,016\n",
      "   DecoderBottleneck-11      [1, 256, 56, 56]         214,016         214,016\n",
      "   DecoderBottleneck-12      [1, 256, 56, 56]         214,016         214,016\n",
      "   DecoderBottleneck-13      [1, 256, 56, 56]         214,016         214,016\n",
      "==============================================================================\n",
      "Total params: 24,917,504\n",
      "Trainable params: 24,917,504\n",
      "Non-trainable params: 0\n",
      "------------------------------------------------------------------------------\n"
     ]
    }
   ],
   "source": [
    "decoder = de_wide_resnet50_2()\n",
    "print(summary(decoder, ocbe(enc(torch.zeros((1, 3, img_h, img_w))))))"
   ],
   "metadata": {
    "collapsed": false,
    "pycharm": {
     "name": "#%%\n"
    }
   }
  },
  {
   "cell_type": "code",
   "execution_count": 29,
   "outputs": [],
   "source": [
    "from typing import List, Tuple, Union\n",
    "\n",
    "import torch\n",
    "import torch.nn.functional as F\n",
    "from kornia.filters import gaussian_blur2d\n",
    "from torch import Tensor\n",
    "\n",
    "\n",
    "class AnomalyMapGenerator:\n",
    "    \"\"\"Generate Anomaly Heatmap.\n",
    "    Args:\n",
    "        image_size (Union[ListConfig, Tuple]): Size of original image used for upscaling the anomaly map.\n",
    "        sigma (int): Standard deviation of the gaussian kernel used to smooth anomaly map.\n",
    "        mode (str, optional): Operation used to generate anomaly map. Options are `add` and `multiply`.\n",
    "                Defaults to \"multiply\".\n",
    "    Raises:\n",
    "        ValueError: In case modes other than multiply and add are passed.\n",
    "    \"\"\"\n",
    "\n",
    "    def __init__(self, image_size: Tuple, sigma: int = 4, mode: str = \"multiply\"):\n",
    "        self.image_size = image_size\n",
    "        self.sigma = sigma\n",
    "        self.kernel_size = 2 * int(4.0 * sigma + 0.5) + 1\n",
    "\n",
    "        if mode not in (\"add\", \"multiply\"):\n",
    "            raise ValueError(f\"Found mode {mode}. Only multiply and add are supported.\")\n",
    "        self.mode = mode\n",
    "\n",
    "    def __call__(self, student_features: List[Tensor], teacher_features: List[Tensor]) -> Tensor:\n",
    "        \"\"\"Computes anomaly map given encoder and decoder features.\n",
    "        Args:\n",
    "            student_features (List[Tensor]): List of encoder features\n",
    "            teacher_features (List[Tensor]): List of decoder features\n",
    "        Returns:\n",
    "            Tensor: Anomaly maps of length batch.\n",
    "        \"\"\"\n",
    "        if self.mode == \"multiply\":\n",
    "            anomaly_map = torch.ones(\n",
    "                [student_features[0].shape[0], 1, *self.image_size], device=student_features[0].device\n",
    "            )  # b c h w\n",
    "        elif self.mode == \"add\":\n",
    "            anomaly_map = torch.zeros(\n",
    "                [student_features[0].shape[0], 1, *self.image_size], device=student_features[0].device\n",
    "            )\n",
    "\n",
    "        for student_feature, teacher_feature in zip(student_features, teacher_features):\n",
    "            distance_map = 1 - F.cosine_similarity(student_feature, teacher_feature)\n",
    "            distance_map = torch.unsqueeze(distance_map, dim=1)\n",
    "            distance_map = F.interpolate(distance_map, size=self.image_size, mode=\"bilinear\", align_corners=True)\n",
    "            if self.mode == \"multiply\":\n",
    "                anomaly_map *= distance_map\n",
    "            elif self.mode == \"add\":\n",
    "                anomaly_map += distance_map\n",
    "\n",
    "        anomaly_map = gaussian_blur2d(\n",
    "            anomaly_map, kernel_size=(self.kernel_size, self.kernel_size), sigma=(self.sigma, self.sigma)\n",
    "        )\n",
    "\n",
    "        return anomaly_map"
   ],
   "metadata": {
    "collapsed": false,
    "pycharm": {
     "name": "#%%\n"
    }
   }
  },
  {
   "cell_type": "code",
   "execution_count": 30,
   "outputs": [],
   "source": [
    "from typing import Any, Callable, List, Optional, Type, Union\n",
    "class ReverseDistillationModel(nn.Module):\n",
    "    \"\"\"Reverse Distillation Model.\n",
    "    Args:\n",
    "        backbone (str): Name of the backbone used for encoder and decoder\n",
    "        input_size (Tuple[int, int]): Size of input image\n",
    "        layers (List[str]): Name of layers from which the features are extracted.\n",
    "        anomaly_map_mode (str): Mode used to generate anomaly map. Options are between ``multiply`` and ``add``.\n",
    "    \"\"\"\n",
    "\n",
    "    def __init__(self, encoder, oceb, decoder, input_size = (224, 224), anomaly_map_mode: str = 'multiply'):\n",
    "        super().__init__()\n",
    "\n",
    "        for param in encoder.parameters():\n",
    "            param.requires_grad = False\n",
    "        self.encoder = encoder\n",
    "        self.oceb = oceb\n",
    "        self.decoder = decoder\n",
    "\n",
    "        image_size = input_size\n",
    "\n",
    "        self.anomaly_map_generator = AnomalyMapGenerator(image_size=tuple(image_size), mode=anomaly_map_mode)\n",
    "\n",
    "    def forward(self, images: Tensor) -> Union[Tensor, Tuple[List[Tensor], List[Tensor]]]:\n",
    "        \"\"\"Forward-pass images to the network.\n",
    "        During the training mode the model extracts features from encoder and decoder networks.\n",
    "        During evaluation mode, it returns the predicted anomaly map.\n",
    "        Args:\n",
    "            images (Tensor): Batch of images\n",
    "        Returns:\n",
    "            Union[Tensor, Tuple[List[Tensor],List[Tensor]]]: Encoder and decoder features in training mode,\n",
    "                else anomaly maps.\n",
    "        \"\"\"\n",
    "        self.encoder.eval()\n",
    "\n",
    "        encoder_features = self.encoder(images)\n",
    "        #encoder_features = list(encoder_features.values())\n",
    "\n",
    "        decoder_features = self.decoder(self.oceb(encoder_features))\n",
    "\n",
    "        if self.training:\n",
    "            output = encoder_features, decoder_features\n",
    "        else:\n",
    "            output = self.anomaly_map_generator(encoder_features, decoder_features)\n",
    "\n",
    "        return output"
   ],
   "metadata": {
    "collapsed": false,
    "pycharm": {
     "name": "#%%\n"
    }
   }
  },
  {
   "cell_type": "code",
   "execution_count": 31,
   "outputs": [
    {
     "name": "stderr",
     "output_type": "stream",
     "text": [
      "Using cache found in C:\\Users\\user/.cache\\torch\\hub\\pytorch_vision_v0.10.0\n"
     ]
    },
    {
     "name": "stdout",
     "output_type": "stream",
     "text": [
      "-------------------------------------------------------------------------------------------------------------\n",
      "      Layer (type)                                              Output Shape         Param #     Tr. Param #\n",
      "=============================================================================================================\n",
      "    CustomResNet-1     [1, 256, 56, 56], [1, 512, 28, 28], [1, 1024, 14, 14]      24,862,528               0\n",
      "            OCBE-2                                           [1, 2048, 7, 7]      30,829,568      30,829,568\n",
      "          ResNet-3     [1, 256, 56, 56], [1, 512, 28, 28], [1, 1024, 14, 14]      24,917,504      24,917,504\n",
      "=============================================================================================================\n",
      "Total params: 80,609,600\n",
      "Trainable params: 55,747,072\n",
      "Non-trainable params: 24,862,528\n",
      "-------------------------------------------------------------------------------------------------------------\n"
     ]
    }
   ],
   "source": [
    "full_w_resnet = torch.hub.load('pytorch/vision:v0.10.0', 'wide_resnet50_2', pretrained=True)\n",
    "torch.cuda.empty_cache()\n",
    "model = ReverseDistillationModel(encoder=CustomResNet(model=full_w_resnet),\n",
    "                                 oceb=OCBE(Bottleneck, 3),\n",
    "                                 decoder=de_wide_resnet50_2()).to(device)\n",
    "\n",
    "print(summary(model, torch.zeros((1, 3, img_h, img_w)).to(device)))"
   ],
   "metadata": {
    "collapsed": false,
    "pycharm": {
     "name": "#%%\n"
    }
   }
  },
  {
   "cell_type": "code",
   "execution_count": null,
   "outputs": [],
   "source": [
    "import hiddenlayer as hl\n",
    "\n",
    "hl_graph = hl.build_graph(model, torch.zeros((1, 3, img_h, img_w)).to('cuda'))\n",
    "hl_graph.theme = hl.graph.THEMES[\"blue\"].copy()\n",
    "#hl_graph.save(path=\"model\" , format=\"jpg\")\n",
    "hl_graph"
   ],
   "metadata": {
    "collapsed": false,
    "pycharm": {
     "name": "#%%\n"
    }
   }
  },
  {
   "cell_type": "code",
   "execution_count": 32,
   "outputs": [],
   "source": [
    "\n",
    "def kd_loss(encoder_features: List[Tensor], decoder_features: List[Tensor]) -> Tensor:\n",
    "    \"\"\"Computes cosine similarity loss based on features from encoder and decoder.\n",
    "    Args:\n",
    "    encoder_features (List[Tensor]): List of features extracted from encoder\n",
    "    decoder_features (List[Tensor]): List of features extracted from decoder\n",
    "    Returns:\n",
    "    Tensor: Cosine similarity loss\n",
    "    \"\"\"\n",
    "    cos_loss = torch.nn.CosineSimilarity()\n",
    "    losses = list(map(cos_loss, encoder_features, decoder_features))\n",
    "    loss_sum = 0\n",
    "    for loss in losses:\n",
    "        loss_sum += torch.mean(1 - loss)  # mean of cosine distance\n",
    "    return loss_sum\n",
    "\n",
    "\n"
   ],
   "metadata": {
    "collapsed": false,
    "pycharm": {
     "name": "#%%\n"
    }
   }
  },
  {
   "cell_type": "code",
   "execution_count": 23,
   "outputs": [
    {
     "name": "stdout",
     "output_type": "stream",
     "text": [
      "|===========================================================================|\n",
      "|                  PyTorch CUDA memory summary, device ID 0                 |\n",
      "|---------------------------------------------------------------------------|\n",
      "|            CUDA OOMs: 2            |        cudaMalloc retries: 3         |\n",
      "|===========================================================================|\n",
      "|        Metric         | Cur Usage  | Peak Usage | Tot Alloc  | Tot Freed  |\n",
      "|---------------------------------------------------------------------------|\n",
      "| Allocated memory      |    5620 MB |    5757 MB |     930 GB |     925 GB |\n",
      "|       from large pool |    5570 MB |    5707 MB |     928 GB |     922 GB |\n",
      "|       from small pool |      50 MB |      68 MB |       2 GB |       2 GB |\n",
      "|---------------------------------------------------------------------------|\n",
      "| Active memory         |    5620 MB |    5757 MB |     930 GB |     925 GB |\n",
      "|       from large pool |    5570 MB |    5707 MB |     928 GB |     922 GB |\n",
      "|       from small pool |      50 MB |      68 MB |       2 GB |       2 GB |\n",
      "|---------------------------------------------------------------------------|\n",
      "| GPU reserved memory   |    6022 MB |    6022 MB |    6232 MB |  215040 KB |\n",
      "|       from large pool |    5968 MB |    5968 MB |    6148 MB |  184320 KB |\n",
      "|       from small pool |      54 MB |      72 MB |      84 MB |   30720 KB |\n",
      "|---------------------------------------------------------------------------|\n",
      "| Non-releasable memory |  247513 KB |    1198 MB |  478090 MB |  477848 MB |\n",
      "|       from large pool |  243552 KB |    1189 MB |  475432 MB |  475194 MB |\n",
      "|       from small pool |    3961 KB |       9 MB |    2657 MB |    2653 MB |\n",
      "|---------------------------------------------------------------------------|\n",
      "| Allocations           |    1446    |    1465    |  210097    |  208651    |\n",
      "|       from large pool |     357    |     361    |   45392    |   45035    |\n",
      "|       from small pool |    1089    |    1249    |  164705    |  163616    |\n",
      "|---------------------------------------------------------------------------|\n",
      "| Active allocs         |    1446    |    1465    |  210097    |  208651    |\n",
      "|       from large pool |     357    |     361    |   45392    |   45035    |\n",
      "|       from small pool |    1089    |    1249    |  164705    |  163616    |\n",
      "|---------------------------------------------------------------------------|\n",
      "| GPU reserved segments |     196    |     205    |     214    |      18    |\n",
      "|       from large pool |     169    |     169    |     172    |       3    |\n",
      "|       from small pool |      27    |      36    |      42    |      15    |\n",
      "|---------------------------------------------------------------------------|\n",
      "| Non-releasable allocs |      97    |     144    |   90949    |   90852    |\n",
      "|       from large pool |      92    |     116    |   28761    |   28669    |\n",
      "|       from small pool |       5    |      42    |   62188    |   62183    |\n",
      "|---------------------------------------------------------------------------|\n",
      "| Oversize allocations  |       0    |       0    |       0    |       0    |\n",
      "|---------------------------------------------------------------------------|\n",
      "| Oversize GPU segments |       0    |       0    |       0    |       0    |\n",
      "|===========================================================================|\n",
      "\n"
     ]
    }
   ],
   "source": [
    "print(torch.cuda.memory_summary(device=None, abbreviated=False))"
   ],
   "metadata": {
    "collapsed": false,
    "pycharm": {
     "name": "#%%\n"
    }
   }
  },
  {
   "cell_type": "code",
   "execution_count": 33,
   "outputs": [
    {
     "name": "stderr",
     "output_type": "stream",
     "text": [
      "Epoch num: 198: 100%|██████████| 199/199 [04:27<00:00,  1.35s/it]\n"
     ]
    }
   ],
   "source": [
    "from tqdm import trange\n",
    "from time import sleep\n",
    "\n",
    "# Model Initialization\n",
    "torch.cuda.empty_cache()\n",
    "\n",
    "# Using an Adam Optimizer with lr = 0.01\n",
    "optimizer = torch.optim.Adam(filter(lambda p: p.requires_grad, model.parameters()),\n",
    "                             lr = 0.005,\n",
    "                             betas=(0.5, 0.999))\n",
    "\n",
    "\n",
    "epochs = 200\n",
    "outputs = []\n",
    "losses = []\n",
    "\n",
    "t = trange(range(epochs)[-1], desc=\"Epoch num %i\")\n",
    "\n",
    "#for epoch in range(epochs):\n",
    "for epoch in t:\n",
    "    t.set_description(\"Epoch num: %i\" % epoch)\n",
    "    t.refresh() # to show immediately the update\n",
    "    sleep(0.01)\n",
    "    for (image, _) in train_loader:\n",
    "\n",
    "        image =  image.to(device)\n",
    "        # Output of Teacher\n",
    "        encoded = model.encoder(image)\n",
    "        #Output of Student\n",
    "        reconstructed = model.decoder(model.oceb(encoded))\n",
    "        # Calculating the loss function\n",
    "        loss = kd_loss(encoded, reconstructed)\n",
    "\n",
    "        # The gradients are set to zero,\n",
    "        # the the gradient is computed and stored.\n",
    "        # .step() performs parameter update\n",
    "        optimizer.zero_grad()\n",
    "        loss.backward()\n",
    "        optimizer.step()\n",
    "        #outputs.append((epochs, image, reconstructed))\n",
    "        torch.cuda.empty_cache()\n",
    "    # Storing the losses in a list for plotting\n",
    "    losses.append(loss)"
   ],
   "metadata": {
    "collapsed": false,
    "pycharm": {
     "name": "#%%\n"
    }
   }
  },
  {
   "cell_type": "code",
   "execution_count": 34,
   "outputs": [],
   "source": [
    "import datetime\n",
    "time = datetime.datetime.now().strftime(\"%Y_%m_%d_%H_%M_%S\")"
   ],
   "metadata": {
    "collapsed": false,
    "pycharm": {
     "name": "#%%\n"
    }
   }
  },
  {
   "cell_type": "code",
   "execution_count": 35,
   "outputs": [
    {
     "data": {
      "text/plain": "<Figure size 432x288 with 1 Axes>",
      "image/png": "[encoded data removed]"
     },
     "metadata": {},
     "output_type": "display_data"
    }
   ],
   "source": [
    "import matplotlib.pyplot as plt\n",
    "cpu_losses = []\n",
    "for loss in losses:\n",
    "    cpu_losses.append(loss.to('cpu').detach().numpy())\n",
    "# Defining the Plot Style\n",
    "plt.style.use('fivethirtyeight')\n",
    "plt.xlabel('Iterations')\n",
    "plt.ylabel('Loss')\n",
    "# Plotting the last 100 values\n",
    "plt.plot(cpu_losses)\n",
    "plt.savefig('{1}_Training_{0}.png'.format(time, item))\n",
    "\n",
    "\n",
    "\n"
   ],
   "metadata": {
    "collapsed": false,
    "pycharm": {
     "name": "#%%\n"
    }
   }
  },
  {
   "cell_type": "code",
   "execution_count": 36,
   "outputs": [],
   "source": [
    "save_path =  os.path.join(cwd, \"SavedModels\")\n",
    "save_path =  os.path.join(save_path, '{1}_SavedModel{0}.pt'.format(time, item))\n",
    "torch.save(model.state_dict(),save_path)"
   ],
   "metadata": {
    "collapsed": false,
    "pycharm": {
     "name": "#%%\n"
    }
   }
  },
  {
   "cell_type": "code",
   "execution_count": 37,
   "outputs": [
    {
     "data": {
      "text/plain": "ReverseDistillationModel(\n  (encoder): CustomResNet(\n    (l1): Sequential(\n      (0): Conv2d(3, 64, kernel_size=(7, 7), stride=(2, 2), padding=(3, 3), bias=False)\n      (1): BatchNorm2d(64, eps=1e-05, momentum=0.1, affine=True, track_running_stats=True)\n      (2): ReLU(inplace=True)\n      (3): MaxPool2d(kernel_size=3, stride=2, padding=1, dilation=1, ceil_mode=False)\n      (4): Sequential(\n        (0): Bottleneck(\n          (conv1): Conv2d(64, 128, kernel_size=(1, 1), stride=(1, 1), bias=False)\n          (bn1): BatchNorm2d(128, eps=1e-05, momentum=0.1, affine=True, track_running_stats=True)\n          (conv2): Conv2d(128, 128, kernel_size=(3, 3), stride=(1, 1), padding=(1, 1), bias=False)\n          (bn2): BatchNorm2d(128, eps=1e-05, momentum=0.1, affine=True, track_running_stats=True)\n          (conv3): Conv2d(128, 256, kernel_size=(1, 1), stride=(1, 1), bias=False)\n          (bn3): BatchNorm2d(256, eps=1e-05, momentum=0.1, affine=True, track_running_stats=True)\n          (relu): ReLU(inplace=True)\n          (downsample): Sequential(\n            (0): Conv2d(64, 256, kernel_size=(1, 1), stride=(1, 1), bias=False)\n            (1): BatchNorm2d(256, eps=1e-05, momentum=0.1, affine=True, track_running_stats=True)\n          )\n        )\n        (1): Bottleneck(\n          (conv1): Conv2d(256, 128, kernel_size=(1, 1), stride=(1, 1), bias=False)\n          (bn1): BatchNorm2d(128, eps=1e-05, momentum=0.1, affine=True, track_running_stats=True)\n          (conv2): Conv2d(128, 128, kernel_size=(3, 3), stride=(1, 1), padding=(1, 1), bias=False)\n          (bn2): BatchNorm2d(128, eps=1e-05, momentum=0.1, affine=True, track_running_stats=True)\n          (conv3): Conv2d(128, 256, kernel_size=(1, 1), stride=(1, 1), bias=False)\n          (bn3): BatchNorm2d(256, eps=1e-05, momentum=0.1, affine=True, track_running_stats=True)\n          (relu): ReLU(inplace=True)\n        )\n        (2): Bottleneck(\n          (conv1): Conv2d(256, 128, kernel_size=(1, 1), stride=(1, 1), bias=False)\n          (bn1): BatchNorm2d(128, eps=1e-05, momentum=0.1, affine=True, track_running_stats=True)\n          (conv2): Conv2d(128, 128, kernel_size=(3, 3), stride=(1, 1), padding=(1, 1), bias=False)\n          (bn2): BatchNorm2d(128, eps=1e-05, momentum=0.1, affine=True, track_running_stats=True)\n          (conv3): Conv2d(128, 256, kernel_size=(1, 1), stride=(1, 1), bias=False)\n          (bn3): BatchNorm2d(256, eps=1e-05, momentum=0.1, affine=True, track_running_stats=True)\n          (relu): ReLU(inplace=True)\n        )\n      )\n    )\n    (l2): Sequential(\n      (0): Sequential(\n        (0): Bottleneck(\n          (conv1): Conv2d(256, 256, kernel_size=(1, 1), stride=(1, 1), bias=False)\n          (bn1): BatchNorm2d(256, eps=1e-05, momentum=0.1, affine=True, track_running_stats=True)\n          (conv2): Conv2d(256, 256, kernel_size=(3, 3), stride=(2, 2), padding=(1, 1), bias=False)\n          (bn2): BatchNorm2d(256, eps=1e-05, momentum=0.1, affine=True, track_running_stats=True)\n          (conv3): Conv2d(256, 512, kernel_size=(1, 1), stride=(1, 1), bias=False)\n          (bn3): BatchNorm2d(512, eps=1e-05, momentum=0.1, affine=True, track_running_stats=True)\n          (relu): ReLU(inplace=True)\n          (downsample): Sequential(\n            (0): Conv2d(256, 512, kernel_size=(1, 1), stride=(2, 2), bias=False)\n            (1): BatchNorm2d(512, eps=1e-05, momentum=0.1, affine=True, track_running_stats=True)\n          )\n        )\n        (1): Bottleneck(\n          (conv1): Conv2d(512, 256, kernel_size=(1, 1), stride=(1, 1), bias=False)\n          (bn1): BatchNorm2d(256, eps=1e-05, momentum=0.1, affine=True, track_running_stats=True)\n          (conv2): Conv2d(256, 256, kernel_size=(3, 3), stride=(1, 1), padding=(1, 1), bias=False)\n          (bn2): BatchNorm2d(256, eps=1e-05, momentum=0.1, affine=True, track_running_stats=True)\n          (conv3): Conv2d(256, 512, kernel_size=(1, 1), stride=(1, 1), bias=False)\n          (bn3): BatchNorm2d(512, eps=1e-05, momentum=0.1, affine=True, track_running_stats=True)\n          (relu): ReLU(inplace=True)\n        )\n        (2): Bottleneck(\n          (conv1): Conv2d(512, 256, kernel_size=(1, 1), stride=(1, 1), bias=False)\n          (bn1): BatchNorm2d(256, eps=1e-05, momentum=0.1, affine=True, track_running_stats=True)\n          (conv2): Conv2d(256, 256, kernel_size=(3, 3), stride=(1, 1), padding=(1, 1), bias=False)\n          (bn2): BatchNorm2d(256, eps=1e-05, momentum=0.1, affine=True, track_running_stats=True)\n          (conv3): Conv2d(256, 512, kernel_size=(1, 1), stride=(1, 1), bias=False)\n          (bn3): BatchNorm2d(512, eps=1e-05, momentum=0.1, affine=True, track_running_stats=True)\n          (relu): ReLU(inplace=True)\n        )\n        (3): Bottleneck(\n          (conv1): Conv2d(512, 256, kernel_size=(1, 1), stride=(1, 1), bias=False)\n          (bn1): BatchNorm2d(256, eps=1e-05, momentum=0.1, affine=True, track_running_stats=True)\n          (conv2): Conv2d(256, 256, kernel_size=(3, 3), stride=(1, 1), padding=(1, 1), bias=False)\n          (bn2): BatchNorm2d(256, eps=1e-05, momentum=0.1, affine=True, track_running_stats=True)\n          (conv3): Conv2d(256, 512, kernel_size=(1, 1), stride=(1, 1), bias=False)\n          (bn3): BatchNorm2d(512, eps=1e-05, momentum=0.1, affine=True, track_running_stats=True)\n          (relu): ReLU(inplace=True)\n        )\n      )\n    )\n    (l3): Sequential(\n      (0): Sequential(\n        (0): Bottleneck(\n          (conv1): Conv2d(512, 512, kernel_size=(1, 1), stride=(1, 1), bias=False)\n          (bn1): BatchNorm2d(512, eps=1e-05, momentum=0.1, affine=True, track_running_stats=True)\n          (conv2): Conv2d(512, 512, kernel_size=(3, 3), stride=(2, 2), padding=(1, 1), bias=False)\n          (bn2): BatchNorm2d(512, eps=1e-05, momentum=0.1, affine=True, track_running_stats=True)\n          (conv3): Conv2d(512, 1024, kernel_size=(1, 1), stride=(1, 1), bias=False)\n          (bn3): BatchNorm2d(1024, eps=1e-05, momentum=0.1, affine=True, track_running_stats=True)\n          (relu): ReLU(inplace=True)\n          (downsample): Sequential(\n            (0): Conv2d(512, 1024, kernel_size=(1, 1), stride=(2, 2), bias=False)\n            (1): BatchNorm2d(1024, eps=1e-05, momentum=0.1, affine=True, track_running_stats=True)\n          )\n        )\n        (1): Bottleneck(\n          (conv1): Conv2d(1024, 512, kernel_size=(1, 1), stride=(1, 1), bias=False)\n          (bn1): BatchNorm2d(512, eps=1e-05, momentum=0.1, affine=True, track_running_stats=True)\n          (conv2): Conv2d(512, 512, kernel_size=(3, 3), stride=(1, 1), padding=(1, 1), bias=False)\n          (bn2): BatchNorm2d(512, eps=1e-05, momentum=0.1, affine=True, track_running_stats=True)\n          (conv3): Conv2d(512, 1024, kernel_size=(1, 1), stride=(1, 1), bias=False)\n          (bn3): BatchNorm2d(1024, eps=1e-05, momentum=0.1, affine=True, track_running_stats=True)\n          (relu): ReLU(inplace=True)\n        )\n        (2): Bottleneck(\n          (conv1): Conv2d(1024, 512, kernel_size=(1, 1), stride=(1, 1), bias=False)\n          (bn1): BatchNorm2d(512, eps=1e-05, momentum=0.1, affine=True, track_running_stats=True)\n          (conv2): Conv2d(512, 512, kernel_size=(3, 3), stride=(1, 1), padding=(1, 1), bias=False)\n          (bn2): BatchNorm2d(512, eps=1e-05, momentum=0.1, affine=True, track_running_stats=True)\n          (conv3): Conv2d(512, 1024, kernel_size=(1, 1), stride=(1, 1), bias=False)\n          (bn3): BatchNorm2d(1024, eps=1e-05, momentum=0.1, affine=True, track_running_stats=True)\n          (relu): ReLU(inplace=True)\n        )\n        (3): Bottleneck(\n          (conv1): Conv2d(1024, 512, kernel_size=(1, 1), stride=(1, 1), bias=False)\n          (bn1): BatchNorm2d(512, eps=1e-05, momentum=0.1, affine=True, track_running_stats=True)\n          (conv2): Conv2d(512, 512, kernel_size=(3, 3), stride=(1, 1), padding=(1, 1), bias=False)\n          (bn2): BatchNorm2d(512, eps=1e-05, momentum=0.1, affine=True, track_running_stats=True)\n          (conv3): Conv2d(512, 1024, kernel_size=(1, 1), stride=(1, 1), bias=False)\n          (bn3): BatchNorm2d(1024, eps=1e-05, momentum=0.1, affine=True, track_running_stats=True)\n          (relu): ReLU(inplace=True)\n        )\n        (4): Bottleneck(\n          (conv1): Conv2d(1024, 512, kernel_size=(1, 1), stride=(1, 1), bias=False)\n          (bn1): BatchNorm2d(512, eps=1e-05, momentum=0.1, affine=True, track_running_stats=True)\n          (conv2): Conv2d(512, 512, kernel_size=(3, 3), stride=(1, 1), padding=(1, 1), bias=False)\n          (bn2): BatchNorm2d(512, eps=1e-05, momentum=0.1, affine=True, track_running_stats=True)\n          (conv3): Conv2d(512, 1024, kernel_size=(1, 1), stride=(1, 1), bias=False)\n          (bn3): BatchNorm2d(1024, eps=1e-05, momentum=0.1, affine=True, track_running_stats=True)\n          (relu): ReLU(inplace=True)\n        )\n        (5): Bottleneck(\n          (conv1): Conv2d(1024, 512, kernel_size=(1, 1), stride=(1, 1), bias=False)\n          (bn1): BatchNorm2d(512, eps=1e-05, momentum=0.1, affine=True, track_running_stats=True)\n          (conv2): Conv2d(512, 512, kernel_size=(3, 3), stride=(1, 1), padding=(1, 1), bias=False)\n          (bn2): BatchNorm2d(512, eps=1e-05, momentum=0.1, affine=True, track_running_stats=True)\n          (conv3): Conv2d(512, 1024, kernel_size=(1, 1), stride=(1, 1), bias=False)\n          (bn3): BatchNorm2d(1024, eps=1e-05, momentum=0.1, affine=True, track_running_stats=True)\n          (relu): ReLU(inplace=True)\n        )\n      )\n    )\n  )\n  (oceb): OCBE(\n    (bn_layer): Sequential(\n      (0): Bottleneck(\n        (conv1): Conv2d(3072, 512, kernel_size=(1, 1), stride=(1, 1), bias=False)\n        (bn1): BatchNorm2d(512, eps=1e-05, momentum=0.1, affine=True, track_running_stats=True)\n        (conv2): Conv2d(512, 512, kernel_size=(3, 3), stride=(2, 2), padding=(1, 1), bias=False)\n        (bn2): BatchNorm2d(512, eps=1e-05, momentum=0.1, affine=True, track_running_stats=True)\n        (conv3): Conv2d(512, 2048, kernel_size=(1, 1), stride=(1, 1), bias=False)\n        (bn3): BatchNorm2d(2048, eps=1e-05, momentum=0.1, affine=True, track_running_stats=True)\n        (relu): ReLU(inplace=True)\n        (downsample): Sequential(\n          (0): Conv2d(3072, 2048, kernel_size=(1, 1), stride=(2, 2), bias=False)\n          (1): BatchNorm2d(2048, eps=1e-05, momentum=0.1, affine=True, track_running_stats=True)\n        )\n      )\n      (1): Bottleneck(\n        (conv1): Conv2d(2048, 512, kernel_size=(1, 1), stride=(1, 1), bias=False)\n        (bn1): BatchNorm2d(512, eps=1e-05, momentum=0.1, affine=True, track_running_stats=True)\n        (conv2): Conv2d(512, 512, kernel_size=(3, 3), stride=(1, 1), padding=(1, 1), bias=False)\n        (bn2): BatchNorm2d(512, eps=1e-05, momentum=0.1, affine=True, track_running_stats=True)\n        (conv3): Conv2d(512, 2048, kernel_size=(1, 1), stride=(1, 1), bias=False)\n        (bn3): BatchNorm2d(2048, eps=1e-05, momentum=0.1, affine=True, track_running_stats=True)\n        (relu): ReLU(inplace=True)\n      )\n      (2): Bottleneck(\n        (conv1): Conv2d(2048, 512, kernel_size=(1, 1), stride=(1, 1), bias=False)\n        (bn1): BatchNorm2d(512, eps=1e-05, momentum=0.1, affine=True, track_running_stats=True)\n        (conv2): Conv2d(512, 512, kernel_size=(3, 3), stride=(1, 1), padding=(1, 1), bias=False)\n        (bn2): BatchNorm2d(512, eps=1e-05, momentum=0.1, affine=True, track_running_stats=True)\n        (conv3): Conv2d(512, 2048, kernel_size=(1, 1), stride=(1, 1), bias=False)\n        (bn3): BatchNorm2d(2048, eps=1e-05, momentum=0.1, affine=True, track_running_stats=True)\n        (relu): ReLU(inplace=True)\n      )\n    )\n    (conv1): Conv2d(256, 512, kernel_size=(3, 3), stride=(2, 2), padding=(1, 1), bias=False)\n    (bn1): BatchNorm2d(512, eps=1e-05, momentum=0.1, affine=True, track_running_stats=True)\n    (relu): ReLU(inplace=True)\n    (conv2): Conv2d(512, 1024, kernel_size=(3, 3), stride=(2, 2), padding=(1, 1), bias=False)\n    (bn2): BatchNorm2d(1024, eps=1e-05, momentum=0.1, affine=True, track_running_stats=True)\n    (conv3): Conv2d(512, 1024, kernel_size=(3, 3), stride=(2, 2), padding=(1, 1), bias=False)\n    (bn3): BatchNorm2d(1024, eps=1e-05, momentum=0.1, affine=True, track_running_stats=True)\n  )\n  (decoder): ResNet(\n    (layer1): Sequential(\n      (0): DecoderBottleneck(\n        (conv1): Conv2d(2048, 512, kernel_size=(1, 1), stride=(1, 1), bias=False)\n        (bn1): BatchNorm2d(512, eps=1e-05, momentum=0.1, affine=True, track_running_stats=True)\n        (conv2): ConvTranspose2d(512, 512, kernel_size=(2, 2), stride=(2, 2), bias=False)\n        (bn2): BatchNorm2d(512, eps=1e-05, momentum=0.1, affine=True, track_running_stats=True)\n        (conv3): Conv2d(512, 1024, kernel_size=(1, 1), stride=(1, 1), bias=False)\n        (bn3): BatchNorm2d(1024, eps=1e-05, momentum=0.1, affine=True, track_running_stats=True)\n        (relu): ReLU(inplace=True)\n        (upsample): Sequential(\n          (0): ConvTranspose2d(2048, 1024, kernel_size=(2, 2), stride=(2, 2), bias=False)\n          (1): BatchNorm2d(1024, eps=1e-05, momentum=0.1, affine=True, track_running_stats=True)\n        )\n      )\n      (1): DecoderBottleneck(\n        (conv1): Conv2d(1024, 512, kernel_size=(1, 1), stride=(1, 1), bias=False)\n        (bn1): BatchNorm2d(512, eps=1e-05, momentum=0.1, affine=True, track_running_stats=True)\n        (conv2): Conv2d(512, 512, kernel_size=(3, 3), stride=(1, 1), padding=(1, 1), bias=False)\n        (bn2): BatchNorm2d(512, eps=1e-05, momentum=0.1, affine=True, track_running_stats=True)\n        (conv3): Conv2d(512, 1024, kernel_size=(1, 1), stride=(1, 1), bias=False)\n        (bn3): BatchNorm2d(1024, eps=1e-05, momentum=0.1, affine=True, track_running_stats=True)\n        (relu): ReLU(inplace=True)\n      )\n      (2): DecoderBottleneck(\n        (conv1): Conv2d(1024, 512, kernel_size=(1, 1), stride=(1, 1), bias=False)\n        (bn1): BatchNorm2d(512, eps=1e-05, momentum=0.1, affine=True, track_running_stats=True)\n        (conv2): Conv2d(512, 512, kernel_size=(3, 3), stride=(1, 1), padding=(1, 1), bias=False)\n        (bn2): BatchNorm2d(512, eps=1e-05, momentum=0.1, affine=True, track_running_stats=True)\n        (conv3): Conv2d(512, 1024, kernel_size=(1, 1), stride=(1, 1), bias=False)\n        (bn3): BatchNorm2d(1024, eps=1e-05, momentum=0.1, affine=True, track_running_stats=True)\n        (relu): ReLU(inplace=True)\n      )\n    )\n    (layer2): Sequential(\n      (0): DecoderBottleneck(\n        (conv1): Conv2d(1024, 256, kernel_size=(1, 1), stride=(1, 1), bias=False)\n        (bn1): BatchNorm2d(256, eps=1e-05, momentum=0.1, affine=True, track_running_stats=True)\n        (conv2): ConvTranspose2d(256, 256, kernel_size=(2, 2), stride=(2, 2), bias=False)\n        (bn2): BatchNorm2d(256, eps=1e-05, momentum=0.1, affine=True, track_running_stats=True)\n        (conv3): Conv2d(256, 512, kernel_size=(1, 1), stride=(1, 1), bias=False)\n        (bn3): BatchNorm2d(512, eps=1e-05, momentum=0.1, affine=True, track_running_stats=True)\n        (relu): ReLU(inplace=True)\n        (upsample): Sequential(\n          (0): ConvTranspose2d(1024, 512, kernel_size=(2, 2), stride=(2, 2), bias=False)\n          (1): BatchNorm2d(512, eps=1e-05, momentum=0.1, affine=True, track_running_stats=True)\n        )\n      )\n      (1): DecoderBottleneck(\n        (conv1): Conv2d(512, 256, kernel_size=(1, 1), stride=(1, 1), bias=False)\n        (bn1): BatchNorm2d(256, eps=1e-05, momentum=0.1, affine=True, track_running_stats=True)\n        (conv2): Conv2d(256, 256, kernel_size=(3, 3), stride=(1, 1), padding=(1, 1), bias=False)\n        (bn2): BatchNorm2d(256, eps=1e-05, momentum=0.1, affine=True, track_running_stats=True)\n        (conv3): Conv2d(256, 512, kernel_size=(1, 1), stride=(1, 1), bias=False)\n        (bn3): BatchNorm2d(512, eps=1e-05, momentum=0.1, affine=True, track_running_stats=True)\n        (relu): ReLU(inplace=True)\n      )\n      (2): DecoderBottleneck(\n        (conv1): Conv2d(512, 256, kernel_size=(1, 1), stride=(1, 1), bias=False)\n        (bn1): BatchNorm2d(256, eps=1e-05, momentum=0.1, affine=True, track_running_stats=True)\n        (conv2): Conv2d(256, 256, kernel_size=(3, 3), stride=(1, 1), padding=(1, 1), bias=False)\n        (bn2): BatchNorm2d(256, eps=1e-05, momentum=0.1, affine=True, track_running_stats=True)\n        (conv3): Conv2d(256, 512, kernel_size=(1, 1), stride=(1, 1), bias=False)\n        (bn3): BatchNorm2d(512, eps=1e-05, momentum=0.1, affine=True, track_running_stats=True)\n        (relu): ReLU(inplace=True)\n      )\n      (3): DecoderBottleneck(\n        (conv1): Conv2d(512, 256, kernel_size=(1, 1), stride=(1, 1), bias=False)\n        (bn1): BatchNorm2d(256, eps=1e-05, momentum=0.1, affine=True, track_running_stats=True)\n        (conv2): Conv2d(256, 256, kernel_size=(3, 3), stride=(1, 1), padding=(1, 1), bias=False)\n        (bn2): BatchNorm2d(256, eps=1e-05, momentum=0.1, affine=True, track_running_stats=True)\n        (conv3): Conv2d(256, 512, kernel_size=(1, 1), stride=(1, 1), bias=False)\n        (bn3): BatchNorm2d(512, eps=1e-05, momentum=0.1, affine=True, track_running_stats=True)\n        (relu): ReLU(inplace=True)\n      )\n    )\n    (layer3): Sequential(\n      (0): DecoderBottleneck(\n        (conv1): Conv2d(512, 128, kernel_size=(1, 1), stride=(1, 1), bias=False)\n        (bn1): BatchNorm2d(128, eps=1e-05, momentum=0.1, affine=True, track_running_stats=True)\n        (conv2): ConvTranspose2d(128, 128, kernel_size=(2, 2), stride=(2, 2), bias=False)\n        (bn2): BatchNorm2d(128, eps=1e-05, momentum=0.1, affine=True, track_running_stats=True)\n        (conv3): Conv2d(128, 256, kernel_size=(1, 1), stride=(1, 1), bias=False)\n        (bn3): BatchNorm2d(256, eps=1e-05, momentum=0.1, affine=True, track_running_stats=True)\n        (relu): ReLU(inplace=True)\n        (upsample): Sequential(\n          (0): ConvTranspose2d(512, 256, kernel_size=(2, 2), stride=(2, 2), bias=False)\n          (1): BatchNorm2d(256, eps=1e-05, momentum=0.1, affine=True, track_running_stats=True)\n        )\n      )\n      (1): DecoderBottleneck(\n        (conv1): Conv2d(256, 128, kernel_size=(1, 1), stride=(1, 1), bias=False)\n        (bn1): BatchNorm2d(128, eps=1e-05, momentum=0.1, affine=True, track_running_stats=True)\n        (conv2): Conv2d(128, 128, kernel_size=(3, 3), stride=(1, 1), padding=(1, 1), bias=False)\n        (bn2): BatchNorm2d(128, eps=1e-05, momentum=0.1, affine=True, track_running_stats=True)\n        (conv3): Conv2d(128, 256, kernel_size=(1, 1), stride=(1, 1), bias=False)\n        (bn3): BatchNorm2d(256, eps=1e-05, momentum=0.1, affine=True, track_running_stats=True)\n        (relu): ReLU(inplace=True)\n      )\n      (2): DecoderBottleneck(\n        (conv1): Conv2d(256, 128, kernel_size=(1, 1), stride=(1, 1), bias=False)\n        (bn1): BatchNorm2d(128, eps=1e-05, momentum=0.1, affine=True, track_running_stats=True)\n        (conv2): Conv2d(128, 128, kernel_size=(3, 3), stride=(1, 1), padding=(1, 1), bias=False)\n        (bn2): BatchNorm2d(128, eps=1e-05, momentum=0.1, affine=True, track_running_stats=True)\n        (conv3): Conv2d(128, 256, kernel_size=(1, 1), stride=(1, 1), bias=False)\n        (bn3): BatchNorm2d(256, eps=1e-05, momentum=0.1, affine=True, track_running_stats=True)\n        (relu): ReLU(inplace=True)\n      )\n      (3): DecoderBottleneck(\n        (conv1): Conv2d(256, 128, kernel_size=(1, 1), stride=(1, 1), bias=False)\n        (bn1): BatchNorm2d(128, eps=1e-05, momentum=0.1, affine=True, track_running_stats=True)\n        (conv2): Conv2d(128, 128, kernel_size=(3, 3), stride=(1, 1), padding=(1, 1), bias=False)\n        (bn2): BatchNorm2d(128, eps=1e-05, momentum=0.1, affine=True, track_running_stats=True)\n        (conv3): Conv2d(128, 256, kernel_size=(1, 1), stride=(1, 1), bias=False)\n        (bn3): BatchNorm2d(256, eps=1e-05, momentum=0.1, affine=True, track_running_stats=True)\n        (relu): ReLU(inplace=True)\n      )\n      (4): DecoderBottleneck(\n        (conv1): Conv2d(256, 128, kernel_size=(1, 1), stride=(1, 1), bias=False)\n        (bn1): BatchNorm2d(128, eps=1e-05, momentum=0.1, affine=True, track_running_stats=True)\n        (conv2): Conv2d(128, 128, kernel_size=(3, 3), stride=(1, 1), padding=(1, 1), bias=False)\n        (bn2): BatchNorm2d(128, eps=1e-05, momentum=0.1, affine=True, track_running_stats=True)\n        (conv3): Conv2d(128, 256, kernel_size=(1, 1), stride=(1, 1), bias=False)\n        (bn3): BatchNorm2d(256, eps=1e-05, momentum=0.1, affine=True, track_running_stats=True)\n        (relu): ReLU(inplace=True)\n      )\n      (5): DecoderBottleneck(\n        (conv1): Conv2d(256, 128, kernel_size=(1, 1), stride=(1, 1), bias=False)\n        (bn1): BatchNorm2d(128, eps=1e-05, momentum=0.1, affine=True, track_running_stats=True)\n        (conv2): Conv2d(128, 128, kernel_size=(3, 3), stride=(1, 1), padding=(1, 1), bias=False)\n        (bn2): BatchNorm2d(128, eps=1e-05, momentum=0.1, affine=True, track_running_stats=True)\n        (conv3): Conv2d(128, 256, kernel_size=(1, 1), stride=(1, 1), bias=False)\n        (bn3): BatchNorm2d(256, eps=1e-05, momentum=0.1, affine=True, track_running_stats=True)\n        (relu): ReLU(inplace=True)\n      )\n    )\n  )\n)"
     },
     "execution_count": 37,
     "metadata": {},
     "output_type": "execute_result"
    }
   ],
   "source": [
    "save_path =  os.path.join(cwd, \"SavedModels\")\n",
    "model_path = os.path.join(save_path, '{1}_SavedModel{0}.pt'.format(time, item))\n",
    "model = ReverseDistillationModel(encoder=CustomResNet(model=full_w_resnet),\n",
    "                                 oceb=OCBE(Bottleneck, 3),\n",
    "                                 decoder=de_wide_resnet50_2())\n",
    "model.load_state_dict(torch.load(model_path))\n",
    "model.eval()\n",
    "\n"
   ],
   "metadata": {
    "collapsed": false,
    "pycharm": {
     "name": "#%%\n"
    }
   }
  },
  {
   "cell_type": "code",
   "execution_count": 25,
   "outputs": [],
   "source": [
    "torch.cuda.empty_cache()"
   ],
   "metadata": {
    "collapsed": false,
    "pycharm": {
     "name": "#%%\n"
    }
   }
  },
  {
   "cell_type": "code",
   "execution_count": 29,
   "outputs": [],
   "source": [
    "from PIL import Image\n",
    "image = Image.new('RGB', (224, 224), (0, 0, 0))\n",
    "image.save(os.path.join(cwd, \"good_mask.png\"), \"PNG\")"
   ],
   "metadata": {
    "collapsed": false,
    "pycharm": {
     "name": "#%%\n"
    }
   }
  },
  {
   "cell_type": "code",
   "execution_count": 38,
   "outputs": [],
   "source": [
    "image_list = list()\n",
    "gt_list = list()\n",
    "path = os.path.join(cwd, \"data\")\n",
    "test_path =  os.path.join(path, \"Head_CT\")\n",
    "\n",
    "\n",
    "\n",
    "test_dirs = os.listdir(test_path)\n",
    "for test_dir in test_dirs:\n",
    "    cur_dir = os.path.join(test_path, test_dir)\n",
    "    if \"yes\" in cur_dir:\n",
    "        label = 1\n",
    "        for i, file in enumerate(os.listdir(cur_dir)):\n",
    "            image_list.append(os.path.join(cur_dir, file))\n",
    "            gt_list.append(label)\n",
    "\n"
   ],
   "metadata": {
    "collapsed": false,
    "pycharm": {
     "name": "#%%\n"
    }
   }
  },
  {
   "cell_type": "code",
   "execution_count": 39,
   "outputs": [],
   "source": [
    "class MyTestDataset(Dataset):\n",
    "    def __init__(self, image_paths, ground_truth_paths, transform, target_transform=None, img_w = 224, img_h = 224):\n",
    "        self.image_paths = image_paths\n",
    "        self.ground_truth_paths = ground_truth_paths\n",
    "        self.transform = transform\n",
    "        self.target_transform = target_transform\n",
    "\n",
    "    def __getitem__(self, index):\n",
    "        image = pil_loader(self.image_paths[index])\n",
    "\n",
    "        gt = self.ground_truth_paths[index]\n",
    "        if self.transform:\n",
    "            image = self.transform(image)\n",
    "\n",
    "        x, y = image, gt\n",
    "        return x, y\n",
    "\n",
    "    def __len__(self):\n",
    "        return len(self.image_paths)"
   ],
   "metadata": {
    "collapsed": false,
    "pycharm": {
     "name": "#%%\n"
    }
   }
  },
  {
   "cell_type": "code",
   "execution_count": 40,
   "outputs": [
    {
     "name": "stdout",
     "output_type": "stream",
     "text": [
      "100\n",
      "100\n"
     ]
    }
   ],
   "source": [
    "preprocess = transforms.Compose([\n",
    "    transforms.Resize((img_h,img_w)),\n",
    "    transforms.CenterCrop(224),\n",
    "    transforms.ToTensor(),\n",
    "    transforms.Normalize(mean=[0.485, 0.456, 0.406], std=[0.229, 0.224, 0.225]),\n",
    "])\n",
    "\n",
    "dataset = MyTestDataset(image_list, gt_list, preprocess)\n",
    "batch_size = 1\n",
    "validation_split = 1\n",
    "shuffle_dataset = False\n",
    "random_seed= 42\n",
    "\n",
    "# Creating data indices for training and validation splits:\n",
    "dataset_size = len(dataset)\n",
    "indices = list(range(dataset_size))\n",
    "split = int(np.floor(validation_split * dataset_size))\n",
    "if shuffle_dataset :\n",
    "    np.random.seed(random_seed)\n",
    "    np.random.shuffle(indices)\n",
    "train_indices, val_indices = indices[split:], indices[:split]\n",
    "\n",
    "# Creating PT data samplers and loaders:\n",
    "train_sampler = SubsetRandomSampler(train_indices)\n",
    "valid_sampler = SubsetRandomSampler(val_indices)\n",
    "\n",
    "test_loader = torch.utils.data.DataLoader(dataset, batch_size=batch_size,\n",
    "                                           sampler=valid_sampler)\n",
    "print(len(dataset))\n",
    "print(len(test_loader.sampler))"
   ],
   "metadata": {
    "collapsed": false,
    "pycharm": {
     "name": "#%%\n"
    }
   }
  },
  {
   "cell_type": "code",
   "execution_count": 60,
   "outputs": [
    {
     "name": "stdout",
     "output_type": "stream",
     "text": [
      "100\n",
      "100\n",
      "125\n",
      "125\n"
     ]
    }
   ],
   "source": [
    "#Compute AUROC\n",
    "from sklearn.metrics import roc_curve, auc # roc curve tools\n",
    "an_maps = list()\n",
    "gts = list()\n",
    "for (image, gt) in test_loader:\n",
    "    an_map = model.to(\"cpu\").forward(image)\n",
    "\n",
    "    gts.append(gt)\n",
    "    #for an_px in an_map.detach():\n",
    "    #print(torch.max(an_map.detach()))\n",
    "    an_maps.append(torch.max(an_map.detach()))\n",
    "\n",
    "print(len(an_maps))\n",
    "print(len(gts))\n",
    "\n",
    "for (image, _) in validation_loader:\n",
    "    an_map = model.to(\"cpu\").forward(image)\n",
    "    gts.append(0)\n",
    "    an_maps.append(torch.max(an_map.detach()))\n",
    "\n",
    "print(len(an_maps))\n",
    "print(len(gts))"
   ],
   "metadata": {
    "collapsed": false,
    "pycharm": {
     "name": "#%%\n"
    }
   }
  },
  {
   "cell_type": "code",
   "execution_count": null,
   "outputs": [],
   "source": [
    "#Compute AUROC\n",
    "#Here we are thresholding the LOSS instead of the anomaly detection score of RKD\n",
    "from sklearn.metrics import roc_curve, auc # roc curve tools\n",
    "an_maps = list()\n",
    "gts = list()\n",
    "for (image, gt) in test_loader:\n",
    "    encoded = model.encoder(image)\n",
    "    #Output of Student\n",
    "    reconstructed = model.decoder(model.oceb(encoded))\n",
    "    # Calculating the loss function\n",
    "    loss = kd_loss(encoded, reconstructed)\n",
    "    gts.append(gt)\n",
    "    #for an_px in an_map.detach():\n",
    "    #print(torch.max(an_map.detach()))\n",
    "    an_maps.append(loss.detach())\n",
    "\n",
    "print(len(an_maps))\n",
    "print(len(gts))\n",
    "\n",
    "for (image, _) in validation_loader:\n",
    "    encoded = model.encoder(image)\n",
    "    #Output of Student\n",
    "    reconstructed = model.decoder(model.oceb(encoded))\n",
    "    # Calculating the loss function\n",
    "    loss = kd_loss(encoded, reconstructed)\n",
    "    gts.append(0)\n",
    "    an_maps.append(loss.detach())\n",
    "\n",
    "print(len(an_maps))\n",
    "print(len(gts))"
   ],
   "metadata": {
    "collapsed": false,
    "pycharm": {
     "name": "#%%\n"
    }
   }
  },
  {
   "cell_type": "code",
   "execution_count": 61,
   "outputs": [
    {
     "name": "stdout",
     "output_type": "stream",
     "text": [
      "Threshold sorted values are: (0.51, 0.025056547)\n"
     ]
    },
    {
     "name": "stderr",
     "output_type": "stream",
     "text": [
      "C:\\Users\\user\\AppData\\Local\\Temp\\ipykernel_19020\\3506520834.py:1: FutureWarning: The input object of type 'Tensor' is an array-like implementing one of the corresponding protocols (`__array__`, `__array_interface__` or `__array_struct__`); but not a sequence (or 0-D). In the future, this object will be coerced as if it was first converted using `np.array(obj)`. To retain the old behaviour, you have to either modify the type 'Tensor', or assign to an empty array created with `np.empty(correct_shape, dtype=object)`.\n",
      "  gts =  np.asarray(gts).astype(int)\n",
      "C:\\Users\\user\\AppData\\Local\\Temp\\ipykernel_19020\\3506520834.py:1: VisibleDeprecationWarning: Creating an ndarray from ragged nested sequences (which is a list-or-tuple of lists-or-tuples-or ndarrays with different lengths or shapes) is deprecated. If you meant to do this, you must specify 'dtype=object' when creating the ndarray.\n",
      "  gts =  np.asarray(gts).astype(int)\n"
     ]
    }
   ],
   "source": [
    "gts =  np.asarray(gts).astype(int)\n",
    "fpr, tpr, thresholds = roc_curve(gts,an_maps)\n",
    "roc_auc = auc(fpr,tpr)\n",
    "#Compute  Youden’s J statistic wrt each threshold and sort results in decreasing order\n",
    "optimal_proba_cutoff = sorted(list(zip(np.abs(tpr - fpr), thresholds)), key=lambda i: i[0], reverse=True)\n",
    "print(\"Threshold sorted values are:\", optimal_proba_cutoff[0])"
   ],
   "metadata": {
    "collapsed": false,
    "pycharm": {
     "name": "#%%\n"
    }
   }
  },
  {
   "cell_type": "code",
   "execution_count": 64,
   "outputs": [
    {
     "name": "stdout",
     "output_type": "stream",
     "text": [
      "Threshold optimal cutoff value is: 0.025056547\n"
     ]
    },
    {
     "data": {
      "text/plain": "<Figure size 432x288 with 1 Axes>",
      "image/png": "[encoded data removed]"
     },
     "metadata": {},
     "output_type": "display_data"
    }
   ],
   "source": [
    "\n",
    "\n",
    "import matplotlib.pyplot as plt\n",
    "#Plot AUROC and print best threshold\n",
    "fig, ax = plt.subplots(1,1)\n",
    "optimal_threshold = optimal_proba_cutoff[0][-1]#find_optimal_cutoff(fpr, tpr, thresholds)\n",
    "print(\"Threshold optimal cutoff value is:\", optimal_threshold)\n",
    "\n",
    "ax.plot(fpr, tpr, label='ROC curve (area = %0.4f)' % roc_auc)\n",
    "ax.plot([0, 1], [0, 1], 'k--')\n",
    "ax.set_xlim([0.0, 1.0])\n",
    "ax.set_ylim([0.0, 1.05])\n",
    "ax.set_xlabel('False Positive Rate')\n",
    "ax.set_ylabel('True Positive Rate')\n",
    "ax.set_title('Receiver operating characteristic for {0}'.format(item))\n",
    "ax.legend(loc=\"lower right\")\n",
    "fig.savefig(os.path.join(cwd, \"ROC_{0}.png\".format(item)))"
   ],
   "metadata": {
    "collapsed": false,
    "pycharm": {
     "name": "#%%\n"
    }
   }
  },
  {
   "cell_type": "code",
   "execution_count": 26,
   "outputs": [],
   "source": [
    "#To calculate the per-region overlap, real-valued anomaly scores are thresholded to obtain a\n",
    "# binary prediction for each pixel in the test set.\n",
    "# Then, the percentage of correctly predicted pixels is computed for each annotated defect region\n",
    "# in the ground-truth.\n",
    "# The average over all defects yields the final PRO value.\n",
    "#https://link.springer.com/article/10.1007/s11263-022-01578-9\n",
    "def compute_pro(anomaly_map, ground_truth, threshold = 0.01):\n",
    "    binary_class = list()\n",
    "    correct_predicted = 0\n",
    "    anomaly_region = 0\n",
    "    for px in anomaly_map:\n",
    "        #print(\"Anomaly map pixel: \" + str(px))\n",
    "        if px >= threshold:\n",
    "            binary_class.append(1)\n",
    "        else:\n",
    "            binary_class.append(0)\n",
    "    for i, px in enumerate(ground_truth):\n",
    "        #print(\"GT pixel: \"+ str(px))\n",
    "\n",
    "        if px == 1:\n",
    "            anomaly_region +=1\n",
    "            if binary_class[i] == 1:\n",
    "                correct_predicted += 1\n",
    "\n",
    "\n",
    "\n",
    "    pro = correct_predicted/anomaly_region\n",
    "    print(\"Correct predicted pixels: \" + str(correct_predicted))\n",
    "    print(\"Anomaly region pixels: \" + str(anomaly_region))\n",
    "    print(\"Predicted anomaly pixels: \" + str(binary_class.count(1)))\n",
    "    return pro"
   ],
   "metadata": {
    "collapsed": false,
    "pycharm": {
     "name": "#%%\n"
    }
   }
  },
  {
   "cell_type": "code",
   "execution_count": 62,
   "outputs": [
    {
     "name": "stdout",
     "output_type": "stream",
     "text": [
      "Correct predicted pixels: 286406\n",
      "Anomaly region pixels: 413063\n",
      "Predicted anomaly pixels: 1243491\n",
      "0.69337122908612\n"
     ]
    }
   ],
   "source": [
    "#Compute PRO\n",
    "pro = compute_pro(an_maps, gts, optimal_threshold)\n",
    "print(pro)"
   ],
   "metadata": {
    "collapsed": false,
    "pycharm": {
     "name": "#%%\n"
    }
   }
  },
  {
   "cell_type": "code",
   "execution_count": 47,
   "outputs": [
    {
     "name": "stdout",
     "output_type": "stream",
     "text": [
      "torch.Size([224, 224, 3])\n",
      "torch.Size([224, 224, 1])\n"
     ]
    }
   ],
   "source": [
    "image = pil_loader(\"data/Head_CT/no/104.png\")\n",
    "image = preprocess(image)\n",
    "image = image[None, :]\n",
    "anomaly_map = model.to('cpu').forward(image)\n",
    "\n",
    "im = torch.swapaxes(image[0], 0, -1)\n",
    "im = torch.swapaxes(im, 0, 1)\n",
    "an_map = torch.swapaxes(anomaly_map[0], 0, -1)\n",
    "an_map = torch.swapaxes(an_map, 0, 1)\n",
    "\n",
    "\n",
    "print(im.shape)\n",
    "print(an_map.shape)"
   ],
   "metadata": {
    "collapsed": false,
    "pycharm": {
     "name": "#%%\n"
    }
   }
  },
  {
   "cell_type": "code",
   "execution_count": 48,
   "outputs": [
    {
     "name": "stderr",
     "output_type": "stream",
     "text": [
      "Clipping input data to the valid range for imshow with RGB data ([0..1] for floats or [0..255] for integers).\n"
     ]
    },
    {
     "data": {
      "text/plain": "<matplotlib.image.AxesImage at 0x1c675f3f0d0>"
     },
     "execution_count": 48,
     "metadata": {},
     "output_type": "execute_result"
    },
    {
     "data": {
      "text/plain": "<Figure size 432x288 with 1 Axes>",
      "image/png": "[encoded data removed]"
     },
     "metadata": {},
     "output_type": "display_data"
    }
   ],
   "source": [
    "plt.imshow(im)"
   ],
   "metadata": {
    "collapsed": false,
    "pycharm": {
     "name": "#%%\n"
    }
   }
  },
  {
   "cell_type": "code",
   "execution_count": 49,
   "outputs": [
    {
     "data": {
      "text/plain": "<matplotlib.image.AxesImage at 0x1c675f62550>"
     },
     "execution_count": 49,
     "metadata": {},
     "output_type": "execute_result"
    },
    {
     "data": {
      "text/plain": "<Figure size 432x288 with 1 Axes>",
      "image/png": "[encoded data removed]"
     },
     "metadata": {},
     "output_type": "display_data"
    }
   ],
   "source": [
    "plt.imshow(an_map.detach().numpy())"
   ],
   "metadata": {
    "collapsed": false,
    "pycharm": {
     "name": "#%%\n"
    }
   }
  },
  {
   "cell_type": "code",
   "execution_count": 31,
   "outputs": [
    {
     "data": {
      "text/plain": "<matplotlib.image.AxesImage at 0x13cf75d2220>"
     },
     "execution_count": 31,
     "metadata": {},
     "output_type": "execute_result"
    },
    {
     "data": {
      "text/plain": "<Figure size 432x288 with 1 Axes>",
      "image/png": "[encoded data removed]"
     },
     "metadata": {},
     "output_type": "display_data"
    }
   ],
   "source": [
    "gt = pil_loader(\"data/mvtec_AD/zipper/ground_truth/combined/000_mask.png\")\n",
    "preprocess2 = transforms.Compose([\n",
    "    #transforms.Resize((img_h,img_w)),\n",
    "    transforms.CenterCrop(224),\n",
    "    transforms.ToTensor(),\n",
    "    #transforms.Normalize(mean=[0.485], std=[0.229]),\n",
    "])\n",
    "\n",
    "gt = gt.resize((img_w, img_h), Image.NEAREST)\n",
    "gt = preprocess2(gt)\n",
    "gt = torch.swapaxes(gt[0], 0, -1)\n",
    "gt = torch.swapaxes(gt, 0, 1)\n",
    "plt.imshow(gt)\n",
    "\n"
   ],
   "metadata": {
    "collapsed": false,
    "pycharm": {
     "name": "#%%\n"
    }
   }
  },
  {
   "cell_type": "code",
   "execution_count": 38,
   "outputs": [],
   "source": [
    "import pandas as pd\n",
    "def find_optimal_cutoff(fpr, tpr, threshold):\n",
    "    \"\"\" Find the optimal probability cutoff point for a classification model related to event rate\n",
    "    Parameters\n",
    "    ----------\n",
    "    target : Matrix with dependent or target data, where rows are observations\n",
    "\n",
    "    predicted : Matrix with predicted data, where rows are observations\n",
    "\n",
    "    Returns\n",
    "    -------\n",
    "    list type, with optimal cutoff value\n",
    "\n",
    "    \"\"\"\n",
    "    i = np.arange(len(tpr))\n",
    "    roc = pd.DataFrame({'tf' : pd.Series(tpr-(1-fpr), index=i), 'threshold' : pd.Series(threshold, index=i)})\n",
    "    roc_t = roc.iloc[(roc.tf-0).abs().argsort()[:1]]\n",
    "\n",
    "    return list(roc_t['threshold'])\n",
    "\n",
    "\n"
   ],
   "metadata": {
    "collapsed": false,
    "pycharm": {
     "name": "#%%\n"
    }
   }
  }
 ],
 "metadata": {
  "kernelspec": {
   "name": "my-torch",
   "language": "python",
   "display_name": "my-torch"
  },
  "language_info": {
   "codemirror_mode": {
    "name": "ipython",
    "version": 2
   },
   "file_extension": ".py",
   "mimetype": "text/x-python",
   "name": "python",
   "nbconvert_exporter": "python",
   "pygments_lexer": "ipython2",
   "version": "2.7.6"
  }
 },
 "nbformat": 4,
 "nbformat_minor": 0
}