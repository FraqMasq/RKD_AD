{
 "cells": [
  {
   "cell_type": "code",
   "execution_count": 1,
   "metadata": {
    "collapsed": true
   },
   "outputs": [
    {
     "name": "stderr",
     "output_type": "stream",
     "text": [
      "C:\\Users\\user\\anaconda3\\envs\\my-torch\\lib\\site-packages\\tqdm\\auto.py:22: TqdmWarning: IProgress not found. Please update jupyter and ipywidgets. See https://ipywidgets.readthedocs.io/en/stable/user_install.html\n",
      "  from .autonotebook import tqdm as notebook_tqdm\n"
     ]
    },
    {
     "name": "stdout",
     "output_type": "stream",
     "text": [
      "cuda:0\n"
     ]
    }
   ],
   "source": [
    "import torch\n",
    "import torchvision\n",
    "import torchvision.transforms as transforms\n",
    "from torch.utils.data import Dataset, SubsetRandomSampler\n",
    "import torch.nn as nn\n",
    "from torchvision import datasets\n",
    "import numpy as np\n",
    "from PIL import Image\n",
    "from pytorch_model_summary import summary\n",
    "from torchvision.datasets.folder import pil_loader\n",
    "\n",
    "device = torch.device('cuda:0' if torch.cuda.is_available() else 'cpu')\n",
    "\n",
    "# Assuming that we are on a CUDA machine, this should print a CUDA device:\n",
    "\n",
    "print(device)"
   ]
  },
  {
   "cell_type": "code",
   "execution_count": 2,
   "outputs": [],
   "source": [
    "item = 'HeadCT'"
   ],
   "metadata": {
    "collapsed": false,
    "pycharm": {
     "name": "#%%\n"
    }
   }
  },
  {
   "cell_type": "code",
   "execution_count": 24,
   "outputs": [],
   "source": [
    "import os\n",
    "cwd = os.getcwd()\n",
    "path = os.path.join(cwd, 'data')\n",
    "path = os.path.join(path, 'Head_ct')\n",
    "path = os.path.join(path, 'no')\n",
    "#path = os.path.join(path, 'train')\n",
    "#path = os.path.join(path, 'good')\n",
    "#filename = os.path.join(path, '000.png')\n",
    "\n"
   ],
   "metadata": {
    "collapsed": false,
    "pycharm": {
     "name": "#%%\n"
    }
   }
  },
  {
   "cell_type": "code",
   "execution_count": 25,
   "outputs": [],
   "source": [
    "img_h = 224\n",
    "img_w = 224\n",
    "# Wide-ResNet preprocessing\n",
    "from torchvision import transforms\n",
    "preprocess = transforms.Compose([\n",
    "    transforms.Resize((img_h,img_w)),\n",
    "    transforms.CenterCrop(224),\n",
    "    transforms.ToTensor(),\n",
    "    transforms.Normalize(mean=[0.485, 0.456, 0.406], std=[0.229, 0.224, 0.225]),\n",
    "])"
   ],
   "metadata": {
    "collapsed": false,
    "pycharm": {
     "name": "#%%\n"
    }
   }
  },
  {
   "cell_type": "code",
   "execution_count": 5,
   "outputs": [],
   "source": [
    "class MyDataset(Dataset):\n",
    "    def __init__(self, image_ids, image_dir, transform, target_transform=None):\n",
    "        self.image_ids = image_ids\n",
    "        self.image_dir = image_dir\n",
    "        self.transform = transform\n",
    "        self.target_transform = target_transform\n",
    "\n",
    "    def __getitem__(self, index):\n",
    "        image = pil_loader(os.path.join(self.image_dir, self.image_ids[index]))\n",
    "\n",
    "        if self.transform:\n",
    "            image = self.transform(image)\n",
    "\n",
    "        x, y = image, image\n",
    "        return x, y\n",
    "\n",
    "    def __len__(self):\n",
    "        return len(self.image_ids)\n",
    "\n"
   ],
   "metadata": {
    "collapsed": false,
    "pycharm": {
     "name": "#%%\n"
    }
   }
  },
  {
   "cell_type": "code",
   "execution_count": 26,
   "outputs": [],
   "source": [
    "dataset = MyDataset(os.listdir(path), path, preprocess)\n",
    "batch_size = 16\n",
    "validation_split = 10/len(dataset)\n",
    "shuffle_dataset = True\n",
    "random_seed= 42\n",
    "\n",
    "# Creating data indices for training and validation splits:\n",
    "dataset_size = len(dataset)\n",
    "indices = list(range(dataset_size))\n",
    "split = int(np.floor(validation_split * dataset_size))\n",
    "if shuffle_dataset :\n",
    "    np.random.seed(random_seed)\n",
    "    np.random.shuffle(indices)\n",
    "train_indices, val_indices = indices[split:], indices[:split]\n",
    "\n",
    "# Creating PT data samplers and loaders:\n",
    "train_sampler = SubsetRandomSampler(train_indices)\n",
    "valid_sampler = SubsetRandomSampler(val_indices)\n",
    "\n",
    "train_loader = torch.utils.data.DataLoader(dataset, batch_size=batch_size,\n",
    "                                           sampler=train_sampler)\n",
    "validation_loader = torch.utils.data.DataLoader(dataset, batch_size=batch_size,\n",
    "                                                sampler=valid_sampler)\n"
   ],
   "metadata": {
    "collapsed": false,
    "pycharm": {
     "name": "#%%\n"
    }
   }
  },
  {
   "cell_type": "code",
   "execution_count": 27,
   "outputs": [
    {
     "name": "stdout",
     "output_type": "stream",
     "text": [
      "100\n",
      "90\n",
      "10\n"
     ]
    }
   ],
   "source": [
    "print(len(dataset))\n",
    "print(len(train_loader.sampler))\n",
    "print(len(validation_loader.sampler))\n"
   ],
   "metadata": {
    "collapsed": false,
    "pycharm": {
     "name": "#%%\n"
    }
   }
  },
  {
   "cell_type": "code",
   "execution_count": 8,
   "outputs": [],
   "source": [
    "#Testing components generation:\n",
    "from pytorch_model_summary import summary\n",
    "from pkg.models import CustomResNet\n",
    "# load WRN-50-2:\n",
    "full_w_resnet = torch.hub.load('pytorch/vision:v0.10.0', 'wide_resnet50_2', pretrained=True)\n",
    "#encoder-architecture\n",
    "enc = CustomResNet(model=full_w_resnet)\n",
    "for param in enc.parameters():\n",
    "    param.requires_grad = False\n",
    "print(summary(enc, torch.zeros((1, 3, img_h, img_w))))"
   ],
   "metadata": {
    "collapsed": false,
    "pycharm": {
     "name": "#%%\n"
    }
   }
  },
  {
   "cell_type": "code",
   "execution_count": 9,
   "outputs": [],
   "source": [
    "from pkg.models import OCBE, Bottleneck\n",
    "ocbe = OCBE(Bottleneck, 3)\n",
    "print(summary(ocbe, enc(torch.zeros((1, 3, img_h, img_w)))))"
   ],
   "metadata": {
    "collapsed": false,
    "pycharm": {
     "name": "#%%\n"
    }
   }
  },
  {
   "cell_type": "code",
   "execution_count": 10,
   "outputs": [],
   "source": [
    "from pkg.models import de_wide_resnet50_2\n",
    "decoder = de_wide_resnet50_2()\n",
    "print(summary(decoder, ocbe(enc(torch.zeros((1, 3, img_h, img_w))))))\n"
   ],
   "metadata": {
    "collapsed": false,
    "pycharm": {
     "name": "#%%\n"
    }
   }
  },
  {
   "cell_type": "code",
   "execution_count": 11,
   "outputs": [
    {
     "name": "stderr",
     "output_type": "stream",
     "text": [
      "Using cache found in C:\\Users\\user/.cache\\torch\\hub\\pytorch_vision_v0.10.0\n"
     ]
    },
    {
     "name": "stdout",
     "output_type": "stream",
     "text": [
      "-------------------------------------------------------------------------\n",
      "      Layer (type)          Output Shape         Param #     Tr. Param #\n",
      "=========================================================================\n",
      "          Conv2d-1     [1, 64, 112, 112]           9,408               0\n",
      "     BatchNorm2d-2     [1, 64, 112, 112]             128               0\n",
      "            ReLU-3     [1, 64, 112, 112]               0               0\n",
      "       MaxPool2d-4       [1, 64, 56, 56]               0               0\n",
      "      Bottleneck-5      [1, 256, 56, 56]         206,336               0\n",
      "      Bottleneck-6      [1, 256, 56, 56]         214,016               0\n",
      "      Bottleneck-7      [1, 256, 56, 56]         214,016               0\n",
      "      Bottleneck-8      [1, 512, 28, 28]         920,576               0\n",
      "      Bottleneck-9      [1, 512, 28, 28]         854,016               0\n",
      "     Bottleneck-10      [1, 512, 28, 28]         854,016               0\n",
      "     Bottleneck-11      [1, 512, 28, 28]         854,016               0\n",
      "     Bottleneck-12     [1, 1024, 14, 14]       3,676,160               0\n",
      "     Bottleneck-13     [1, 1024, 14, 14]       3,411,968               0\n",
      "     Bottleneck-14     [1, 1024, 14, 14]       3,411,968               0\n",
      "     Bottleneck-15     [1, 1024, 14, 14]       3,411,968               0\n",
      "     Bottleneck-16     [1, 1024, 14, 14]       3,411,968               0\n",
      "     Bottleneck-17     [1, 1024, 14, 14]       3,411,968               0\n",
      "=========================================================================\n",
      "Total params: 24,862,528\n",
      "Trainable params: 0\n",
      "Non-trainable params: 24,862,528\n",
      "-------------------------------------------------------------------------\n"
     ]
    }
   ],
   "source": [
    "from pkg.models import ReverseDistillationModel\n",
    "full_w_resnet = torch.hub.load('pytorch/vision:v0.10.0', 'wide_resnet50_2', pretrained=True)\n",
    "torch.cuda.empty_cache()\n",
    "model = ReverseDistillationModel(encoder=CustomResNet(model=full_w_resnet),\n",
    "                                 oceb=OCBE(Bottleneck, 3),\n",
    "                                 decoder=de_wide_resnet50_2()).to(device)\n",
    "\n",
    "print(summary(model, torch.zeros((1, 3, img_h, img_w)).to(device)))"
   ],
   "metadata": {
    "collapsed": false,
    "pycharm": {
     "name": "#%%\n"
    }
   }
  },
  {
   "cell_type": "code",
   "execution_count": 16,
   "outputs": [
    {
     "name": "stdout",
     "output_type": "stream",
     "text": [
      "-------------------------------------------------------------------------\n",
      "      Layer (type)          Output Shape         Param #     Tr. Param #\n",
      "=========================================================================\n",
      "          Conv2d-1      [1, 512, 28, 28]       1,179,648       1,179,648\n",
      "     BatchNorm2d-2      [1, 512, 28, 28]           1,024           1,024\n",
      "            ReLU-3      [1, 512, 28, 28]               0               0\n",
      "          Conv2d-4     [1, 1024, 14, 14]       4,718,592       4,718,592\n",
      "     BatchNorm2d-5     [1, 1024, 14, 14]           2,048           2,048\n",
      "            ReLU-6     [1, 1024, 14, 14]               0               0\n",
      "          Conv2d-7     [1, 1024, 14, 14]       4,718,592       4,718,592\n",
      "     BatchNorm2d-8     [1, 1024, 14, 14]           2,048           2,048\n",
      "            ReLU-9     [1, 1024, 14, 14]               0               0\n",
      "     Bottleneck-10       [1, 2048, 7, 7]      11,282,432      11,282,432\n",
      "     Bottleneck-11       [1, 2048, 7, 7]       4,462,592       4,462,592\n",
      "     Bottleneck-12       [1, 2048, 7, 7]       4,462,592       4,462,592\n",
      "=========================================================================\n",
      "Total params: 30,829,568\n",
      "Trainable params: 30,829,568\n",
      "Non-trainable params: 0\n",
      "-------------------------------------------------------------------------\n"
     ]
    }
   ],
   "source": [
    "import hiddenlayer as hl\n",
    "\n",
    "hl_graph = hl.build_graph(model, torch.zeros((1, 3, img_h, img_w)).to('cuda'))\n",
    "hl_graph.theme = hl.graph.THEMES[\"blue\"].copy()\n",
    "#hl_graph.save(path=\"model\" , format=\"jpg\")\n",
    "hl_graph"
   ],
   "metadata": {
    "collapsed": false,
    "pycharm": {
     "name": "#%%\n"
    }
   }
  },
  {
   "cell_type": "code",
   "execution_count": 18,
   "outputs": [
    {
     "name": "stdout",
     "output_type": "stream",
     "text": [
      "------------------------------------------------------------------------------\n",
      "           Layer (type)          Output Shape         Param #     Tr. Param #\n",
      "==============================================================================\n",
      "    DecoderBottleneck-1     [1, 1024, 14, 14]      11,016,192      11,016,192\n",
      "    DecoderBottleneck-2     [1, 1024, 14, 14]       3,411,968       3,411,968\n",
      "    DecoderBottleneck-3     [1, 1024, 14, 14]       3,411,968       3,411,968\n",
      "    DecoderBottleneck-4      [1, 512, 28, 28]       2,755,584       2,755,584\n",
      "    DecoderBottleneck-5      [1, 512, 28, 28]         854,016         854,016\n",
      "    DecoderBottleneck-6      [1, 512, 28, 28]         854,016         854,016\n",
      "    DecoderBottleneck-7      [1, 512, 28, 28]         854,016         854,016\n",
      "    DecoderBottleneck-8      [1, 256, 56, 56]         689,664         689,664\n",
      "    DecoderBottleneck-9      [1, 256, 56, 56]         214,016         214,016\n",
      "   DecoderBottleneck-10      [1, 256, 56, 56]         214,016         214,016\n",
      "   DecoderBottleneck-11      [1, 256, 56, 56]         214,016         214,016\n",
      "   DecoderBottleneck-12      [1, 256, 56, 56]         214,016         214,016\n",
      "   DecoderBottleneck-13      [1, 256, 56, 56]         214,016         214,016\n",
      "==============================================================================\n",
      "Total params: 24,917,504\n",
      "Trainable params: 24,917,504\n",
      "Non-trainable params: 0\n",
      "------------------------------------------------------------------------------\n"
     ]
    }
   ],
   "source": [
    "print(torch.cuda.memory_summary(device=None, abbreviated=False))\n"
   ],
   "metadata": {
    "collapsed": false,
    "pycharm": {
     "name": "#%%\n"
    }
   }
  },
  {
   "cell_type": "code",
   "execution_count": 11,
   "outputs": [],
   "source": [
    "from torch import Tensor\n",
    "from typing import List\n",
    "def kd_loss(encoder_features: List[Tensor], decoder_features: List[Tensor], only_cos_distance = True, lam = 1e3) -> Tensor:\n",
    "    \"\"\"Computes cosine similarity loss based on features from encoder and decoder.\n",
    "    Args:\n",
    "    encoder_features (List[Tensor]): List of features extracted from encoder\n",
    "    decoder_features (List[Tensor]): List of features extracted from decoder\n",
    "    onlyCosDistance (def: True): Flag used to compute cosine distance or sum of it and Euclidean distance\n",
    "    lam (def: 1e3): scale factor to keep the two loss factors on the same magnitude\n",
    "    Returns:\n",
    "    Tensor: Cosine similarity loss\n",
    "    \"\"\"\n",
    "    cos_loss = torch.nn.CosineSimilarity()\n",
    "    losses = list(map(cos_loss, encoder_features, decoder_features))\n",
    "    euc_losses = [torch.dist(encoder_features[i], decoder_features[i], 2) for i in range(len(encoder_features))]\n",
    "    loss_sum = 0\n",
    "    for i, loss in enumerate(losses):\n",
    "        if only_cos_distance:\n",
    "            loss_sum += torch.mean(1 - loss)  # mean of cosine distance\n",
    "        else:\n",
    "            loss_sum += euc_losses[i] +lam*torch.mean(1 - loss)\n",
    "    if not only_cos_distance:\n",
    "        loss_sum *= 1e-3\n",
    "    return loss_sum"
   ],
   "metadata": {
    "collapsed": false,
    "pycharm": {
     "name": "#%%\n"
    }
   }
  },
  {
   "cell_type": "code",
   "execution_count": 15,
   "outputs": [
    {
     "name": "stderr",
     "output_type": "stream",
     "text": [
      "Epoch num: 179:  90%|████████▉ | 179/199 [04:36<00:30,  1.54s/it]\n"
     ]
    }
   ],
   "source": [
    "from tqdm import trange\n",
    "from time import sleep\n",
    "\n",
    "# Model Initialization\n",
    "torch.cuda.empty_cache()\n",
    "\n",
    "# Using an Adam Optimizer with lr = 0.01\n",
    "optimizer = torch.optim.Adam(filter(lambda p: p.requires_grad, model.parameters()),\n",
    "                             lr = 0.005,\n",
    "                             betas=(0.5, 0.999))\n",
    "\n",
    "save_path =  os.path.join(cwd, \"SavedModels\")\n",
    "save_path =  os.path.join(save_path, \"Checkpoints\")\n",
    "\n",
    "\n",
    "epochs = 200\n",
    "outputs = []\n",
    "losses = []\n",
    "val_losses = []\n",
    "count = 0\n",
    "best_loss = np.inf\n",
    "t = trange(range(epochs)[-1], desc=\"Epoch num %i\")\n",
    "\n",
    "#for epoch in range(epochs):\n",
    "for epoch in t:\n",
    "    t.set_description(\"Epoch num: %i\" % epoch)\n",
    "    t.refresh() # to show immediately the update\n",
    "    sleep(0.01)\n",
    "    for (image, _) in train_loader:\n",
    "\n",
    "        image =  image.to(device)\n",
    "        # Output of Teacher\n",
    "        encoded = model.encoder(image)\n",
    "        #Output of Student\n",
    "        reconstructed = model.decoder(model.oceb(encoded))\n",
    "        # Calculating the loss function\n",
    "        loss = kd_loss(encoded, reconstructed, only_cos_distance= False)\n",
    "\n",
    "        # The gradients are set to zero,\n",
    "        # the the gradient is computed and stored.\n",
    "        # .step() performs parameter update\n",
    "        optimizer.zero_grad()\n",
    "        loss.backward()\n",
    "        optimizer.step()\n",
    "        #outputs.append((epochs, image, reconstructed))\n",
    "    torch.cuda.empty_cache()\n",
    "    # Storing the losses in a list for plotting\n",
    "    losses.append(loss)\n",
    "    comp_losses = []\n",
    "    with torch.no_grad():\n",
    "        for (image, _) in validation_loader:\n",
    "            image =  image.to(device)\n",
    "            # Output of Teacher\n",
    "            encoded = model.encoder(image)\n",
    "            #Output of Student\n",
    "            reconstructed = model.decoder(model.oceb(encoded))\n",
    "            # Calculating the loss function\n",
    "            loss = kd_loss(encoded, reconstructed, only_cos_distance= False)\n",
    "            comp_losses.append(loss)\n",
    "        torch.cuda.empty_cache()\n",
    "        val_losses.append(sum(comp_losses)/len(comp_losses))\n",
    "        if val_losses[-1] >= best_loss:\n",
    "            count +=1\n",
    "        else:\n",
    "            best_loss = val_losses[-1]\n",
    "            count = 0\n",
    "            ckpt_path =  os.path.join(save_path, '{1}_SavedModel_ckpt_{0}.pt'.format(epoch, item))\n",
    "            torch.save(model.state_dict(),ckpt_path)\n",
    "        if count >= 20:\n",
    "            break"
   ],
   "metadata": {
    "collapsed": false,
    "pycharm": {
     "name": "#%%\n"
    }
   }
  },
  {
   "cell_type": "code",
   "execution_count": 16,
   "outputs": [],
   "source": [
    "import datetime\n",
    "time = datetime.datetime.now().strftime(\"%Y_%m_%d_%H_%M_%S\")"
   ],
   "metadata": {
    "collapsed": false,
    "pycharm": {
     "name": "#%%\n"
    }
   }
  },
  {
   "cell_type": "code",
   "execution_count": 17,
   "outputs": [
    {
     "data": {
      "text/plain": "<Figure size 432x288 with 1 Axes>",
      "image/png": "[encoded data removed]"
     },
     "metadata": {},
     "output_type": "display_data"
    }
   ],
   "source": [
    "import matplotlib.pyplot as plt\n",
    "cpu_losses = []\n",
    "cpu_val_losses = []\n",
    "for loss in losses:\n",
    "    cpu_losses.append(loss.to('cpu').detach().numpy())\n",
    "for loss in val_losses:\n",
    "    cpu_val_losses.append(loss.to('cpu').detach().numpy())\n",
    "# Defining the Plot Style\n",
    "plt.style.use('fivethirtyeight')\n",
    "plt.xlabel('Iterations')\n",
    "plt.ylabel('Loss')\n",
    "# Plotting the last 100 values\n",
    "plt.plot(cpu_losses)\n",
    "plt.plot(cpu_val_losses)\n",
    "\n",
    "plt.savefig('{1}_Training_{0}.png'.format(time, item))\n",
    "\n",
    "\n",
    "\n"
   ],
   "metadata": {
    "collapsed": false,
    "pycharm": {
     "name": "#%%\n"
    }
   }
  },
  {
   "cell_type": "code",
   "execution_count": 36,
   "outputs": [],
   "source": [
    "save_path =  os.path.join(cwd, \"SavedModels\")\n",
    "save_path =  os.path.join(save_path, '{1}_SavedModel{0}.pt'.format(time, item))\n",
    "torch.save(model.state_dict(),save_path)"
   ],
   "metadata": {
    "collapsed": false,
    "pycharm": {
     "name": "#%%\n"
    }
   }
  },
  {
   "cell_type": "code",
   "execution_count": 18,
   "outputs": [
    {
     "data": {
      "text/plain": "ReverseDistillationModel(\n  (encoder): CustomResNet(\n    (l1): Sequential(\n      (0): Conv2d(3, 64, kernel_size=(7, 7), stride=(2, 2), padding=(3, 3), bias=False)\n      (1): BatchNorm2d(64, eps=1e-05, momentum=0.1, affine=True, track_running_stats=True)\n      (2): ReLU(inplace=True)\n      (3): MaxPool2d(kernel_size=3, stride=2, padding=1, dilation=1, ceil_mode=False)\n      (4): Sequential(\n        (0): Bottleneck(\n          (conv1): Conv2d(64, 128, kernel_size=(1, 1), stride=(1, 1), bias=False)\n          (bn1): BatchNorm2d(128, eps=1e-05, momentum=0.1, affine=True, track_running_stats=True)\n          (conv2): Conv2d(128, 128, kernel_size=(3, 3), stride=(1, 1), padding=(1, 1), bias=False)\n          (bn2): BatchNorm2d(128, eps=1e-05, momentum=0.1, affine=True, track_running_stats=True)\n          (conv3): Conv2d(128, 256, kernel_size=(1, 1), stride=(1, 1), bias=False)\n          (bn3): BatchNorm2d(256, eps=1e-05, momentum=0.1, affine=True, track_running_stats=True)\n          (relu): ReLU(inplace=True)\n          (downsample): Sequential(\n            (0): Conv2d(64, 256, kernel_size=(1, 1), stride=(1, 1), bias=False)\n            (1): BatchNorm2d(256, eps=1e-05, momentum=0.1, affine=True, track_running_stats=True)\n          )\n        )\n        (1): Bottleneck(\n          (conv1): Conv2d(256, 128, kernel_size=(1, 1), stride=(1, 1), bias=False)\n          (bn1): BatchNorm2d(128, eps=1e-05, momentum=0.1, affine=True, track_running_stats=True)\n          (conv2): Conv2d(128, 128, kernel_size=(3, 3), stride=(1, 1), padding=(1, 1), bias=False)\n          (bn2): BatchNorm2d(128, eps=1e-05, momentum=0.1, affine=True, track_running_stats=True)\n          (conv3): Conv2d(128, 256, kernel_size=(1, 1), stride=(1, 1), bias=False)\n          (bn3): BatchNorm2d(256, eps=1e-05, momentum=0.1, affine=True, track_running_stats=True)\n          (relu): ReLU(inplace=True)\n        )\n        (2): Bottleneck(\n          (conv1): Conv2d(256, 128, kernel_size=(1, 1), stride=(1, 1), bias=False)\n          (bn1): BatchNorm2d(128, eps=1e-05, momentum=0.1, affine=True, track_running_stats=True)\n          (conv2): Conv2d(128, 128, kernel_size=(3, 3), stride=(1, 1), padding=(1, 1), bias=False)\n          (bn2): BatchNorm2d(128, eps=1e-05, momentum=0.1, affine=True, track_running_stats=True)\n          (conv3): Conv2d(128, 256, kernel_size=(1, 1), stride=(1, 1), bias=False)\n          (bn3): BatchNorm2d(256, eps=1e-05, momentum=0.1, affine=True, track_running_stats=True)\n          (relu): ReLU(inplace=True)\n        )\n      )\n    )\n    (l2): Sequential(\n      (0): Sequential(\n        (0): Bottleneck(\n          (conv1): Conv2d(256, 256, kernel_size=(1, 1), stride=(1, 1), bias=False)\n          (bn1): BatchNorm2d(256, eps=1e-05, momentum=0.1, affine=True, track_running_stats=True)\n          (conv2): Conv2d(256, 256, kernel_size=(3, 3), stride=(2, 2), padding=(1, 1), bias=False)\n          (bn2): BatchNorm2d(256, eps=1e-05, momentum=0.1, affine=True, track_running_stats=True)\n          (conv3): Conv2d(256, 512, kernel_size=(1, 1), stride=(1, 1), bias=False)\n          (bn3): BatchNorm2d(512, eps=1e-05, momentum=0.1, affine=True, track_running_stats=True)\n          (relu): ReLU(inplace=True)\n          (downsample): Sequential(\n            (0): Conv2d(256, 512, kernel_size=(1, 1), stride=(2, 2), bias=False)\n            (1): BatchNorm2d(512, eps=1e-05, momentum=0.1, affine=True, track_running_stats=True)\n          )\n        )\n        (1): Bottleneck(\n          (conv1): Conv2d(512, 256, kernel_size=(1, 1), stride=(1, 1), bias=False)\n          (bn1): BatchNorm2d(256, eps=1e-05, momentum=0.1, affine=True, track_running_stats=True)\n          (conv2): Conv2d(256, 256, kernel_size=(3, 3), stride=(1, 1), padding=(1, 1), bias=False)\n          (bn2): BatchNorm2d(256, eps=1e-05, momentum=0.1, affine=True, track_running_stats=True)\n          (conv3): Conv2d(256, 512, kernel_size=(1, 1), stride=(1, 1), bias=False)\n          (bn3): BatchNorm2d(512, eps=1e-05, momentum=0.1, affine=True, track_running_stats=True)\n          (relu): ReLU(inplace=True)\n        )\n        (2): Bottleneck(\n          (conv1): Conv2d(512, 256, kernel_size=(1, 1), stride=(1, 1), bias=False)\n          (bn1): BatchNorm2d(256, eps=1e-05, momentum=0.1, affine=True, track_running_stats=True)\n          (conv2): Conv2d(256, 256, kernel_size=(3, 3), stride=(1, 1), padding=(1, 1), bias=False)\n          (bn2): BatchNorm2d(256, eps=1e-05, momentum=0.1, affine=True, track_running_stats=True)\n          (conv3): Conv2d(256, 512, kernel_size=(1, 1), stride=(1, 1), bias=False)\n          (bn3): BatchNorm2d(512, eps=1e-05, momentum=0.1, affine=True, track_running_stats=True)\n          (relu): ReLU(inplace=True)\n        )\n        (3): Bottleneck(\n          (conv1): Conv2d(512, 256, kernel_size=(1, 1), stride=(1, 1), bias=False)\n          (bn1): BatchNorm2d(256, eps=1e-05, momentum=0.1, affine=True, track_running_stats=True)\n          (conv2): Conv2d(256, 256, kernel_size=(3, 3), stride=(1, 1), padding=(1, 1), bias=False)\n          (bn2): BatchNorm2d(256, eps=1e-05, momentum=0.1, affine=True, track_running_stats=True)\n          (conv3): Conv2d(256, 512, kernel_size=(1, 1), stride=(1, 1), bias=False)\n          (bn3): BatchNorm2d(512, eps=1e-05, momentum=0.1, affine=True, track_running_stats=True)\n          (relu): ReLU(inplace=True)\n        )\n      )\n    )\n    (l3): Sequential(\n      (0): Sequential(\n        (0): Bottleneck(\n          (conv1): Conv2d(512, 512, kernel_size=(1, 1), stride=(1, 1), bias=False)\n          (bn1): BatchNorm2d(512, eps=1e-05, momentum=0.1, affine=True, track_running_stats=True)\n          (conv2): Conv2d(512, 512, kernel_size=(3, 3), stride=(2, 2), padding=(1, 1), bias=False)\n          (bn2): BatchNorm2d(512, eps=1e-05, momentum=0.1, affine=True, track_running_stats=True)\n          (conv3): Conv2d(512, 1024, kernel_size=(1, 1), stride=(1, 1), bias=False)\n          (bn3): BatchNorm2d(1024, eps=1e-05, momentum=0.1, affine=True, track_running_stats=True)\n          (relu): ReLU(inplace=True)\n          (downsample): Sequential(\n            (0): Conv2d(512, 1024, kernel_size=(1, 1), stride=(2, 2), bias=False)\n            (1): BatchNorm2d(1024, eps=1e-05, momentum=0.1, affine=True, track_running_stats=True)\n          )\n        )\n        (1): Bottleneck(\n          (conv1): Conv2d(1024, 512, kernel_size=(1, 1), stride=(1, 1), bias=False)\n          (bn1): BatchNorm2d(512, eps=1e-05, momentum=0.1, affine=True, track_running_stats=True)\n          (conv2): Conv2d(512, 512, kernel_size=(3, 3), stride=(1, 1), padding=(1, 1), bias=False)\n          (bn2): BatchNorm2d(512, eps=1e-05, momentum=0.1, affine=True, track_running_stats=True)\n          (conv3): Conv2d(512, 1024, kernel_size=(1, 1), stride=(1, 1), bias=False)\n          (bn3): BatchNorm2d(1024, eps=1e-05, momentum=0.1, affine=True, track_running_stats=True)\n          (relu): ReLU(inplace=True)\n        )\n        (2): Bottleneck(\n          (conv1): Conv2d(1024, 512, kernel_size=(1, 1), stride=(1, 1), bias=False)\n          (bn1): BatchNorm2d(512, eps=1e-05, momentum=0.1, affine=True, track_running_stats=True)\n          (conv2): Conv2d(512, 512, kernel_size=(3, 3), stride=(1, 1), padding=(1, 1), bias=False)\n          (bn2): BatchNorm2d(512, eps=1e-05, momentum=0.1, affine=True, track_running_stats=True)\n          (conv3): Conv2d(512, 1024, kernel_size=(1, 1), stride=(1, 1), bias=False)\n          (bn3): BatchNorm2d(1024, eps=1e-05, momentum=0.1, affine=True, track_running_stats=True)\n          (relu): ReLU(inplace=True)\n        )\n        (3): Bottleneck(\n          (conv1): Conv2d(1024, 512, kernel_size=(1, 1), stride=(1, 1), bias=False)\n          (bn1): BatchNorm2d(512, eps=1e-05, momentum=0.1, affine=True, track_running_stats=True)\n          (conv2): Conv2d(512, 512, kernel_size=(3, 3), stride=(1, 1), padding=(1, 1), bias=False)\n          (bn2): BatchNorm2d(512, eps=1e-05, momentum=0.1, affine=True, track_running_stats=True)\n          (conv3): Conv2d(512, 1024, kernel_size=(1, 1), stride=(1, 1), bias=False)\n          (bn3): BatchNorm2d(1024, eps=1e-05, momentum=0.1, affine=True, track_running_stats=True)\n          (relu): ReLU(inplace=True)\n        )\n        (4): Bottleneck(\n          (conv1): Conv2d(1024, 512, kernel_size=(1, 1), stride=(1, 1), bias=False)\n          (bn1): BatchNorm2d(512, eps=1e-05, momentum=0.1, affine=True, track_running_stats=True)\n          (conv2): Conv2d(512, 512, kernel_size=(3, 3), stride=(1, 1), padding=(1, 1), bias=False)\n          (bn2): BatchNorm2d(512, eps=1e-05, momentum=0.1, affine=True, track_running_stats=True)\n          (conv3): Conv2d(512, 1024, kernel_size=(1, 1), stride=(1, 1), bias=False)\n          (bn3): BatchNorm2d(1024, eps=1e-05, momentum=0.1, affine=True, track_running_stats=True)\n          (relu): ReLU(inplace=True)\n        )\n        (5): Bottleneck(\n          (conv1): Conv2d(1024, 512, kernel_size=(1, 1), stride=(1, 1), bias=False)\n          (bn1): BatchNorm2d(512, eps=1e-05, momentum=0.1, affine=True, track_running_stats=True)\n          (conv2): Conv2d(512, 512, kernel_size=(3, 3), stride=(1, 1), padding=(1, 1), bias=False)\n          (bn2): BatchNorm2d(512, eps=1e-05, momentum=0.1, affine=True, track_running_stats=True)\n          (conv3): Conv2d(512, 1024, kernel_size=(1, 1), stride=(1, 1), bias=False)\n          (bn3): BatchNorm2d(1024, eps=1e-05, momentum=0.1, affine=True, track_running_stats=True)\n          (relu): ReLU(inplace=True)\n        )\n      )\n    )\n  )\n  (oceb): OCBE(\n    (bn_layer): Sequential(\n      (0): Bottleneck(\n        (conv1): Conv2d(3072, 512, kernel_size=(1, 1), stride=(1, 1), bias=False)\n        (bn1): BatchNorm2d(512, eps=1e-05, momentum=0.1, affine=True, track_running_stats=True)\n        (conv2): Conv2d(512, 512, kernel_size=(3, 3), stride=(2, 2), padding=(1, 1), bias=False)\n        (bn2): BatchNorm2d(512, eps=1e-05, momentum=0.1, affine=True, track_running_stats=True)\n        (conv3): Conv2d(512, 2048, kernel_size=(1, 1), stride=(1, 1), bias=False)\n        (bn3): BatchNorm2d(2048, eps=1e-05, momentum=0.1, affine=True, track_running_stats=True)\n        (relu): ReLU(inplace=True)\n        (downsample): Sequential(\n          (0): Conv2d(3072, 2048, kernel_size=(1, 1), stride=(2, 2), bias=False)\n          (1): BatchNorm2d(2048, eps=1e-05, momentum=0.1, affine=True, track_running_stats=True)\n        )\n      )\n      (1): Bottleneck(\n        (conv1): Conv2d(2048, 512, kernel_size=(1, 1), stride=(1, 1), bias=False)\n        (bn1): BatchNorm2d(512, eps=1e-05, momentum=0.1, affine=True, track_running_stats=True)\n        (conv2): Conv2d(512, 512, kernel_size=(3, 3), stride=(1, 1), padding=(1, 1), bias=False)\n        (bn2): BatchNorm2d(512, eps=1e-05, momentum=0.1, affine=True, track_running_stats=True)\n        (conv3): Conv2d(512, 2048, kernel_size=(1, 1), stride=(1, 1), bias=False)\n        (bn3): BatchNorm2d(2048, eps=1e-05, momentum=0.1, affine=True, track_running_stats=True)\n        (relu): ReLU(inplace=True)\n      )\n      (2): Bottleneck(\n        (conv1): Conv2d(2048, 512, kernel_size=(1, 1), stride=(1, 1), bias=False)\n        (bn1): BatchNorm2d(512, eps=1e-05, momentum=0.1, affine=True, track_running_stats=True)\n        (conv2): Conv2d(512, 512, kernel_size=(3, 3), stride=(1, 1), padding=(1, 1), bias=False)\n        (bn2): BatchNorm2d(512, eps=1e-05, momentum=0.1, affine=True, track_running_stats=True)\n        (conv3): Conv2d(512, 2048, kernel_size=(1, 1), stride=(1, 1), bias=False)\n        (bn3): BatchNorm2d(2048, eps=1e-05, momentum=0.1, affine=True, track_running_stats=True)\n        (relu): ReLU(inplace=True)\n      )\n    )\n    (conv1): Conv2d(256, 512, kernel_size=(3, 3), stride=(2, 2), padding=(1, 1), bias=False)\n    (bn1): BatchNorm2d(512, eps=1e-05, momentum=0.1, affine=True, track_running_stats=True)\n    (relu): ReLU(inplace=True)\n    (conv2): Conv2d(512, 1024, kernel_size=(3, 3), stride=(2, 2), padding=(1, 1), bias=False)\n    (bn2): BatchNorm2d(1024, eps=1e-05, momentum=0.1, affine=True, track_running_stats=True)\n    (conv3): Conv2d(512, 1024, kernel_size=(3, 3), stride=(2, 2), padding=(1, 1), bias=False)\n    (bn3): BatchNorm2d(1024, eps=1e-05, momentum=0.1, affine=True, track_running_stats=True)\n  )\n  (decoder): ResNet(\n    (layer1): Sequential(\n      (0): DecoderBottleneck(\n        (conv1): Conv2d(2048, 512, kernel_size=(1, 1), stride=(1, 1), bias=False)\n        (bn1): BatchNorm2d(512, eps=1e-05, momentum=0.1, affine=True, track_running_stats=True)\n        (conv2): ConvTranspose2d(512, 512, kernel_size=(2, 2), stride=(2, 2), bias=False)\n        (bn2): BatchNorm2d(512, eps=1e-05, momentum=0.1, affine=True, track_running_stats=True)\n        (conv3): Conv2d(512, 1024, kernel_size=(1, 1), stride=(1, 1), bias=False)\n        (bn3): BatchNorm2d(1024, eps=1e-05, momentum=0.1, affine=True, track_running_stats=True)\n        (relu): ReLU(inplace=True)\n        (upsample): Sequential(\n          (0): ConvTranspose2d(2048, 1024, kernel_size=(2, 2), stride=(2, 2), bias=False)\n          (1): BatchNorm2d(1024, eps=1e-05, momentum=0.1, affine=True, track_running_stats=True)\n        )\n      )\n      (1): DecoderBottleneck(\n        (conv1): Conv2d(1024, 512, kernel_size=(1, 1), stride=(1, 1), bias=False)\n        (bn1): BatchNorm2d(512, eps=1e-05, momentum=0.1, affine=True, track_running_stats=True)\n        (conv2): Conv2d(512, 512, kernel_size=(3, 3), stride=(1, 1), padding=(1, 1), bias=False)\n        (bn2): BatchNorm2d(512, eps=1e-05, momentum=0.1, affine=True, track_running_stats=True)\n        (conv3): Conv2d(512, 1024, kernel_size=(1, 1), stride=(1, 1), bias=False)\n        (bn3): BatchNorm2d(1024, eps=1e-05, momentum=0.1, affine=True, track_running_stats=True)\n        (relu): ReLU(inplace=True)\n      )\n      (2): DecoderBottleneck(\n        (conv1): Conv2d(1024, 512, kernel_size=(1, 1), stride=(1, 1), bias=False)\n        (bn1): BatchNorm2d(512, eps=1e-05, momentum=0.1, affine=True, track_running_stats=True)\n        (conv2): Conv2d(512, 512, kernel_size=(3, 3), stride=(1, 1), padding=(1, 1), bias=False)\n        (bn2): BatchNorm2d(512, eps=1e-05, momentum=0.1, affine=True, track_running_stats=True)\n        (conv3): Conv2d(512, 1024, kernel_size=(1, 1), stride=(1, 1), bias=False)\n        (bn3): BatchNorm2d(1024, eps=1e-05, momentum=0.1, affine=True, track_running_stats=True)\n        (relu): ReLU(inplace=True)\n      )\n    )\n    (layer2): Sequential(\n      (0): DecoderBottleneck(\n        (conv1): Conv2d(1024, 256, kernel_size=(1, 1), stride=(1, 1), bias=False)\n        (bn1): BatchNorm2d(256, eps=1e-05, momentum=0.1, affine=True, track_running_stats=True)\n        (conv2): ConvTranspose2d(256, 256, kernel_size=(2, 2), stride=(2, 2), bias=False)\n        (bn2): BatchNorm2d(256, eps=1e-05, momentum=0.1, affine=True, track_running_stats=True)\n        (conv3): Conv2d(256, 512, kernel_size=(1, 1), stride=(1, 1), bias=False)\n        (bn3): BatchNorm2d(512, eps=1e-05, momentum=0.1, affine=True, track_running_stats=True)\n        (relu): ReLU(inplace=True)\n        (upsample): Sequential(\n          (0): ConvTranspose2d(1024, 512, kernel_size=(2, 2), stride=(2, 2), bias=False)\n          (1): BatchNorm2d(512, eps=1e-05, momentum=0.1, affine=True, track_running_stats=True)\n        )\n      )\n      (1): DecoderBottleneck(\n        (conv1): Conv2d(512, 256, kernel_size=(1, 1), stride=(1, 1), bias=False)\n        (bn1): BatchNorm2d(256, eps=1e-05, momentum=0.1, affine=True, track_running_stats=True)\n        (conv2): Conv2d(256, 256, kernel_size=(3, 3), stride=(1, 1), padding=(1, 1), bias=False)\n        (bn2): BatchNorm2d(256, eps=1e-05, momentum=0.1, affine=True, track_running_stats=True)\n        (conv3): Conv2d(256, 512, kernel_size=(1, 1), stride=(1, 1), bias=False)\n        (bn3): BatchNorm2d(512, eps=1e-05, momentum=0.1, affine=True, track_running_stats=True)\n        (relu): ReLU(inplace=True)\n      )\n      (2): DecoderBottleneck(\n        (conv1): Conv2d(512, 256, kernel_size=(1, 1), stride=(1, 1), bias=False)\n        (bn1): BatchNorm2d(256, eps=1e-05, momentum=0.1, affine=True, track_running_stats=True)\n        (conv2): Conv2d(256, 256, kernel_size=(3, 3), stride=(1, 1), padding=(1, 1), bias=False)\n        (bn2): BatchNorm2d(256, eps=1e-05, momentum=0.1, affine=True, track_running_stats=True)\n        (conv3): Conv2d(256, 512, kernel_size=(1, 1), stride=(1, 1), bias=False)\n        (bn3): BatchNorm2d(512, eps=1e-05, momentum=0.1, affine=True, track_running_stats=True)\n        (relu): ReLU(inplace=True)\n      )\n      (3): DecoderBottleneck(\n        (conv1): Conv2d(512, 256, kernel_size=(1, 1), stride=(1, 1), bias=False)\n        (bn1): BatchNorm2d(256, eps=1e-05, momentum=0.1, affine=True, track_running_stats=True)\n        (conv2): Conv2d(256, 256, kernel_size=(3, 3), stride=(1, 1), padding=(1, 1), bias=False)\n        (bn2): BatchNorm2d(256, eps=1e-05, momentum=0.1, affine=True, track_running_stats=True)\n        (conv3): Conv2d(256, 512, kernel_size=(1, 1), stride=(1, 1), bias=False)\n        (bn3): BatchNorm2d(512, eps=1e-05, momentum=0.1, affine=True, track_running_stats=True)\n        (relu): ReLU(inplace=True)\n      )\n    )\n    (layer3): Sequential(\n      (0): DecoderBottleneck(\n        (conv1): Conv2d(512, 128, kernel_size=(1, 1), stride=(1, 1), bias=False)\n        (bn1): BatchNorm2d(128, eps=1e-05, momentum=0.1, affine=True, track_running_stats=True)\n        (conv2): ConvTranspose2d(128, 128, kernel_size=(2, 2), stride=(2, 2), bias=False)\n        (bn2): BatchNorm2d(128, eps=1e-05, momentum=0.1, affine=True, track_running_stats=True)\n        (conv3): Conv2d(128, 256, kernel_size=(1, 1), stride=(1, 1), bias=False)\n        (bn3): BatchNorm2d(256, eps=1e-05, momentum=0.1, affine=True, track_running_stats=True)\n        (relu): ReLU(inplace=True)\n        (upsample): Sequential(\n          (0): ConvTranspose2d(512, 256, kernel_size=(2, 2), stride=(2, 2), bias=False)\n          (1): BatchNorm2d(256, eps=1e-05, momentum=0.1, affine=True, track_running_stats=True)\n        )\n      )\n      (1): DecoderBottleneck(\n        (conv1): Conv2d(256, 128, kernel_size=(1, 1), stride=(1, 1), bias=False)\n        (bn1): BatchNorm2d(128, eps=1e-05, momentum=0.1, affine=True, track_running_stats=True)\n        (conv2): Conv2d(128, 128, kernel_size=(3, 3), stride=(1, 1), padding=(1, 1), bias=False)\n        (bn2): BatchNorm2d(128, eps=1e-05, momentum=0.1, affine=True, track_running_stats=True)\n        (conv3): Conv2d(128, 256, kernel_size=(1, 1), stride=(1, 1), bias=False)\n        (bn3): BatchNorm2d(256, eps=1e-05, momentum=0.1, affine=True, track_running_stats=True)\n        (relu): ReLU(inplace=True)\n      )\n      (2): DecoderBottleneck(\n        (conv1): Conv2d(256, 128, kernel_size=(1, 1), stride=(1, 1), bias=False)\n        (bn1): BatchNorm2d(128, eps=1e-05, momentum=0.1, affine=True, track_running_stats=True)\n        (conv2): Conv2d(128, 128, kernel_size=(3, 3), stride=(1, 1), padding=(1, 1), bias=False)\n        (bn2): BatchNorm2d(128, eps=1e-05, momentum=0.1, affine=True, track_running_stats=True)\n        (conv3): Conv2d(128, 256, kernel_size=(1, 1), stride=(1, 1), bias=False)\n        (bn3): BatchNorm2d(256, eps=1e-05, momentum=0.1, affine=True, track_running_stats=True)\n        (relu): ReLU(inplace=True)\n      )\n      (3): DecoderBottleneck(\n        (conv1): Conv2d(256, 128, kernel_size=(1, 1), stride=(1, 1), bias=False)\n        (bn1): BatchNorm2d(128, eps=1e-05, momentum=0.1, affine=True, track_running_stats=True)\n        (conv2): Conv2d(128, 128, kernel_size=(3, 3), stride=(1, 1), padding=(1, 1), bias=False)\n        (bn2): BatchNorm2d(128, eps=1e-05, momentum=0.1, affine=True, track_running_stats=True)\n        (conv3): Conv2d(128, 256, kernel_size=(1, 1), stride=(1, 1), bias=False)\n        (bn3): BatchNorm2d(256, eps=1e-05, momentum=0.1, affine=True, track_running_stats=True)\n        (relu): ReLU(inplace=True)\n      )\n      (4): DecoderBottleneck(\n        (conv1): Conv2d(256, 128, kernel_size=(1, 1), stride=(1, 1), bias=False)\n        (bn1): BatchNorm2d(128, eps=1e-05, momentum=0.1, affine=True, track_running_stats=True)\n        (conv2): Conv2d(128, 128, kernel_size=(3, 3), stride=(1, 1), padding=(1, 1), bias=False)\n        (bn2): BatchNorm2d(128, eps=1e-05, momentum=0.1, affine=True, track_running_stats=True)\n        (conv3): Conv2d(128, 256, kernel_size=(1, 1), stride=(1, 1), bias=False)\n        (bn3): BatchNorm2d(256, eps=1e-05, momentum=0.1, affine=True, track_running_stats=True)\n        (relu): ReLU(inplace=True)\n      )\n      (5): DecoderBottleneck(\n        (conv1): Conv2d(256, 128, kernel_size=(1, 1), stride=(1, 1), bias=False)\n        (bn1): BatchNorm2d(128, eps=1e-05, momentum=0.1, affine=True, track_running_stats=True)\n        (conv2): Conv2d(128, 128, kernel_size=(3, 3), stride=(1, 1), padding=(1, 1), bias=False)\n        (bn2): BatchNorm2d(128, eps=1e-05, momentum=0.1, affine=True, track_running_stats=True)\n        (conv3): Conv2d(128, 256, kernel_size=(1, 1), stride=(1, 1), bias=False)\n        (bn3): BatchNorm2d(256, eps=1e-05, momentum=0.1, affine=True, track_running_stats=True)\n        (relu): ReLU(inplace=True)\n      )\n    )\n  )\n)"
     },
     "execution_count": 18,
     "metadata": {},
     "output_type": "execute_result"
    }
   ],
   "source": [
    "save_path =  os.path.join(cwd, \"SavedModels\")\n",
    "save_path =  os.path.join(save_path, \"Checkpoints\")\n",
    "model_path = os.path.join(save_path, \"HeadCT_SavedModel_ckpt_159.pt\")\n",
    "model = ReverseDistillationModel(encoder=CustomResNet(model=full_w_resnet),\n",
    "                                 oceb=OCBE(Bottleneck, 3),\n",
    "                                 decoder=de_wide_resnet50_2())\n",
    "model.load_state_dict(torch.load(model_path))\n",
    "model.eval()\n",
    "\n"
   ],
   "metadata": {
    "collapsed": false,
    "pycharm": {
     "name": "#%%\n"
    }
   }
  },
  {
   "cell_type": "code",
   "execution_count": 25,
   "outputs": [],
   "source": [
    "torch.cuda.empty_cache()"
   ],
   "metadata": {
    "collapsed": false,
    "pycharm": {
     "name": "#%%\n"
    }
   }
  },
  {
   "cell_type": "code",
   "execution_count": 29,
   "outputs": [],
   "source": [
    "from PIL import Image\n",
    "image = Image.new('RGB', (224, 224), (0, 0, 0))\n",
    "image.save(os.path.join(cwd, \"good_mask.png\"), \"PNG\")"
   ],
   "metadata": {
    "collapsed": false,
    "pycharm": {
     "name": "#%%\n"
    }
   }
  },
  {
   "cell_type": "code",
   "execution_count": 28,
   "outputs": [],
   "source": [
    "image_list = list()\n",
    "gt_list = list()\n",
    "path = os.path.join(cwd, \"data\")\n",
    "test_path =  os.path.join(path, \"Head_CT\")\n",
    "\n",
    "\n",
    "\n",
    "test_dirs = os.listdir(test_path)\n",
    "for test_dir in test_dirs:\n",
    "    cur_dir = os.path.join(test_path, test_dir)\n",
    "    if \"yes\" in cur_dir:\n",
    "        label = 1\n",
    "        for i, file in enumerate(os.listdir(cur_dir)):\n",
    "            image_list.append(os.path.join(cur_dir, file))\n",
    "            gt_list.append(label)\n",
    "\n"
   ],
   "metadata": {
    "collapsed": false,
    "pycharm": {
     "name": "#%%\n"
    }
   }
  },
  {
   "cell_type": "code",
   "execution_count": 20,
   "outputs": [],
   "source": [
    "class MyTestDataset(Dataset):\n",
    "    def __init__(self, image_paths, ground_truth_paths, transform, target_transform=None, img_w = 224, img_h = 224):\n",
    "        self.image_paths = image_paths\n",
    "        self.ground_truth_paths = ground_truth_paths\n",
    "        self.transform = transform\n",
    "        self.target_transform = target_transform\n",
    "\n",
    "    def __getitem__(self, index):\n",
    "        image = pil_loader(self.image_paths[index])\n",
    "\n",
    "        gt = self.ground_truth_paths[index]\n",
    "        if self.transform:\n",
    "            image = self.transform(image)\n",
    "\n",
    "        x, y = image, gt\n",
    "        return x, y\n",
    "\n",
    "    def __len__(self):\n",
    "        return len(self.image_paths)\n"
   ],
   "metadata": {
    "collapsed": false,
    "pycharm": {
     "name": "#%%\n"
    }
   }
  },
  {
   "cell_type": "code",
   "execution_count": 21,
   "outputs": [
    {
     "name": "stdout",
     "output_type": "stream",
     "text": [
      "10\n",
      "10\n",
      "100\n",
      "100\n",
      "110\n",
      "110\n"
     ]
    }
   ],
   "source": [
    "#Compute AUROC\n",
    "from sklearn.metrics import roc_curve, auc # roc curve tools\n",
    "an_maps = list()\n",
    "gts = list()\n",
    "\n",
    "validation_loader = torch.utils.data.DataLoader(dataset, batch_size=1,\n",
    "                                                sampler=valid_sampler)\n",
    "\n",
    "for (image, _) in validation_loader:\n",
    "    an_map = model.to(\"cpu\").forward(image)\n",
    "    gts.append(0)\n",
    "    an_maps.append(torch.max(an_map.detach()))\n",
    "\n",
    "print(len(an_maps))\n",
    "print(len(gts))\n",
    "\n",
    "preprocess = transforms.Compose([\n",
    "    transforms.Resize((img_h,img_w)),\n",
    "    transforms.CenterCrop(224),\n",
    "    transforms.ToTensor(),\n",
    "    transforms.Normalize(mean=[0.485, 0.456, 0.406], std=[0.229, 0.224, 0.225]),\n",
    "])\n",
    "\n",
    "dataset = MyTestDataset(image_list, gt_list, preprocess)\n",
    "batch_size = 1\n",
    "validation_split = 1\n",
    "shuffle_dataset = False\n",
    "random_seed= 42\n",
    "\n",
    "# Creating data indices for training and validation splits:\n",
    "dataset_size = len(dataset)\n",
    "indices = list(range(dataset_size))\n",
    "split = int(np.floor(validation_split * dataset_size))\n",
    "if shuffle_dataset :\n",
    "    np.random.seed(random_seed)\n",
    "    np.random.shuffle(indices)\n",
    "train_indices, val_indices = indices[split:], indices[:split]\n",
    "\n",
    "# Creating PT data samplers and loaders:\n",
    "train_sampler = SubsetRandomSampler(train_indices)\n",
    "valid_sampler = SubsetRandomSampler(val_indices)\n",
    "\n",
    "test_loader = torch.utils.data.DataLoader(dataset, batch_size=batch_size,\n",
    "                                           sampler=valid_sampler)\n",
    "print(len(dataset))\n",
    "print(len(test_loader.sampler))\n",
    "\n",
    "for (image, gt) in test_loader:\n",
    "    an_map = model.to(\"cpu\").forward(image)\n",
    "\n",
    "    gts.append(gt)\n",
    "    #for an_px in an_map.detach():\n",
    "    #print(torch.max(an_map.detach()))\n",
    "    an_maps.append(torch.max(an_map.detach()))\n",
    "\n",
    "print(len(an_maps))\n",
    "print(len(gts))"
   ],
   "metadata": {
    "collapsed": false,
    "pycharm": {
     "name": "#%%\n"
    }
   }
  },
  {
   "cell_type": "code",
   "execution_count": 29,
   "outputs": [
    {
     "name": "stdout",
     "output_type": "stream",
     "text": [
      "10\n",
      "10\n",
      "100\n",
      "100\n",
      "110\n",
      "110\n"
     ]
    }
   ],
   "source": [
    "#Compute AUROC\n",
    "#Here we are thresholding the LOSS instead of the anomaly detection score of RKD\n",
    "from sklearn.metrics import roc_curve, auc # roc curve tools\n",
    "an_maps = list()\n",
    "gts = list()\n",
    "validation_loader = torch.utils.data.DataLoader(dataset, batch_size=1,\n",
    "                                                sampler=valid_sampler)\n",
    "for (image, _) in validation_loader:\n",
    "    encoded = model.encoder(image)\n",
    "    #Output of Student\n",
    "    reconstructed = model.decoder(model.oceb(encoded))\n",
    "    # Calculating the loss function\n",
    "    loss = kd_loss(encoded, reconstructed)\n",
    "    gts.append(0)\n",
    "    an_maps.append(loss.detach())\n",
    "\n",
    "print(len(an_maps))\n",
    "print(len(gts))\n",
    "\n",
    "dataset = MyTestDataset(image_list, gt_list, preprocess)\n",
    "batch_size = 1\n",
    "validation_split = 1\n",
    "shuffle_dataset = False\n",
    "random_seed= 42\n",
    "\n",
    "# Creating data indices for training and validation splits:\n",
    "dataset_size = len(dataset)\n",
    "indices = list(range(dataset_size))\n",
    "split = int(np.floor(validation_split * dataset_size))\n",
    "if shuffle_dataset :\n",
    "    np.random.seed(random_seed)\n",
    "    np.random.shuffle(indices)\n",
    "train_indices, val_indices = indices[split:], indices[:split]\n",
    "\n",
    "# Creating PT data samplers and loaders:\n",
    "train_sampler = SubsetRandomSampler(train_indices)\n",
    "valid_sampler = SubsetRandomSampler(val_indices)\n",
    "\n",
    "test_loader = torch.utils.data.DataLoader(dataset, batch_size=batch_size,\n",
    "                                           sampler=valid_sampler)\n",
    "print(len(dataset))\n",
    "print(len(test_loader.sampler))\n",
    "\n",
    "for (image, gt) in test_loader:\n",
    "    encoded = model.encoder(image)\n",
    "    #Output of Student\n",
    "    reconstructed = model.decoder(model.oceb(encoded))\n",
    "    # Calculating the loss function\n",
    "    loss = kd_loss(encoded, reconstructed)\n",
    "    gts.append(gt)\n",
    "    #for an_px in an_map.detach():\n",
    "    #print(torch.max(an_map.detach()))\n",
    "    an_maps.append(loss.detach())\n",
    "\n",
    "print(len(an_maps))\n",
    "print(len(gts))\n"
   ],
   "metadata": {
    "collapsed": false,
    "pycharm": {
     "name": "#%%\n"
    }
   }
  },
  {
   "cell_type": "code",
   "execution_count": 30,
   "outputs": [
    {
     "name": "stdout",
     "output_type": "stream",
     "text": [
      "Threshold sorted values are: (0.54, 0.6377338)\n"
     ]
    },
    {
     "name": "stderr",
     "output_type": "stream",
     "text": [
      "C:\\Users\\user\\AppData\\Local\\Temp\\ipykernel_4012\\3506520834.py:1: VisibleDeprecationWarning: Creating an ndarray from ragged nested sequences (which is a list-or-tuple of lists-or-tuples-or ndarrays with different lengths or shapes) is deprecated. If you meant to do this, you must specify 'dtype=object' when creating the ndarray.\n",
      "  gts =  np.asarray(gts).astype(int)\n"
     ]
    }
   ],
   "source": [
    "gts =  np.asarray(gts).astype(int)\n",
    "fpr, tpr, thresholds = roc_curve(gts,an_maps)\n",
    "roc_auc = auc(fpr,tpr)\n",
    "#Compute  Youden’s J statistic wrt each threshold and sort results in decreasing order\n",
    "optimal_proba_cutoff = sorted(list(zip(np.abs(tpr - fpr), thresholds)), key=lambda i: i[0], reverse=True)\n",
    "print(\"Threshold sorted values are:\", optimal_proba_cutoff[0])"
   ],
   "metadata": {
    "collapsed": false,
    "pycharm": {
     "name": "#%%\n"
    }
   }
  },
  {
   "cell_type": "code",
   "execution_count": 33,
   "outputs": [
    {
     "name": "stdout",
     "output_type": "stream",
     "text": [
      "Threshold optimal cutoff value is: 0.6377338\n"
     ]
    },
    {
     "data": {
      "text/plain": "<Figure size 432x288 with 1 Axes>",
      "image/png": "[encoded data removed]"
     },
     "metadata": {},
     "output_type": "display_data"
    }
   ],
   "source": [
    "\n",
    "\n",
    "import matplotlib.pyplot as plt\n",
    "#Plot AUROC and print best threshold\n",
    "fig, ax = plt.subplots(1,1)\n",
    "optimal_threshold = optimal_proba_cutoff[0][-1]#find_optimal_cutoff(fpr, tpr, thresholds)\n",
    "print(\"Threshold optimal cutoff value is:\", optimal_threshold)\n",
    "\n",
    "ax.plot(fpr, tpr, label='ROC curve (area = %0.4f)' % roc_auc)\n",
    "ax.plot([0, 1], [0, 1], 'k--')\n",
    "ax.set_xlim([0.0, 1.0])\n",
    "ax.set_ylim([0.0, 1.05])\n",
    "ax.set_xlabel('False Positive Rate')\n",
    "ax.set_ylabel('True Positive Rate')\n",
    "ax.set_title('Receiver operating characteristic for {0}'.format(item))\n",
    "ax.legend(loc=\"lower right\")\n",
    "fig.savefig(os.path.join(cwd, \"ROC_{0}.png\".format(item)))"
   ],
   "metadata": {
    "collapsed": false,
    "pycharm": {
     "name": "#%%\n"
    }
   }
  },
  {
   "cell_type": "code",
   "execution_count": 26,
   "outputs": [],
   "source": [
    "#To calculate the per-region overlap, real-valued anomaly scores are thresholded to obtain a\n",
    "# binary prediction for each pixel in the test set.\n",
    "# Then, the percentage of correctly predicted pixels is computed for each annotated defect region\n",
    "# in the ground-truth.\n",
    "# The average over all defects yields the final PRO value.\n",
    "#https://link.springer.com/article/10.1007/s11263-022-01578-9\n",
    "def compute_pro(anomaly_map, ground_truth, threshold = 0.01):\n",
    "    binary_class = list()\n",
    "    correct_predicted = 0\n",
    "    anomaly_region = 0\n",
    "    for px in anomaly_map:\n",
    "        #print(\"Anomaly map pixel: \" + str(px))\n",
    "        if px >= threshold:\n",
    "            binary_class.append(1)\n",
    "        else:\n",
    "            binary_class.append(0)\n",
    "    for i, px in enumerate(ground_truth):\n",
    "        #print(\"GT pixel: \"+ str(px))\n",
    "\n",
    "        if px == 1:\n",
    "            anomaly_region +=1\n",
    "            if binary_class[i] == 1:\n",
    "                correct_predicted += 1\n",
    "\n",
    "\n",
    "\n",
    "    pro = correct_predicted/anomaly_region\n",
    "    print(\"Correct predicted pixels: \" + str(correct_predicted))\n",
    "    print(\"Anomaly region pixels: \" + str(anomaly_region))\n",
    "    print(\"Predicted anomaly pixels: \" + str(binary_class.count(1)))\n",
    "    return pro"
   ],
   "metadata": {
    "collapsed": false,
    "pycharm": {
     "name": "#%%\n"
    }
   }
  },
  {
   "cell_type": "code",
   "execution_count": 62,
   "outputs": [
    {
     "name": "stdout",
     "output_type": "stream",
     "text": [
      "Correct predicted pixels: 286406\n",
      "Anomaly region pixels: 413063\n",
      "Predicted anomaly pixels: 1243491\n",
      "0.69337122908612\n"
     ]
    }
   ],
   "source": [
    "#Compute PRO\n",
    "pro = compute_pro(an_maps, gts, optimal_threshold)\n",
    "print(pro)"
   ],
   "metadata": {
    "collapsed": false,
    "pycharm": {
     "name": "#%%\n"
    }
   }
  },
  {
   "cell_type": "code",
   "execution_count": 47,
   "outputs": [
    {
     "name": "stdout",
     "output_type": "stream",
     "text": [
      "torch.Size([224, 224, 3])\n",
      "torch.Size([224, 224, 1])\n"
     ]
    }
   ],
   "source": [
    "image = pil_loader(\"data/Head_CT/no/104.png\")\n",
    "image = preprocess(image)\n",
    "image = image[None, :]\n",
    "anomaly_map = model.to('cpu').forward(image)\n",
    "\n",
    "im = torch.swapaxes(image[0], 0, -1)\n",
    "im = torch.swapaxes(im, 0, 1)\n",
    "an_map = torch.swapaxes(anomaly_map[0], 0, -1)\n",
    "an_map = torch.swapaxes(an_map, 0, 1)\n",
    "\n",
    "\n",
    "print(im.shape)\n",
    "print(an_map.shape)"
   ],
   "metadata": {
    "collapsed": false,
    "pycharm": {
     "name": "#%%\n"
    }
   }
  },
  {
   "cell_type": "code",
   "execution_count": 48,
   "outputs": [
    {
     "name": "stderr",
     "output_type": "stream",
     "text": [
      "Clipping input data to the valid range for imshow with RGB data ([0..1] for floats or [0..255] for integers).\n"
     ]
    },
    {
     "data": {
      "text/plain": "<matplotlib.image.AxesImage at 0x1c675f3f0d0>"
     },
     "execution_count": 48,
     "metadata": {},
     "output_type": "execute_result"
    },
    {
     "data": {
      "text/plain": "<Figure size 432x288 with 1 Axes>",
      "image/png": "[encoded data removed]"
     },
     "metadata": {},
     "output_type": "display_data"
    }
   ],
   "source": [
    "plt.imshow(im)"
   ],
   "metadata": {
    "collapsed": false,
    "pycharm": {
     "name": "#%%\n"
    }
   }
  },
  {
   "cell_type": "code",
   "execution_count": 49,
   "outputs": [
    {
     "data": {
      "text/plain": "<matplotlib.image.AxesImage at 0x1c675f62550>"
     },
     "execution_count": 49,
     "metadata": {},
     "output_type": "execute_result"
    },
    {
     "data": {
      "text/plain": "<Figure size 432x288 with 1 Axes>",
      "image/png": "[encoded data removed]"
     },
     "metadata": {},
     "output_type": "display_data"
    }
   ],
   "source": [
    "plt.imshow(an_map.detach().numpy())"
   ],
   "metadata": {
    "collapsed": false,
    "pycharm": {
     "name": "#%%\n"
    }
   }
  },
  {
   "cell_type": "code",
   "execution_count": 31,
   "outputs": [
    {
     "data": {
      "text/plain": "<matplotlib.image.AxesImage at 0x13cf75d2220>"
     },
     "execution_count": 31,
     "metadata": {},
     "output_type": "execute_result"
    },
    {
     "data": {
      "text/plain": "<Figure size 432x288 with 1 Axes>",
      "image/png": "[encoded data removed]"
     },
     "metadata": {},
     "output_type": "display_data"
    }
   ],
   "source": [
    "gt = pil_loader(\"data/mvtec_AD/zipper/ground_truth/combined/000_mask.png\")\n",
    "preprocess2 = transforms.Compose([\n",
    "    #transforms.Resize((img_h,img_w)),\n",
    "    transforms.CenterCrop(224),\n",
    "    transforms.ToTensor(),\n",
    "    #transforms.Normalize(mean=[0.485], std=[0.229]),\n",
    "])\n",
    "\n",
    "gt = gt.resize((img_w, img_h), Image.NEAREST)\n",
    "gt = preprocess2(gt)\n",
    "gt = torch.swapaxes(gt[0], 0, -1)\n",
    "gt = torch.swapaxes(gt, 0, 1)\n",
    "plt.imshow(gt)\n",
    "\n"
   ],
   "metadata": {
    "collapsed": false,
    "pycharm": {
     "name": "#%%\n"
    }
   }
  },
  {
   "cell_type": "code",
   "execution_count": 38,
   "outputs": [],
   "source": [
    "import pandas as pd\n",
    "def find_optimal_cutoff(fpr, tpr, threshold):\n",
    "    \"\"\" Find the optimal probability cutoff point for a classification model related to event rate\n",
    "    Parameters\n",
    "    ----------\n",
    "    target : Matrix with dependent or target data, where rows are observations\n",
    "\n",
    "    predicted : Matrix with predicted data, where rows are observations\n",
    "\n",
    "    Returns\n",
    "    -------\n",
    "    list type, with optimal cutoff value\n",
    "\n",
    "    \"\"\"\n",
    "    i = np.arange(len(tpr))\n",
    "    roc = pd.DataFrame({'tf' : pd.Series(tpr-(1-fpr), index=i), 'threshold' : pd.Series(threshold, index=i)})\n",
    "    roc_t = roc.iloc[(roc.tf-0).abs().argsort()[:1]]\n",
    "\n",
    "    return list(roc_t['threshold'])\n",
    "\n",
    "\n"
   ],
   "metadata": {
    "collapsed": false,
    "pycharm": {
     "name": "#%%\n"
    }
   }
  }
 ],
 "metadata": {
  "kernelspec": {
   "name": "my-torch",
   "language": "python",
   "display_name": "my-torch"
  },
  "language_info": {
   "codemirror_mode": {
    "name": "ipython",
    "version": 2
   },
   "file_extension": ".py",
   "mimetype": "text/x-python",
   "name": "python",
   "nbconvert_exporter": "python",
   "pygments_lexer": "ipython2",
   "version": "2.7.6"
  }
 },
 "nbformat": 4,
 "nbformat_minor": 0
}